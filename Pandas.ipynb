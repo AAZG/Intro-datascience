{
 "cells": [
  {
   "cell_type": "code",
   "metadata": {
    "cell_id": "e3a6ed1a-6b9e-4b96-aff1-66aa5832176b",
    "deepnote_cell_type": "code"
   },
   "source": "import pandas as pd\nimport numpy as np",
   "outputs": [],
   "execution_count": null
  },
  {
   "cell_type": "markdown",
   "source": "# Creando un dataframe",
   "metadata": {
    "cell_id": "00001-af2ce449-91b7-421d-9562-bca6dddbe5fc",
    "deepnote_cell_type": "markdown"
   }
  },
  {
   "cell_type": "code",
   "metadata": {
    "scrolled": true,
    "cell_id": "00002-1680eac9-31aa-4801-9bd2-38968eaef493",
    "deepnote_cell_type": "code"
   },
   "source": "df = pd.read_csv(r'mastermind-220421-143506.csv', \n                 index_col=[0])",
   "outputs": [],
   "execution_count": null
  },
  {
   "cell_type": "code",
   "metadata": {
    "cell_id": "00003-6c7e369f-d89c-4008-a90f-9074ab5e080a",
    "deepnote_cell_type": "code"
   },
   "source": "df",
   "outputs": [
    {
     "data": {
      "text/html": "<div>\n<style scoped>\n    .dataframe tbody tr th:only-of-type {\n        vertical-align: middle;\n    }\n\n    .dataframe tbody tr th {\n        vertical-align: top;\n    }\n\n    .dataframe thead th {\n        text-align: right;\n    }\n</style>\n<table border=\"1\" class=\"dataframe\">\n  <thead>\n    <tr style=\"text-align: right;\">\n      <th></th>\n      <th>nombre</th>\n      <th>especialidad</th>\n      <th>edad</th>\n      <th>visitas</th>\n      <th>sexo</th>\n    </tr>\n  </thead>\n  <tbody>\n    <tr>\n      <th>0</th>\n      <td>SFDX Show</td>\n      <td>Hardware</td>\n      <td>30</td>\n      <td>130855</td>\n      <td>H</td>\n    </tr>\n    <tr>\n      <th>1</th>\n      <td>Sara Nogark</td>\n      <td>Edición de vídeo</td>\n      <td>29</td>\n      <td>114175</td>\n      <td>M</td>\n    </tr>\n    <tr>\n      <th>2</th>\n      <td>Nate Gentile</td>\n      <td>Programación</td>\n      <td>31</td>\n      <td>142545</td>\n      <td>H</td>\n    </tr>\n    <tr>\n      <th>3</th>\n      <td>Bettatech</td>\n      <td>Programación</td>\n      <td>31</td>\n      <td>149462</td>\n      <td>H</td>\n    </tr>\n    <tr>\n      <th>4</th>\n      <td>Antonio Sarosi</td>\n      <td>Sistemas Operativos</td>\n      <td>28</td>\n      <td>132008</td>\n      <td>H</td>\n    </tr>\n    <tr>\n      <th>5</th>\n      <td>Edgar Pons</td>\n      <td>Robótica</td>\n      <td>29</td>\n      <td>143620</td>\n      <td>H</td>\n    </tr>\n    <tr>\n      <th>6</th>\n      <td>s4vitar</td>\n      <td>Hacking</td>\n      <td>28</td>\n      <td>132567</td>\n      <td>H</td>\n    </tr>\n  </tbody>\n</table>\n</div>",
      "text/plain": "           nombre         especialidad  edad  visitas sexo\n0       SFDX Show             Hardware    30   130855    H\n1     Sara Nogark     Edición de vídeo    29   114175    M\n2    Nate Gentile         Programación    31   142545    H\n3       Bettatech         Programación    31   149462    H\n4  Antonio Sarosi  Sistemas Operativos    28   132008    H\n5      Edgar Pons             Robótica    29   143620    H\n6         s4vitar              Hacking    28   132567    H"
     },
     "execution_count": 99,
     "metadata": {},
     "output_type": "execute_result"
    }
   ],
   "execution_count": null
  },
  {
   "cell_type": "code",
   "metadata": {
    "cell_id": "00004-f30af803-ea33-4c6c-a9d4-158d7da68c95",
    "deepnote_cell_type": "code"
   },
   "source": "list(df['especialidad'])",
   "outputs": [
    {
     "data": {
      "text/plain": "['Hardware',\n 'Edición de vídeo',\n 'Programación',\n 'Programación',\n 'Sistemas Operativos',\n 'Robótica',\n 'Hacking']"
     },
     "execution_count": 100,
     "metadata": {},
     "output_type": "execute_result"
    }
   ],
   "execution_count": null
  },
  {
   "cell_type": "markdown",
   "source": "Desde un diccionario",
   "metadata": {
    "cell_id": "00005-7c6f9d10-18c4-469c-ba2c-7ef17d8646cf",
    "deepnote_cell_type": "markdown"
   }
  },
  {
   "cell_type": "code",
   "metadata": {
    "cell_id": "00006-596954c7-a01f-4759-a9be-ecff57443328",
    "deepnote_cell_type": "code"
   },
   "source": "datos = {'nombre':['SFDX Show', 'Sara Nogark', 'Nate Gentile', 'Bettatech', 'Antonio Sarosi', 'Edgar Pons', 's4vitar'],\n        'especialidad':list(df['especialidad']),\n        'edad':[np.random.randint(28, 31) for i in range(len(df['nombre']))],\n        'visitas':[np.random.randint(100000, 150000) for i in range(len(df['nombre']))]}",
   "outputs": [],
   "execution_count": null
  },
  {
   "cell_type": "code",
   "metadata": {
    "cell_id": "00007-aed4a7a3-f4ba-452e-be60-f7c2c3f1f383",
    "deepnote_cell_type": "code"
   },
   "source": "df_inventado = pd.DataFrame(datos)",
   "outputs": [],
   "execution_count": null
  },
  {
   "cell_type": "code",
   "metadata": {
    "cell_id": "00008-2a4ed6e9-250a-471b-8983-e9f04b101a60",
    "deepnote_cell_type": "code"
   },
   "source": "df_inventado",
   "outputs": [
    {
     "data": {
      "text/html": "<div>\n<style scoped>\n    .dataframe tbody tr th:only-of-type {\n        vertical-align: middle;\n    }\n\n    .dataframe tbody tr th {\n        vertical-align: top;\n    }\n\n    .dataframe thead th {\n        text-align: right;\n    }\n</style>\n<table border=\"1\" class=\"dataframe\">\n  <thead>\n    <tr style=\"text-align: right;\">\n      <th></th>\n      <th>nombre</th>\n      <th>especialidad</th>\n      <th>edad</th>\n      <th>visitas</th>\n    </tr>\n  </thead>\n  <tbody>\n    <tr>\n      <th>0</th>\n      <td>SFDX Show</td>\n      <td>Hardware</td>\n      <td>30</td>\n      <td>102490</td>\n    </tr>\n    <tr>\n      <th>1</th>\n      <td>Sara Nogark</td>\n      <td>Edición de vídeo</td>\n      <td>28</td>\n      <td>100857</td>\n    </tr>\n    <tr>\n      <th>2</th>\n      <td>Nate Gentile</td>\n      <td>Programación</td>\n      <td>29</td>\n      <td>140522</td>\n    </tr>\n    <tr>\n      <th>3</th>\n      <td>Bettatech</td>\n      <td>Programación</td>\n      <td>28</td>\n      <td>148545</td>\n    </tr>\n    <tr>\n      <th>4</th>\n      <td>Antonio Sarosi</td>\n      <td>Sistemas Operativos</td>\n      <td>28</td>\n      <td>119988</td>\n    </tr>\n    <tr>\n      <th>5</th>\n      <td>Edgar Pons</td>\n      <td>Robótica</td>\n      <td>30</td>\n      <td>124745</td>\n    </tr>\n    <tr>\n      <th>6</th>\n      <td>s4vitar</td>\n      <td>Hacking</td>\n      <td>29</td>\n      <td>141636</td>\n    </tr>\n  </tbody>\n</table>\n</div>",
      "text/plain": "           nombre         especialidad  edad  visitas\n0       SFDX Show             Hardware    30   102490\n1     Sara Nogark     Edición de vídeo    28   100857\n2    Nate Gentile         Programación    29   140522\n3       Bettatech         Programación    28   148545\n4  Antonio Sarosi  Sistemas Operativos    28   119988\n5      Edgar Pons             Robótica    30   124745\n6         s4vitar              Hacking    29   141636"
     },
     "execution_count": 103,
     "metadata": {},
     "output_type": "execute_result"
    }
   ],
   "execution_count": null
  },
  {
   "cell_type": "code",
   "metadata": {
    "cell_id": "00009-b702cecc-45df-408c-970e-18e8d3c58e39",
    "deepnote_cell_type": "code"
   },
   "source": "df_inventado['sexo'] = list(df['sexo'])",
   "outputs": [],
   "execution_count": null
  },
  {
   "cell_type": "code",
   "metadata": {
    "cell_id": "00010-5203f120-3e19-4451-979f-3f6498f6e160",
    "deepnote_cell_type": "code"
   },
   "source": "df_inventado",
   "outputs": [
    {
     "data": {
      "text/html": "<div>\n<style scoped>\n    .dataframe tbody tr th:only-of-type {\n        vertical-align: middle;\n    }\n\n    .dataframe tbody tr th {\n        vertical-align: top;\n    }\n\n    .dataframe thead th {\n        text-align: right;\n    }\n</style>\n<table border=\"1\" class=\"dataframe\">\n  <thead>\n    <tr style=\"text-align: right;\">\n      <th></th>\n      <th>nombre</th>\n      <th>especialidad</th>\n      <th>edad</th>\n      <th>visitas</th>\n      <th>sexo</th>\n    </tr>\n  </thead>\n  <tbody>\n    <tr>\n      <th>0</th>\n      <td>SFDX Show</td>\n      <td>Hardware</td>\n      <td>30</td>\n      <td>102490</td>\n      <td>H</td>\n    </tr>\n    <tr>\n      <th>1</th>\n      <td>Sara Nogark</td>\n      <td>Edición de vídeo</td>\n      <td>28</td>\n      <td>100857</td>\n      <td>M</td>\n    </tr>\n    <tr>\n      <th>2</th>\n      <td>Nate Gentile</td>\n      <td>Programación</td>\n      <td>29</td>\n      <td>140522</td>\n      <td>H</td>\n    </tr>\n    <tr>\n      <th>3</th>\n      <td>Bettatech</td>\n      <td>Programación</td>\n      <td>28</td>\n      <td>148545</td>\n      <td>H</td>\n    </tr>\n    <tr>\n      <th>4</th>\n      <td>Antonio Sarosi</td>\n      <td>Sistemas Operativos</td>\n      <td>28</td>\n      <td>119988</td>\n      <td>H</td>\n    </tr>\n    <tr>\n      <th>5</th>\n      <td>Edgar Pons</td>\n      <td>Robótica</td>\n      <td>30</td>\n      <td>124745</td>\n      <td>H</td>\n    </tr>\n    <tr>\n      <th>6</th>\n      <td>s4vitar</td>\n      <td>Hacking</td>\n      <td>29</td>\n      <td>141636</td>\n      <td>H</td>\n    </tr>\n  </tbody>\n</table>\n</div>",
      "text/plain": "           nombre         especialidad  edad  visitas sexo\n0       SFDX Show             Hardware    30   102490    H\n1     Sara Nogark     Edición de vídeo    28   100857    M\n2    Nate Gentile         Programación    29   140522    H\n3       Bettatech         Programación    28   148545    H\n4  Antonio Sarosi  Sistemas Operativos    28   119988    H\n5      Edgar Pons             Robótica    30   124745    H\n6         s4vitar              Hacking    29   141636    H"
     },
     "execution_count": 105,
     "metadata": {},
     "output_type": "execute_result"
    }
   ],
   "execution_count": null
  },
  {
   "cell_type": "markdown",
   "source": "# Explorando un dataframe",
   "metadata": {
    "cell_id": "00011-622659a9-55de-4302-b285-1274e5145c38",
    "deepnote_cell_type": "markdown"
   }
  },
  {
   "cell_type": "code",
   "metadata": {
    "cell_id": "00012-1489033e-afa8-4e69-a26e-b7d4706f5a99",
    "deepnote_cell_type": "code"
   },
   "source": "df",
   "outputs": [
    {
     "data": {
      "text/html": "<div>\n<style scoped>\n    .dataframe tbody tr th:only-of-type {\n        vertical-align: middle;\n    }\n\n    .dataframe tbody tr th {\n        vertical-align: top;\n    }\n\n    .dataframe thead th {\n        text-align: right;\n    }\n</style>\n<table border=\"1\" class=\"dataframe\">\n  <thead>\n    <tr style=\"text-align: right;\">\n      <th></th>\n      <th>nombre</th>\n      <th>especialidad</th>\n      <th>edad</th>\n      <th>visitas</th>\n      <th>sexo</th>\n    </tr>\n  </thead>\n  <tbody>\n    <tr>\n      <th>0</th>\n      <td>SFDX Show</td>\n      <td>Hardware</td>\n      <td>30</td>\n      <td>130855</td>\n      <td>H</td>\n    </tr>\n    <tr>\n      <th>1</th>\n      <td>Sara Nogark</td>\n      <td>Edición de vídeo</td>\n      <td>29</td>\n      <td>114175</td>\n      <td>M</td>\n    </tr>\n    <tr>\n      <th>2</th>\n      <td>Nate Gentile</td>\n      <td>Programación</td>\n      <td>31</td>\n      <td>142545</td>\n      <td>H</td>\n    </tr>\n    <tr>\n      <th>3</th>\n      <td>Bettatech</td>\n      <td>Programación</td>\n      <td>31</td>\n      <td>149462</td>\n      <td>H</td>\n    </tr>\n    <tr>\n      <th>4</th>\n      <td>Antonio Sarosi</td>\n      <td>Sistemas Operativos</td>\n      <td>28</td>\n      <td>132008</td>\n      <td>H</td>\n    </tr>\n    <tr>\n      <th>5</th>\n      <td>Edgar Pons</td>\n      <td>Robótica</td>\n      <td>29</td>\n      <td>143620</td>\n      <td>H</td>\n    </tr>\n    <tr>\n      <th>6</th>\n      <td>s4vitar</td>\n      <td>Hacking</td>\n      <td>28</td>\n      <td>132567</td>\n      <td>H</td>\n    </tr>\n  </tbody>\n</table>\n</div>",
      "text/plain": "           nombre         especialidad  edad  visitas sexo\n0       SFDX Show             Hardware    30   130855    H\n1     Sara Nogark     Edición de vídeo    29   114175    M\n2    Nate Gentile         Programación    31   142545    H\n3       Bettatech         Programación    31   149462    H\n4  Antonio Sarosi  Sistemas Operativos    28   132008    H\n5      Edgar Pons             Robótica    29   143620    H\n6         s4vitar              Hacking    28   132567    H"
     },
     "execution_count": 106,
     "metadata": {},
     "output_type": "execute_result"
    }
   ],
   "execution_count": null
  },
  {
   "cell_type": "markdown",
   "source": "## df.head()",
   "metadata": {
    "cell_id": "00013-7cff0b2a-1504-4e6b-bb1c-c2487a189b9b",
    "deepnote_cell_type": "markdown"
   }
  },
  {
   "cell_type": "code",
   "metadata": {
    "cell_id": "00014-e0b2f1d2-ab15-49f1-b237-0be77f194456",
    "deepnote_cell_type": "code"
   },
   "source": "df.head(2)",
   "outputs": [
    {
     "data": {
      "text/html": "<div>\n<style scoped>\n    .dataframe tbody tr th:only-of-type {\n        vertical-align: middle;\n    }\n\n    .dataframe tbody tr th {\n        vertical-align: top;\n    }\n\n    .dataframe thead th {\n        text-align: right;\n    }\n</style>\n<table border=\"1\" class=\"dataframe\">\n  <thead>\n    <tr style=\"text-align: right;\">\n      <th></th>\n      <th>nombre</th>\n      <th>especialidad</th>\n      <th>edad</th>\n      <th>visitas</th>\n      <th>sexo</th>\n    </tr>\n  </thead>\n  <tbody>\n    <tr>\n      <th>0</th>\n      <td>SFDX Show</td>\n      <td>Hardware</td>\n      <td>30</td>\n      <td>130855</td>\n      <td>H</td>\n    </tr>\n    <tr>\n      <th>1</th>\n      <td>Sara Nogark</td>\n      <td>Edición de vídeo</td>\n      <td>29</td>\n      <td>114175</td>\n      <td>M</td>\n    </tr>\n  </tbody>\n</table>\n</div>",
      "text/plain": "        nombre      especialidad  edad  visitas sexo\n0    SFDX Show          Hardware    30   130855    H\n1  Sara Nogark  Edición de vídeo    29   114175    M"
     },
     "execution_count": 107,
     "metadata": {},
     "output_type": "execute_result"
    }
   ],
   "execution_count": null
  },
  {
   "cell_type": "code",
   "metadata": {
    "scrolled": true,
    "cell_id": "00015-652db599-2e81-4d3a-80ee-5a2cc3428786",
    "deepnote_cell_type": "code"
   },
   "source": "df.tail(2)",
   "outputs": [
    {
     "data": {
      "text/html": "<div>\n<style scoped>\n    .dataframe tbody tr th:only-of-type {\n        vertical-align: middle;\n    }\n\n    .dataframe tbody tr th {\n        vertical-align: top;\n    }\n\n    .dataframe thead th {\n        text-align: right;\n    }\n</style>\n<table border=\"1\" class=\"dataframe\">\n  <thead>\n    <tr style=\"text-align: right;\">\n      <th></th>\n      <th>nombre</th>\n      <th>especialidad</th>\n      <th>edad</th>\n      <th>visitas</th>\n      <th>sexo</th>\n    </tr>\n  </thead>\n  <tbody>\n    <tr>\n      <th>5</th>\n      <td>Edgar Pons</td>\n      <td>Robótica</td>\n      <td>29</td>\n      <td>143620</td>\n      <td>H</td>\n    </tr>\n    <tr>\n      <th>6</th>\n      <td>s4vitar</td>\n      <td>Hacking</td>\n      <td>28</td>\n      <td>132567</td>\n      <td>H</td>\n    </tr>\n  </tbody>\n</table>\n</div>",
      "text/plain": "       nombre especialidad  edad  visitas sexo\n5  Edgar Pons     Robótica    29   143620    H\n6     s4vitar      Hacking    28   132567    H"
     },
     "execution_count": 108,
     "metadata": {},
     "output_type": "execute_result"
    }
   ],
   "execution_count": null
  },
  {
   "cell_type": "markdown",
   "source": "## df.sample()",
   "metadata": {
    "cell_id": "00016-829b151b-c6e8-4012-a8e9-697e49493ccd",
    "deepnote_cell_type": "markdown"
   }
  },
  {
   "cell_type": "code",
   "metadata": {
    "scrolled": true,
    "cell_id": "00017-8a1c64ee-460c-409d-99c6-1ed1ef0b8486",
    "deepnote_cell_type": "code"
   },
   "source": "df.sample(3)",
   "outputs": [
    {
     "data": {
      "text/html": "<div>\n<style scoped>\n    .dataframe tbody tr th:only-of-type {\n        vertical-align: middle;\n    }\n\n    .dataframe tbody tr th {\n        vertical-align: top;\n    }\n\n    .dataframe thead th {\n        text-align: right;\n    }\n</style>\n<table border=\"1\" class=\"dataframe\">\n  <thead>\n    <tr style=\"text-align: right;\">\n      <th></th>\n      <th>nombre</th>\n      <th>especialidad</th>\n      <th>edad</th>\n      <th>visitas</th>\n      <th>sexo</th>\n    </tr>\n  </thead>\n  <tbody>\n    <tr>\n      <th>3</th>\n      <td>Bettatech</td>\n      <td>Programación</td>\n      <td>31</td>\n      <td>149462</td>\n      <td>H</td>\n    </tr>\n    <tr>\n      <th>4</th>\n      <td>Antonio Sarosi</td>\n      <td>Sistemas Operativos</td>\n      <td>28</td>\n      <td>132008</td>\n      <td>H</td>\n    </tr>\n    <tr>\n      <th>1</th>\n      <td>Sara Nogark</td>\n      <td>Edición de vídeo</td>\n      <td>29</td>\n      <td>114175</td>\n      <td>M</td>\n    </tr>\n  </tbody>\n</table>\n</div>",
      "text/plain": "           nombre         especialidad  edad  visitas sexo\n3       Bettatech         Programación    31   149462    H\n4  Antonio Sarosi  Sistemas Operativos    28   132008    H\n1     Sara Nogark     Edición de vídeo    29   114175    M"
     },
     "execution_count": 109,
     "metadata": {},
     "output_type": "execute_result"
    }
   ],
   "execution_count": null
  },
  {
   "cell_type": "markdown",
   "source": "## df.info()",
   "metadata": {
    "cell_id": "00018-f01a956e-c1b6-46de-8074-9db3f987a438",
    "deepnote_cell_type": "markdown"
   }
  },
  {
   "cell_type": "code",
   "metadata": {
    "cell_id": "00019-be12552c-b852-452c-aa7f-391de915e029",
    "deepnote_cell_type": "code"
   },
   "source": "df.info()",
   "outputs": [
    {
     "name": "stdout",
     "output_type": "stream",
     "text": "<class 'pandas.core.frame.DataFrame'>\nInt64Index: 7 entries, 0 to 6\nData columns (total 5 columns):\n #   Column        Non-Null Count  Dtype \n---  ------        --------------  ----- \n 0   nombre        7 non-null      object\n 1   especialidad  7 non-null      object\n 2   edad          7 non-null      int64 \n 3   visitas       7 non-null      int64 \n 4   sexo          7 non-null      object\ndtypes: int64(2), object(3)\nmemory usage: 336.0+ bytes\n"
    }
   ],
   "execution_count": null
  },
  {
   "cell_type": "markdown",
   "source": "## df.describe()",
   "metadata": {
    "cell_id": "00020-09181ef2-d4dd-4764-82f7-8984cb5c6a46",
    "deepnote_cell_type": "markdown"
   }
  },
  {
   "cell_type": "code",
   "metadata": {
    "cell_id": "00021-1ebbc420-4c6a-40ce-b7af-d7761028df2d",
    "deepnote_cell_type": "code"
   },
   "source": "df.describe()",
   "outputs": [
    {
     "data": {
      "text/html": "<div>\n<style scoped>\n    .dataframe tbody tr th:only-of-type {\n        vertical-align: middle;\n    }\n\n    .dataframe tbody tr th {\n        vertical-align: top;\n    }\n\n    .dataframe thead th {\n        text-align: right;\n    }\n</style>\n<table border=\"1\" class=\"dataframe\">\n  <thead>\n    <tr style=\"text-align: right;\">\n      <th></th>\n      <th>edad</th>\n      <th>visitas</th>\n    </tr>\n  </thead>\n  <tbody>\n    <tr>\n      <th>count</th>\n      <td>7.000000</td>\n      <td>7.000000</td>\n    </tr>\n    <tr>\n      <th>mean</th>\n      <td>29.428571</td>\n      <td>135033.142857</td>\n    </tr>\n    <tr>\n      <th>std</th>\n      <td>1.272418</td>\n      <td>11590.990631</td>\n    </tr>\n    <tr>\n      <th>min</th>\n      <td>28.000000</td>\n      <td>114175.000000</td>\n    </tr>\n    <tr>\n      <th>25%</th>\n      <td>28.500000</td>\n      <td>131431.500000</td>\n    </tr>\n    <tr>\n      <th>50%</th>\n      <td>29.000000</td>\n      <td>132567.000000</td>\n    </tr>\n    <tr>\n      <th>75%</th>\n      <td>30.500000</td>\n      <td>143082.500000</td>\n    </tr>\n    <tr>\n      <th>max</th>\n      <td>31.000000</td>\n      <td>149462.000000</td>\n    </tr>\n  </tbody>\n</table>\n</div>",
      "text/plain": "            edad        visitas\ncount   7.000000       7.000000\nmean   29.428571  135033.142857\nstd     1.272418   11590.990631\nmin    28.000000  114175.000000\n25%    28.500000  131431.500000\n50%    29.000000  132567.000000\n75%    30.500000  143082.500000\nmax    31.000000  149462.000000"
     },
     "execution_count": 111,
     "metadata": {},
     "output_type": "execute_result"
    }
   ],
   "execution_count": null
  },
  {
   "cell_type": "code",
   "metadata": {
    "cell_id": "00022-e75dc6da-ee4a-41ca-90c3-61756244a8a9",
    "deepnote_cell_type": "code"
   },
   "source": "df.describe()['edad']['max']",
   "outputs": [
    {
     "data": {
      "text/plain": "31.0"
     },
     "execution_count": 112,
     "metadata": {},
     "output_type": "execute_result"
    }
   ],
   "execution_count": null
  },
  {
   "cell_type": "markdown",
   "source": "## df.shape()",
   "metadata": {
    "cell_id": "00023-342f9a5f-c7ab-4b35-b2ce-03486fa40c17",
    "deepnote_cell_type": "markdown"
   }
  },
  {
   "cell_type": "code",
   "metadata": {
    "cell_id": "00024-3f3a7bc5-006a-4d47-8eb8-4830b1feb09f",
    "deepnote_cell_type": "code"
   },
   "source": "df.shape",
   "outputs": [
    {
     "data": {
      "text/plain": "(7, 5)"
     },
     "execution_count": 113,
     "metadata": {},
     "output_type": "execute_result"
    }
   ],
   "execution_count": null
  },
  {
   "cell_type": "markdown",
   "source": "## df.columns",
   "metadata": {
    "cell_id": "00025-76334957-1164-4770-9c8d-e922fe3d7286",
    "deepnote_cell_type": "markdown"
   }
  },
  {
   "cell_type": "code",
   "metadata": {
    "cell_id": "00026-24609b63-a9d7-436d-8f2e-40c3e230271f",
    "deepnote_cell_type": "code"
   },
   "source": "df.columns",
   "outputs": [
    {
     "data": {
      "text/plain": "Index(['nombre', 'especialidad', 'edad', 'visitas', 'sexo'], dtype='object')"
     },
     "execution_count": 114,
     "metadata": {},
     "output_type": "execute_result"
    }
   ],
   "execution_count": null
  },
  {
   "cell_type": "code",
   "metadata": {
    "cell_id": "00027-e121162b-1f28-4061-a9e6-2d6fc01c6a58",
    "deepnote_cell_type": "code"
   },
   "source": "df.columns = ['nombre', 'especialidad', 'edad', 'visitas', 'sexo'] # podemos cambiar  los nombres de las columnas",
   "outputs": [],
   "execution_count": null
  },
  {
   "cell_type": "code",
   "metadata": {
    "cell_id": "00028-d19d87cf-fec6-47ff-a49d-28a9a047edc7",
    "deepnote_cell_type": "code"
   },
   "source": "df",
   "outputs": [
    {
     "data": {
      "text/html": "<div>\n<style scoped>\n    .dataframe tbody tr th:only-of-type {\n        vertical-align: middle;\n    }\n\n    .dataframe tbody tr th {\n        vertical-align: top;\n    }\n\n    .dataframe thead th {\n        text-align: right;\n    }\n</style>\n<table border=\"1\" class=\"dataframe\">\n  <thead>\n    <tr style=\"text-align: right;\">\n      <th></th>\n      <th>nombre</th>\n      <th>especialidad</th>\n      <th>edad</th>\n      <th>visitas</th>\n      <th>sexo</th>\n    </tr>\n  </thead>\n  <tbody>\n    <tr>\n      <th>0</th>\n      <td>SFDX Show</td>\n      <td>Hardware</td>\n      <td>30</td>\n      <td>130855</td>\n      <td>H</td>\n    </tr>\n    <tr>\n      <th>1</th>\n      <td>Sara Nogark</td>\n      <td>Edición de vídeo</td>\n      <td>29</td>\n      <td>114175</td>\n      <td>M</td>\n    </tr>\n    <tr>\n      <th>2</th>\n      <td>Nate Gentile</td>\n      <td>Programación</td>\n      <td>31</td>\n      <td>142545</td>\n      <td>H</td>\n    </tr>\n    <tr>\n      <th>3</th>\n      <td>Bettatech</td>\n      <td>Programación</td>\n      <td>31</td>\n      <td>149462</td>\n      <td>H</td>\n    </tr>\n    <tr>\n      <th>4</th>\n      <td>Antonio Sarosi</td>\n      <td>Sistemas Operativos</td>\n      <td>28</td>\n      <td>132008</td>\n      <td>H</td>\n    </tr>\n    <tr>\n      <th>5</th>\n      <td>Edgar Pons</td>\n      <td>Robótica</td>\n      <td>29</td>\n      <td>143620</td>\n      <td>H</td>\n    </tr>\n    <tr>\n      <th>6</th>\n      <td>s4vitar</td>\n      <td>Hacking</td>\n      <td>28</td>\n      <td>132567</td>\n      <td>H</td>\n    </tr>\n  </tbody>\n</table>\n</div>",
      "text/plain": "           nombre         especialidad  edad  visitas sexo\n0       SFDX Show             Hardware    30   130855    H\n1     Sara Nogark     Edición de vídeo    29   114175    M\n2    Nate Gentile         Programación    31   142545    H\n3       Bettatech         Programación    31   149462    H\n4  Antonio Sarosi  Sistemas Operativos    28   132008    H\n5      Edgar Pons             Robótica    29   143620    H\n6         s4vitar              Hacking    28   132567    H"
     },
     "execution_count": 116,
     "metadata": {},
     "output_type": "execute_result"
    }
   ],
   "execution_count": null
  },
  {
   "cell_type": "markdown",
   "source": "## df.index",
   "metadata": {
    "cell_id": "00029-f59124f5-a6ed-48ee-b001-e3c3625e36aa",
    "deepnote_cell_type": "markdown"
   }
  },
  {
   "cell_type": "code",
   "metadata": {
    "cell_id": "00030-345a5173-fbd0-4e7f-8b02-6bb7502d15a2",
    "deepnote_cell_type": "code"
   },
   "source": "df.index",
   "outputs": [
    {
     "data": {
      "text/plain": "Int64Index([0, 1, 2, 3, 4, 5, 6], dtype='int64')"
     },
     "execution_count": 117,
     "metadata": {},
     "output_type": "execute_result"
    }
   ],
   "execution_count": null
  },
  {
   "cell_type": "markdown",
   "source": "# eleccion de elementos (subset)",
   "metadata": {
    "cell_id": "00031-b00df0d0-bd3e-4c9e-bfa9-0eb627fe5ce9",
    "deepnote_cell_type": "markdown"
   }
  },
  {
   "cell_type": "markdown",
   "source": "## acceso mediante etiquetas",
   "metadata": {
    "cell_id": "00032-ce86491d-ac83-4d7f-84b2-83a927190f44",
    "deepnote_cell_type": "markdown"
   }
  },
  {
   "cell_type": "markdown",
   "source": "df[columna][fila]",
   "metadata": {
    "cell_id": "00033-fccee918-6323-48b1-8b12-913f14d993aa",
    "deepnote_cell_type": "markdown"
   }
  },
  {
   "cell_type": "code",
   "metadata": {
    "cell_id": "00034-54f2d727-6fde-4b1d-bfff-cc2d1107ca42",
    "deepnote_cell_type": "code"
   },
   "source": "df['especialidad'][2]",
   "outputs": [
    {
     "data": {
      "text/plain": "'Programación'"
     },
     "execution_count": 118,
     "metadata": {},
     "output_type": "execute_result"
    }
   ],
   "execution_count": null
  },
  {
   "cell_type": "code",
   "metadata": {
    "scrolled": true,
    "cell_id": "00035-c504c051-73dc-4180-88bc-6e8c14e86078",
    "deepnote_cell_type": "code"
   },
   "source": "df['nombre'] == 'Nate Gentile'",
   "outputs": [
    {
     "data": {
      "text/plain": "0    False\n1    False\n2     True\n3    False\n4    False\n5    False\n6    False\nName: nombre, dtype: bool"
     },
     "execution_count": 119,
     "metadata": {},
     "output_type": "execute_result"
    }
   ],
   "execution_count": null
  },
  {
   "cell_type": "code",
   "metadata": {
    "cell_id": "00036-82043bd4-6311-46b0-88ff-ee0ec5bd643a",
    "deepnote_cell_type": "code"
   },
   "source": "df[df['nombre'] == 'Nate Gentile']",
   "outputs": [
    {
     "data": {
      "text/html": "<div>\n<style scoped>\n    .dataframe tbody tr th:only-of-type {\n        vertical-align: middle;\n    }\n\n    .dataframe tbody tr th {\n        vertical-align: top;\n    }\n\n    .dataframe thead th {\n        text-align: right;\n    }\n</style>\n<table border=\"1\" class=\"dataframe\">\n  <thead>\n    <tr style=\"text-align: right;\">\n      <th></th>\n      <th>nombre</th>\n      <th>especialidad</th>\n      <th>edad</th>\n      <th>visitas</th>\n      <th>sexo</th>\n    </tr>\n  </thead>\n  <tbody>\n    <tr>\n      <th>2</th>\n      <td>Nate Gentile</td>\n      <td>Programación</td>\n      <td>31</td>\n      <td>142545</td>\n      <td>H</td>\n    </tr>\n  </tbody>\n</table>\n</div>",
      "text/plain": "         nombre  especialidad  edad  visitas sexo\n2  Nate Gentile  Programación    31   142545    H"
     },
     "execution_count": 120,
     "metadata": {},
     "output_type": "execute_result"
    }
   ],
   "execution_count": null
  },
  {
   "cell_type": "code",
   "metadata": {
    "cell_id": "00037-c078fbf1-9db9-44c5-8e4a-41be90ab85e8",
    "deepnote_cell_type": "code"
   },
   "source": "df[df['nombre'] == 'Nate Gentile']['especialidad']",
   "outputs": [
    {
     "data": {
      "text/plain": "2    Programación\nName: especialidad, dtype: object"
     },
     "execution_count": 121,
     "metadata": {},
     "output_type": "execute_result"
    }
   ],
   "execution_count": null
  },
  {
   "cell_type": "code",
   "metadata": {
    "cell_id": "00038-9c24facf-9dfb-4bc7-86a9-93475e56fb0a",
    "deepnote_cell_type": "code"
   },
   "source": "mas_viejos = df[df['edad'] == 30]['nombre']",
   "outputs": [],
   "execution_count": null
  },
  {
   "cell_type": "code",
   "metadata": {
    "cell_id": "00039-ac5381de-4e10-478f-9fc3-ced5f0a7d04c",
    "deepnote_cell_type": "code"
   },
   "source": "mas_viejos",
   "outputs": [
    {
     "data": {
      "text/plain": "0    SFDX Show\nName: nombre, dtype: object"
     },
     "execution_count": 123,
     "metadata": {},
     "output_type": "execute_result"
    }
   ],
   "execution_count": null
  },
  {
   "cell_type": "markdown",
   "source": "## df.iloc[]",
   "metadata": {
    "cell_id": "00040-c8fa4012-90cd-4bcb-a3f8-20af567da0b8",
    "deepnote_cell_type": "markdown"
   }
  },
  {
   "cell_type": "markdown",
   "source": "df.iloc[indice fila, indice columna]",
   "metadata": {
    "cell_id": "00041-c05b5293-04c4-460d-a7eb-83a236991f64",
    "deepnote_cell_type": "markdown"
   }
  },
  {
   "cell_type": "code",
   "metadata": {
    "cell_id": "00042-82c343e2-1136-4035-907c-33f2d43b429c",
    "deepnote_cell_type": "code"
   },
   "source": "df.iloc[2,0:2]",
   "outputs": [
    {
     "data": {
      "text/plain": "nombre          Nate Gentile\nespecialidad    Programación\nName: 2, dtype: object"
     },
     "execution_count": 124,
     "metadata": {},
     "output_type": "execute_result"
    }
   ],
   "execution_count": null
  },
  {
   "cell_type": "markdown",
   "source": "## df.loc",
   "metadata": {
    "cell_id": "00043-1c197440-247c-475b-88aa-c6f658896611",
    "deepnote_cell_type": "markdown"
   }
  },
  {
   "cell_type": "markdown",
   "source": "df.loc[etiqueta indice, etiqueta columna]",
   "metadata": {
    "cell_id": "00044-2a1efaf9-fb45-4d85-bb9d-4b90cd59f099",
    "deepnote_cell_type": "markdown"
   }
  },
  {
   "cell_type": "code",
   "metadata": {
    "cell_id": "00045-71338bfb-4963-407b-a3d7-4e580a46a79a",
    "deepnote_cell_type": "code"
   },
   "source": "df.loc[2, 'especialidad']",
   "outputs": [
    {
     "data": {
      "text/plain": "'Programación'"
     },
     "execution_count": 125,
     "metadata": {},
     "output_type": "execute_result"
    }
   ],
   "execution_count": null
  },
  {
   "cell_type": "code",
   "metadata": {
    "cell_id": "00046-f0b16ed7-f4b6-4bdb-8381-5b8be2c1eacb",
    "deepnote_cell_type": "code"
   },
   "source": "df.loc[2, :'edad']",
   "outputs": [
    {
     "data": {
      "text/plain": "nombre          Nate Gentile\nespecialidad    Programación\nedad                      31\nName: 2, dtype: object"
     },
     "execution_count": 126,
     "metadata": {},
     "output_type": "execute_result"
    }
   ],
   "execution_count": null
  },
  {
   "cell_type": "code",
   "metadata": {
    "cell_id": "00047-ff6d1221-d7d6-4901-8a78-3ddd351a41d4",
    "deepnote_cell_type": "code"
   },
   "source": "df.iloc[2,0:2] == df.loc[2, 'nombre':'especialidad']",
   "outputs": [
    {
     "data": {
      "text/plain": "nombre          True\nespecialidad    True\nName: 2, dtype: bool"
     },
     "execution_count": 127,
     "metadata": {},
     "output_type": "execute_result"
    }
   ],
   "execution_count": null
  },
  {
   "cell_type": "markdown",
   "source": "# Manipulacion de datos",
   "metadata": {
    "cell_id": "00048-522a0abf-6538-49d0-915b-3843b88469fb",
    "deepnote_cell_type": "markdown"
   }
  },
  {
   "cell_type": "markdown",
   "source": "## Cambiar indice",
   "metadata": {
    "cell_id": "00049-7dabed0a-b378-4ec8-8250-9c049b906d93",
    "deepnote_cell_type": "markdown"
   }
  },
  {
   "cell_type": "markdown",
   "source": "### df.set_index()",
   "metadata": {
    "cell_id": "00050-4dd4cd19-4af8-443c-817a-c8f092334462",
    "deepnote_cell_type": "markdown"
   }
  },
  {
   "cell_type": "code",
   "metadata": {
    "cell_id": "00051-162791ce-8a51-4b32-afa2-7bb1a36cd670",
    "deepnote_cell_type": "code"
   },
   "source": "df",
   "outputs": [
    {
     "data": {
      "text/html": "<div>\n<style scoped>\n    .dataframe tbody tr th:only-of-type {\n        vertical-align: middle;\n    }\n\n    .dataframe tbody tr th {\n        vertical-align: top;\n    }\n\n    .dataframe thead th {\n        text-align: right;\n    }\n</style>\n<table border=\"1\" class=\"dataframe\">\n  <thead>\n    <tr style=\"text-align: right;\">\n      <th></th>\n      <th>nombre</th>\n      <th>especialidad</th>\n      <th>edad</th>\n      <th>visitas</th>\n      <th>sexo</th>\n    </tr>\n  </thead>\n  <tbody>\n    <tr>\n      <th>0</th>\n      <td>SFDX Show</td>\n      <td>Hardware</td>\n      <td>30</td>\n      <td>130855</td>\n      <td>H</td>\n    </tr>\n    <tr>\n      <th>1</th>\n      <td>Sara Nogark</td>\n      <td>Edición de vídeo</td>\n      <td>29</td>\n      <td>114175</td>\n      <td>M</td>\n    </tr>\n    <tr>\n      <th>2</th>\n      <td>Nate Gentile</td>\n      <td>Programación</td>\n      <td>31</td>\n      <td>142545</td>\n      <td>H</td>\n    </tr>\n    <tr>\n      <th>3</th>\n      <td>Bettatech</td>\n      <td>Programación</td>\n      <td>31</td>\n      <td>149462</td>\n      <td>H</td>\n    </tr>\n    <tr>\n      <th>4</th>\n      <td>Antonio Sarosi</td>\n      <td>Sistemas Operativos</td>\n      <td>28</td>\n      <td>132008</td>\n      <td>H</td>\n    </tr>\n    <tr>\n      <th>5</th>\n      <td>Edgar Pons</td>\n      <td>Robótica</td>\n      <td>29</td>\n      <td>143620</td>\n      <td>H</td>\n    </tr>\n    <tr>\n      <th>6</th>\n      <td>s4vitar</td>\n      <td>Hacking</td>\n      <td>28</td>\n      <td>132567</td>\n      <td>H</td>\n    </tr>\n  </tbody>\n</table>\n</div>",
      "text/plain": "           nombre         especialidad  edad  visitas sexo\n0       SFDX Show             Hardware    30   130855    H\n1     Sara Nogark     Edición de vídeo    29   114175    M\n2    Nate Gentile         Programación    31   142545    H\n3       Bettatech         Programación    31   149462    H\n4  Antonio Sarosi  Sistemas Operativos    28   132008    H\n5      Edgar Pons             Robótica    29   143620    H\n6         s4vitar              Hacking    28   132567    H"
     },
     "execution_count": 128,
     "metadata": {},
     "output_type": "execute_result"
    }
   ],
   "execution_count": null
  },
  {
   "cell_type": "code",
   "metadata": {
    "scrolled": true,
    "cell_id": "00052-50b4d0a1-a26a-4d7d-91f2-4e85127f61d6",
    "deepnote_cell_type": "code"
   },
   "source": "df_nuevo = df.set_index('nombre')",
   "outputs": [],
   "execution_count": null
  },
  {
   "cell_type": "code",
   "metadata": {
    "cell_id": "00053-ac673674-78d6-457b-86c1-b974b8cd0977",
    "deepnote_cell_type": "code"
   },
   "source": "df_nuevo",
   "outputs": [
    {
     "data": {
      "text/html": "<div>\n<style scoped>\n    .dataframe tbody tr th:only-of-type {\n        vertical-align: middle;\n    }\n\n    .dataframe tbody tr th {\n        vertical-align: top;\n    }\n\n    .dataframe thead th {\n        text-align: right;\n    }\n</style>\n<table border=\"1\" class=\"dataframe\">\n  <thead>\n    <tr style=\"text-align: right;\">\n      <th></th>\n      <th>especialidad</th>\n      <th>edad</th>\n      <th>visitas</th>\n      <th>sexo</th>\n    </tr>\n    <tr>\n      <th>nombre</th>\n      <th></th>\n      <th></th>\n      <th></th>\n      <th></th>\n    </tr>\n  </thead>\n  <tbody>\n    <tr>\n      <th>SFDX Show</th>\n      <td>Hardware</td>\n      <td>30</td>\n      <td>130855</td>\n      <td>H</td>\n    </tr>\n    <tr>\n      <th>Sara Nogark</th>\n      <td>Edición de vídeo</td>\n      <td>29</td>\n      <td>114175</td>\n      <td>M</td>\n    </tr>\n    <tr>\n      <th>Nate Gentile</th>\n      <td>Programación</td>\n      <td>31</td>\n      <td>142545</td>\n      <td>H</td>\n    </tr>\n    <tr>\n      <th>Bettatech</th>\n      <td>Programación</td>\n      <td>31</td>\n      <td>149462</td>\n      <td>H</td>\n    </tr>\n    <tr>\n      <th>Antonio Sarosi</th>\n      <td>Sistemas Operativos</td>\n      <td>28</td>\n      <td>132008</td>\n      <td>H</td>\n    </tr>\n    <tr>\n      <th>Edgar Pons</th>\n      <td>Robótica</td>\n      <td>29</td>\n      <td>143620</td>\n      <td>H</td>\n    </tr>\n    <tr>\n      <th>s4vitar</th>\n      <td>Hacking</td>\n      <td>28</td>\n      <td>132567</td>\n      <td>H</td>\n    </tr>\n  </tbody>\n</table>\n</div>",
      "text/plain": "                       especialidad  edad  visitas sexo\nnombre                                                 \nSFDX Show                  Hardware    30   130855    H\nSara Nogark        Edición de vídeo    29   114175    M\nNate Gentile           Programación    31   142545    H\nBettatech              Programación    31   149462    H\nAntonio Sarosi  Sistemas Operativos    28   132008    H\nEdgar Pons                 Robótica    29   143620    H\ns4vitar                     Hacking    28   132567    H"
     },
     "execution_count": 130,
     "metadata": {},
     "output_type": "execute_result"
    }
   ],
   "execution_count": null
  },
  {
   "cell_type": "code",
   "metadata": {
    "cell_id": "00054-50fcde5a-6fa8-4b11-a506-dc4a03f3131e",
    "deepnote_cell_type": "code"
   },
   "source": "df.set_index('nombre', \n             inplace=True)",
   "outputs": [],
   "execution_count": null
  },
  {
   "cell_type": "code",
   "metadata": {
    "cell_id": "00055-415a1087-9a45-4ce6-8ce5-6a4d7d97932c",
    "deepnote_cell_type": "code"
   },
   "source": "df",
   "outputs": [
    {
     "data": {
      "text/html": "<div>\n<style scoped>\n    .dataframe tbody tr th:only-of-type {\n        vertical-align: middle;\n    }\n\n    .dataframe tbody tr th {\n        vertical-align: top;\n    }\n\n    .dataframe thead th {\n        text-align: right;\n    }\n</style>\n<table border=\"1\" class=\"dataframe\">\n  <thead>\n    <tr style=\"text-align: right;\">\n      <th></th>\n      <th>especialidad</th>\n      <th>edad</th>\n      <th>visitas</th>\n      <th>sexo</th>\n    </tr>\n    <tr>\n      <th>nombre</th>\n      <th></th>\n      <th></th>\n      <th></th>\n      <th></th>\n    </tr>\n  </thead>\n  <tbody>\n    <tr>\n      <th>SFDX Show</th>\n      <td>Hardware</td>\n      <td>30</td>\n      <td>130855</td>\n      <td>H</td>\n    </tr>\n    <tr>\n      <th>Sara Nogark</th>\n      <td>Edición de vídeo</td>\n      <td>29</td>\n      <td>114175</td>\n      <td>M</td>\n    </tr>\n    <tr>\n      <th>Nate Gentile</th>\n      <td>Programación</td>\n      <td>31</td>\n      <td>142545</td>\n      <td>H</td>\n    </tr>\n    <tr>\n      <th>Bettatech</th>\n      <td>Programación</td>\n      <td>31</td>\n      <td>149462</td>\n      <td>H</td>\n    </tr>\n    <tr>\n      <th>Antonio Sarosi</th>\n      <td>Sistemas Operativos</td>\n      <td>28</td>\n      <td>132008</td>\n      <td>H</td>\n    </tr>\n    <tr>\n      <th>Edgar Pons</th>\n      <td>Robótica</td>\n      <td>29</td>\n      <td>143620</td>\n      <td>H</td>\n    </tr>\n    <tr>\n      <th>s4vitar</th>\n      <td>Hacking</td>\n      <td>28</td>\n      <td>132567</td>\n      <td>H</td>\n    </tr>\n  </tbody>\n</table>\n</div>",
      "text/plain": "                       especialidad  edad  visitas sexo\nnombre                                                 \nSFDX Show                  Hardware    30   130855    H\nSara Nogark        Edición de vídeo    29   114175    M\nNate Gentile           Programación    31   142545    H\nBettatech              Programación    31   149462    H\nAntonio Sarosi  Sistemas Operativos    28   132008    H\nEdgar Pons                 Robótica    29   143620    H\ns4vitar                     Hacking    28   132567    H"
     },
     "execution_count": 132,
     "metadata": {},
     "output_type": "execute_result"
    }
   ],
   "execution_count": null
  },
  {
   "cell_type": "code",
   "metadata": {
    "cell_id": "00056-9f3649ce-ebb5-43db-b97e-0392b5ef7c68",
    "deepnote_cell_type": "code"
   },
   "source": "df.reset_index()",
   "outputs": [
    {
     "data": {
      "text/html": "<div>\n<style scoped>\n    .dataframe tbody tr th:only-of-type {\n        vertical-align: middle;\n    }\n\n    .dataframe tbody tr th {\n        vertical-align: top;\n    }\n\n    .dataframe thead th {\n        text-align: right;\n    }\n</style>\n<table border=\"1\" class=\"dataframe\">\n  <thead>\n    <tr style=\"text-align: right;\">\n      <th></th>\n      <th>nombre</th>\n      <th>especialidad</th>\n      <th>edad</th>\n      <th>visitas</th>\n      <th>sexo</th>\n    </tr>\n  </thead>\n  <tbody>\n    <tr>\n      <th>0</th>\n      <td>SFDX Show</td>\n      <td>Hardware</td>\n      <td>30</td>\n      <td>130855</td>\n      <td>H</td>\n    </tr>\n    <tr>\n      <th>1</th>\n      <td>Sara Nogark</td>\n      <td>Edición de vídeo</td>\n      <td>29</td>\n      <td>114175</td>\n      <td>M</td>\n    </tr>\n    <tr>\n      <th>2</th>\n      <td>Nate Gentile</td>\n      <td>Programación</td>\n      <td>31</td>\n      <td>142545</td>\n      <td>H</td>\n    </tr>\n    <tr>\n      <th>3</th>\n      <td>Bettatech</td>\n      <td>Programación</td>\n      <td>31</td>\n      <td>149462</td>\n      <td>H</td>\n    </tr>\n    <tr>\n      <th>4</th>\n      <td>Antonio Sarosi</td>\n      <td>Sistemas Operativos</td>\n      <td>28</td>\n      <td>132008</td>\n      <td>H</td>\n    </tr>\n    <tr>\n      <th>5</th>\n      <td>Edgar Pons</td>\n      <td>Robótica</td>\n      <td>29</td>\n      <td>143620</td>\n      <td>H</td>\n    </tr>\n    <tr>\n      <th>6</th>\n      <td>s4vitar</td>\n      <td>Hacking</td>\n      <td>28</td>\n      <td>132567</td>\n      <td>H</td>\n    </tr>\n  </tbody>\n</table>\n</div>",
      "text/plain": "           nombre         especialidad  edad  visitas sexo\n0       SFDX Show             Hardware    30   130855    H\n1     Sara Nogark     Edición de vídeo    29   114175    M\n2    Nate Gentile         Programación    31   142545    H\n3       Bettatech         Programación    31   149462    H\n4  Antonio Sarosi  Sistemas Operativos    28   132008    H\n5      Edgar Pons             Robótica    29   143620    H\n6         s4vitar              Hacking    28   132567    H"
     },
     "execution_count": 133,
     "metadata": {},
     "output_type": "execute_result"
    }
   ],
   "execution_count": null
  },
  {
   "cell_type": "code",
   "metadata": {
    "cell_id": "00057-ddd100f9-43ef-49e5-9aca-ab09d1a66962",
    "deepnote_cell_type": "code"
   },
   "source": "df",
   "outputs": [
    {
     "data": {
      "text/html": "<div>\n<style scoped>\n    .dataframe tbody tr th:only-of-type {\n        vertical-align: middle;\n    }\n\n    .dataframe tbody tr th {\n        vertical-align: top;\n    }\n\n    .dataframe thead th {\n        text-align: right;\n    }\n</style>\n<table border=\"1\" class=\"dataframe\">\n  <thead>\n    <tr style=\"text-align: right;\">\n      <th></th>\n      <th>especialidad</th>\n      <th>edad</th>\n      <th>visitas</th>\n      <th>sexo</th>\n    </tr>\n    <tr>\n      <th>nombre</th>\n      <th></th>\n      <th></th>\n      <th></th>\n      <th></th>\n    </tr>\n  </thead>\n  <tbody>\n    <tr>\n      <th>SFDX Show</th>\n      <td>Hardware</td>\n      <td>30</td>\n      <td>130855</td>\n      <td>H</td>\n    </tr>\n    <tr>\n      <th>Sara Nogark</th>\n      <td>Edición de vídeo</td>\n      <td>29</td>\n      <td>114175</td>\n      <td>M</td>\n    </tr>\n    <tr>\n      <th>Nate Gentile</th>\n      <td>Programación</td>\n      <td>31</td>\n      <td>142545</td>\n      <td>H</td>\n    </tr>\n    <tr>\n      <th>Bettatech</th>\n      <td>Programación</td>\n      <td>31</td>\n      <td>149462</td>\n      <td>H</td>\n    </tr>\n    <tr>\n      <th>Antonio Sarosi</th>\n      <td>Sistemas Operativos</td>\n      <td>28</td>\n      <td>132008</td>\n      <td>H</td>\n    </tr>\n    <tr>\n      <th>Edgar Pons</th>\n      <td>Robótica</td>\n      <td>29</td>\n      <td>143620</td>\n      <td>H</td>\n    </tr>\n    <tr>\n      <th>s4vitar</th>\n      <td>Hacking</td>\n      <td>28</td>\n      <td>132567</td>\n      <td>H</td>\n    </tr>\n  </tbody>\n</table>\n</div>",
      "text/plain": "                       especialidad  edad  visitas sexo\nnombre                                                 \nSFDX Show                  Hardware    30   130855    H\nSara Nogark        Edición de vídeo    29   114175    M\nNate Gentile           Programación    31   142545    H\nBettatech              Programación    31   149462    H\nAntonio Sarosi  Sistemas Operativos    28   132008    H\nEdgar Pons                 Robótica    29   143620    H\ns4vitar                     Hacking    28   132567    H"
     },
     "execution_count": 134,
     "metadata": {},
     "output_type": "execute_result"
    }
   ],
   "execution_count": null
  },
  {
   "cell_type": "code",
   "metadata": {
    "cell_id": "00058-2b6daf58-16d4-43e0-bba1-1da262f3b462",
    "deepnote_cell_type": "code"
   },
   "source": "df_nuevo.head()",
   "outputs": [
    {
     "data": {
      "text/html": "<div>\n<style scoped>\n    .dataframe tbody tr th:only-of-type {\n        vertical-align: middle;\n    }\n\n    .dataframe tbody tr th {\n        vertical-align: top;\n    }\n\n    .dataframe thead th {\n        text-align: right;\n    }\n</style>\n<table border=\"1\" class=\"dataframe\">\n  <thead>\n    <tr style=\"text-align: right;\">\n      <th></th>\n      <th>especialidad</th>\n      <th>edad</th>\n      <th>visitas</th>\n      <th>sexo</th>\n    </tr>\n    <tr>\n      <th>nombre</th>\n      <th></th>\n      <th></th>\n      <th></th>\n      <th></th>\n    </tr>\n  </thead>\n  <tbody>\n    <tr>\n      <th>SFDX Show</th>\n      <td>Hardware</td>\n      <td>30</td>\n      <td>130855</td>\n      <td>H</td>\n    </tr>\n    <tr>\n      <th>Sara Nogark</th>\n      <td>Edición de vídeo</td>\n      <td>29</td>\n      <td>114175</td>\n      <td>M</td>\n    </tr>\n    <tr>\n      <th>Nate Gentile</th>\n      <td>Programación</td>\n      <td>31</td>\n      <td>142545</td>\n      <td>H</td>\n    </tr>\n    <tr>\n      <th>Bettatech</th>\n      <td>Programación</td>\n      <td>31</td>\n      <td>149462</td>\n      <td>H</td>\n    </tr>\n    <tr>\n      <th>Antonio Sarosi</th>\n      <td>Sistemas Operativos</td>\n      <td>28</td>\n      <td>132008</td>\n      <td>H</td>\n    </tr>\n  </tbody>\n</table>\n</div>",
      "text/plain": "                       especialidad  edad  visitas sexo\nnombre                                                 \nSFDX Show                  Hardware    30   130855    H\nSara Nogark        Edición de vídeo    29   114175    M\nNate Gentile           Programación    31   142545    H\nBettatech              Programación    31   149462    H\nAntonio Sarosi  Sistemas Operativos    28   132008    H"
     },
     "execution_count": 135,
     "metadata": {},
     "output_type": "execute_result"
    }
   ],
   "execution_count": null
  },
  {
   "cell_type": "code",
   "metadata": {
    "cell_id": "00059-ecad7d92-2787-4160-bd08-75b068043b7f",
    "deepnote_cell_type": "code"
   },
   "source": "df_nuevo.loc[['Nate Gentile', 's4vitar'], ['visitas', 'edad']]",
   "outputs": [
    {
     "data": {
      "text/html": "<div>\n<style scoped>\n    .dataframe tbody tr th:only-of-type {\n        vertical-align: middle;\n    }\n\n    .dataframe tbody tr th {\n        vertical-align: top;\n    }\n\n    .dataframe thead th {\n        text-align: right;\n    }\n</style>\n<table border=\"1\" class=\"dataframe\">\n  <thead>\n    <tr style=\"text-align: right;\">\n      <th></th>\n      <th>visitas</th>\n      <th>edad</th>\n    </tr>\n    <tr>\n      <th>nombre</th>\n      <th></th>\n      <th></th>\n    </tr>\n  </thead>\n  <tbody>\n    <tr>\n      <th>Nate Gentile</th>\n      <td>142545</td>\n      <td>31</td>\n    </tr>\n    <tr>\n      <th>s4vitar</th>\n      <td>132567</td>\n      <td>28</td>\n    </tr>\n  </tbody>\n</table>\n</div>",
      "text/plain": "              visitas  edad\nnombre                     \nNate Gentile   142545    31\ns4vitar        132567    28"
     },
     "execution_count": 136,
     "metadata": {},
     "output_type": "execute_result"
    }
   ],
   "execution_count": null
  },
  {
   "cell_type": "markdown",
   "source": "## df.apply()",
   "metadata": {
    "cell_id": "00060-cf8d6615-b4cb-4ad4-b124-f8d88a7265e2",
    "deepnote_cell_type": "markdown"
   }
  },
  {
   "cell_type": "code",
   "metadata": {
    "scrolled": true,
    "cell_id": "00061-b0ab28b4-a4e3-4682-81f6-da022de0fba6",
    "deepnote_cell_type": "code"
   },
   "source": "df",
   "outputs": [
    {
     "data": {
      "text/html": "<div>\n<style scoped>\n    .dataframe tbody tr th:only-of-type {\n        vertical-align: middle;\n    }\n\n    .dataframe tbody tr th {\n        vertical-align: top;\n    }\n\n    .dataframe thead th {\n        text-align: right;\n    }\n</style>\n<table border=\"1\" class=\"dataframe\">\n  <thead>\n    <tr style=\"text-align: right;\">\n      <th></th>\n      <th>especialidad</th>\n      <th>edad</th>\n      <th>visitas</th>\n      <th>sexo</th>\n    </tr>\n    <tr>\n      <th>nombre</th>\n      <th></th>\n      <th></th>\n      <th></th>\n      <th></th>\n    </tr>\n  </thead>\n  <tbody>\n    <tr>\n      <th>SFDX Show</th>\n      <td>Hardware</td>\n      <td>30</td>\n      <td>130855</td>\n      <td>H</td>\n    </tr>\n    <tr>\n      <th>Sara Nogark</th>\n      <td>Edición de vídeo</td>\n      <td>29</td>\n      <td>114175</td>\n      <td>M</td>\n    </tr>\n    <tr>\n      <th>Nate Gentile</th>\n      <td>Programación</td>\n      <td>31</td>\n      <td>142545</td>\n      <td>H</td>\n    </tr>\n    <tr>\n      <th>Bettatech</th>\n      <td>Programación</td>\n      <td>31</td>\n      <td>149462</td>\n      <td>H</td>\n    </tr>\n    <tr>\n      <th>Antonio Sarosi</th>\n      <td>Sistemas Operativos</td>\n      <td>28</td>\n      <td>132008</td>\n      <td>H</td>\n    </tr>\n    <tr>\n      <th>Edgar Pons</th>\n      <td>Robótica</td>\n      <td>29</td>\n      <td>143620</td>\n      <td>H</td>\n    </tr>\n    <tr>\n      <th>s4vitar</th>\n      <td>Hacking</td>\n      <td>28</td>\n      <td>132567</td>\n      <td>H</td>\n    </tr>\n  </tbody>\n</table>\n</div>",
      "text/plain": "                       especialidad  edad  visitas sexo\nnombre                                                 \nSFDX Show                  Hardware    30   130855    H\nSara Nogark        Edición de vídeo    29   114175    M\nNate Gentile           Programación    31   142545    H\nBettatech              Programación    31   149462    H\nAntonio Sarosi  Sistemas Operativos    28   132008    H\nEdgar Pons                 Robótica    29   143620    H\ns4vitar                     Hacking    28   132567    H"
     },
     "execution_count": 137,
     "metadata": {},
     "output_type": "execute_result"
    }
   ],
   "execution_count": null
  },
  {
   "cell_type": "code",
   "metadata": {
    "scrolled": true,
    "cell_id": "00062-5ffe60c2-6a16-40d6-943a-d05430f0b92c",
    "deepnote_cell_type": "code"
   },
   "source": "df.select_dtypes(include='int64')",
   "outputs": [
    {
     "data": {
      "text/html": "<div>\n<style scoped>\n    .dataframe tbody tr th:only-of-type {\n        vertical-align: middle;\n    }\n\n    .dataframe tbody tr th {\n        vertical-align: top;\n    }\n\n    .dataframe thead th {\n        text-align: right;\n    }\n</style>\n<table border=\"1\" class=\"dataframe\">\n  <thead>\n    <tr style=\"text-align: right;\">\n      <th></th>\n      <th>edad</th>\n      <th>visitas</th>\n    </tr>\n    <tr>\n      <th>nombre</th>\n      <th></th>\n      <th></th>\n    </tr>\n  </thead>\n  <tbody>\n    <tr>\n      <th>SFDX Show</th>\n      <td>30</td>\n      <td>130855</td>\n    </tr>\n    <tr>\n      <th>Sara Nogark</th>\n      <td>29</td>\n      <td>114175</td>\n    </tr>\n    <tr>\n      <th>Nate Gentile</th>\n      <td>31</td>\n      <td>142545</td>\n    </tr>\n    <tr>\n      <th>Bettatech</th>\n      <td>31</td>\n      <td>149462</td>\n    </tr>\n    <tr>\n      <th>Antonio Sarosi</th>\n      <td>28</td>\n      <td>132008</td>\n    </tr>\n    <tr>\n      <th>Edgar Pons</th>\n      <td>29</td>\n      <td>143620</td>\n    </tr>\n    <tr>\n      <th>s4vitar</th>\n      <td>28</td>\n      <td>132567</td>\n    </tr>\n  </tbody>\n</table>\n</div>",
      "text/plain": "                edad  visitas\nnombre                       \nSFDX Show         30   130855\nSara Nogark       29   114175\nNate Gentile      31   142545\nBettatech         31   149462\nAntonio Sarosi    28   132008\nEdgar Pons        29   143620\ns4vitar           28   132567"
     },
     "execution_count": 138,
     "metadata": {},
     "output_type": "execute_result"
    }
   ],
   "execution_count": null
  },
  {
   "cell_type": "code",
   "metadata": {
    "cell_id": "00063-4075a462-4258-4be8-8bfe-b027c839b88c",
    "deepnote_cell_type": "code"
   },
   "source": "df.select_dtypes(include='int64').apply(np.sqrt)",
   "outputs": [
    {
     "data": {
      "text/html": "<div>\n<style scoped>\n    .dataframe tbody tr th:only-of-type {\n        vertical-align: middle;\n    }\n\n    .dataframe tbody tr th {\n        vertical-align: top;\n    }\n\n    .dataframe thead th {\n        text-align: right;\n    }\n</style>\n<table border=\"1\" class=\"dataframe\">\n  <thead>\n    <tr style=\"text-align: right;\">\n      <th></th>\n      <th>edad</th>\n      <th>visitas</th>\n    </tr>\n    <tr>\n      <th>nombre</th>\n      <th></th>\n      <th></th>\n    </tr>\n  </thead>\n  <tbody>\n    <tr>\n      <th>SFDX Show</th>\n      <td>5.477226</td>\n      <td>361.738856</td>\n    </tr>\n    <tr>\n      <th>Sara Nogark</th>\n      <td>5.385165</td>\n      <td>337.897914</td>\n    </tr>\n    <tr>\n      <th>Nate Gentile</th>\n      <td>5.567764</td>\n      <td>377.551321</td>\n    </tr>\n    <tr>\n      <th>Bettatech</th>\n      <td>5.567764</td>\n      <td>386.603156</td>\n    </tr>\n    <tr>\n      <th>Antonio Sarosi</th>\n      <td>5.291503</td>\n      <td>363.329052</td>\n    </tr>\n    <tr>\n      <th>Edgar Pons</th>\n      <td>5.385165</td>\n      <td>378.972295</td>\n    </tr>\n    <tr>\n      <th>s4vitar</th>\n      <td>5.291503</td>\n      <td>364.097514</td>\n    </tr>\n  </tbody>\n</table>\n</div>",
      "text/plain": "                    edad     visitas\nnombre                              \nSFDX Show       5.477226  361.738856\nSara Nogark     5.385165  337.897914\nNate Gentile    5.567764  377.551321\nBettatech       5.567764  386.603156\nAntonio Sarosi  5.291503  363.329052\nEdgar Pons      5.385165  378.972295\ns4vitar         5.291503  364.097514"
     },
     "execution_count": 139,
     "metadata": {},
     "output_type": "execute_result"
    }
   ],
   "execution_count": null
  },
  {
   "cell_type": "code",
   "metadata": {
    "cell_id": "00064-5deae308-28ef-4e9c-9dc6-665bf46a0d66",
    "deepnote_cell_type": "code"
   },
   "source": "df['especialidad mayus'] = df['especialidad'].apply(lambda x: x.upper())",
   "outputs": [],
   "execution_count": null
  },
  {
   "cell_type": "code",
   "metadata": {
    "scrolled": true,
    "cell_id": "00065-3e78e7d8-5949-480a-ba17-da7318dde06f",
    "deepnote_cell_type": "code"
   },
   "source": "n = np.array(list(range(5)))",
   "outputs": [],
   "execution_count": null
  },
  {
   "cell_type": "code",
   "metadata": {
    "cell_id": "00066-cf952c2e-6c23-4e22-a587-a6574dec880b",
    "deepnote_cell_type": "code"
   },
   "source": "n",
   "outputs": [
    {
     "data": {
      "text/plain": "array([0, 1, 2, 3, 4])"
     },
     "execution_count": 142,
     "metadata": {},
     "output_type": "execute_result"
    }
   ],
   "execution_count": null
  },
  {
   "cell_type": "code",
   "metadata": {
    "cell_id": "00067-fe9a2b89-cda7-4177-9754-e055d7075ecb",
    "deepnote_cell_type": "code"
   },
   "source": "mas_1 = lambda x: x + 1",
   "outputs": [],
   "execution_count": null
  },
  {
   "cell_type": "code",
   "metadata": {
    "cell_id": "00068-0f939674-5f7c-4063-8267-47edff4c61e8",
    "deepnote_cell_type": "code"
   },
   "source": "mas_1(n)",
   "outputs": [
    {
     "data": {
      "text/plain": "array([1, 2, 3, 4, 5])"
     },
     "execution_count": 144,
     "metadata": {},
     "output_type": "execute_result"
    }
   ],
   "execution_count": null
  },
  {
   "cell_type": "code",
   "metadata": {
    "cell_id": "00069-fbfda5c8-bfc4-476f-a874-f9fe21dd779b",
    "deepnote_cell_type": "code"
   },
   "source": "df",
   "outputs": [
    {
     "data": {
      "text/html": "<div>\n<style scoped>\n    .dataframe tbody tr th:only-of-type {\n        vertical-align: middle;\n    }\n\n    .dataframe tbody tr th {\n        vertical-align: top;\n    }\n\n    .dataframe thead th {\n        text-align: right;\n    }\n</style>\n<table border=\"1\" class=\"dataframe\">\n  <thead>\n    <tr style=\"text-align: right;\">\n      <th></th>\n      <th>especialidad</th>\n      <th>edad</th>\n      <th>visitas</th>\n      <th>sexo</th>\n      <th>especialidad mayus</th>\n    </tr>\n    <tr>\n      <th>nombre</th>\n      <th></th>\n      <th></th>\n      <th></th>\n      <th></th>\n      <th></th>\n    </tr>\n  </thead>\n  <tbody>\n    <tr>\n      <th>SFDX Show</th>\n      <td>Hardware</td>\n      <td>30</td>\n      <td>130855</td>\n      <td>H</td>\n      <td>HARDWARE</td>\n    </tr>\n    <tr>\n      <th>Sara Nogark</th>\n      <td>Edición de vídeo</td>\n      <td>29</td>\n      <td>114175</td>\n      <td>M</td>\n      <td>EDICIÓN DE VÍDEO</td>\n    </tr>\n    <tr>\n      <th>Nate Gentile</th>\n      <td>Programación</td>\n      <td>31</td>\n      <td>142545</td>\n      <td>H</td>\n      <td>PROGRAMACIÓN</td>\n    </tr>\n    <tr>\n      <th>Bettatech</th>\n      <td>Programación</td>\n      <td>31</td>\n      <td>149462</td>\n      <td>H</td>\n      <td>PROGRAMACIÓN</td>\n    </tr>\n    <tr>\n      <th>Antonio Sarosi</th>\n      <td>Sistemas Operativos</td>\n      <td>28</td>\n      <td>132008</td>\n      <td>H</td>\n      <td>SISTEMAS OPERATIVOS</td>\n    </tr>\n    <tr>\n      <th>Edgar Pons</th>\n      <td>Robótica</td>\n      <td>29</td>\n      <td>143620</td>\n      <td>H</td>\n      <td>ROBÓTICA</td>\n    </tr>\n    <tr>\n      <th>s4vitar</th>\n      <td>Hacking</td>\n      <td>28</td>\n      <td>132567</td>\n      <td>H</td>\n      <td>HACKING</td>\n    </tr>\n  </tbody>\n</table>\n</div>",
      "text/plain": "                       especialidad  edad  visitas sexo   especialidad mayus\nnombre                                                                      \nSFDX Show                  Hardware    30   130855    H             HARDWARE\nSara Nogark        Edición de vídeo    29   114175    M     EDICIÓN DE VÍDEO\nNate Gentile           Programación    31   142545    H         PROGRAMACIÓN\nBettatech              Programación    31   149462    H         PROGRAMACIÓN\nAntonio Sarosi  Sistemas Operativos    28   132008    H  SISTEMAS OPERATIVOS\nEdgar Pons                 Robótica    29   143620    H             ROBÓTICA\ns4vitar                     Hacking    28   132567    H              HACKING"
     },
     "execution_count": 145,
     "metadata": {},
     "output_type": "execute_result"
    }
   ],
   "execution_count": null
  },
  {
   "cell_type": "code",
   "metadata": {
    "cell_id": "00070-c3525ac6-3109-4772-8d8d-f981088f3237",
    "deepnote_cell_type": "code"
   },
   "source": "df['especialidad'] = df['especialidad'].apply(lambda x: x.title())",
   "outputs": [],
   "execution_count": null
  },
  {
   "cell_type": "code",
   "metadata": {
    "cell_id": "00071-2700e44c-3e77-4fe7-97d2-25b1f01c9a97",
    "deepnote_cell_type": "code"
   },
   "source": "df",
   "outputs": [
    {
     "data": {
      "text/html": "<div>\n<style scoped>\n    .dataframe tbody tr th:only-of-type {\n        vertical-align: middle;\n    }\n\n    .dataframe tbody tr th {\n        vertical-align: top;\n    }\n\n    .dataframe thead th {\n        text-align: right;\n    }\n</style>\n<table border=\"1\" class=\"dataframe\">\n  <thead>\n    <tr style=\"text-align: right;\">\n      <th></th>\n      <th>especialidad</th>\n      <th>edad</th>\n      <th>visitas</th>\n      <th>sexo</th>\n      <th>especialidad mayus</th>\n    </tr>\n    <tr>\n      <th>nombre</th>\n      <th></th>\n      <th></th>\n      <th></th>\n      <th></th>\n      <th></th>\n    </tr>\n  </thead>\n  <tbody>\n    <tr>\n      <th>SFDX Show</th>\n      <td>Hardware</td>\n      <td>30</td>\n      <td>130855</td>\n      <td>H</td>\n      <td>HARDWARE</td>\n    </tr>\n    <tr>\n      <th>Sara Nogark</th>\n      <td>Edición De Vídeo</td>\n      <td>29</td>\n      <td>114175</td>\n      <td>M</td>\n      <td>EDICIÓN DE VÍDEO</td>\n    </tr>\n    <tr>\n      <th>Nate Gentile</th>\n      <td>Programación</td>\n      <td>31</td>\n      <td>142545</td>\n      <td>H</td>\n      <td>PROGRAMACIÓN</td>\n    </tr>\n    <tr>\n      <th>Bettatech</th>\n      <td>Programación</td>\n      <td>31</td>\n      <td>149462</td>\n      <td>H</td>\n      <td>PROGRAMACIÓN</td>\n    </tr>\n    <tr>\n      <th>Antonio Sarosi</th>\n      <td>Sistemas Operativos</td>\n      <td>28</td>\n      <td>132008</td>\n      <td>H</td>\n      <td>SISTEMAS OPERATIVOS</td>\n    </tr>\n    <tr>\n      <th>Edgar Pons</th>\n      <td>Robótica</td>\n      <td>29</td>\n      <td>143620</td>\n      <td>H</td>\n      <td>ROBÓTICA</td>\n    </tr>\n    <tr>\n      <th>s4vitar</th>\n      <td>Hacking</td>\n      <td>28</td>\n      <td>132567</td>\n      <td>H</td>\n      <td>HACKING</td>\n    </tr>\n  </tbody>\n</table>\n</div>",
      "text/plain": "                       especialidad  edad  visitas sexo   especialidad mayus\nnombre                                                                      \nSFDX Show                  Hardware    30   130855    H             HARDWARE\nSara Nogark        Edición De Vídeo    29   114175    M     EDICIÓN DE VÍDEO\nNate Gentile           Programación    31   142545    H         PROGRAMACIÓN\nBettatech              Programación    31   149462    H         PROGRAMACIÓN\nAntonio Sarosi  Sistemas Operativos    28   132008    H  SISTEMAS OPERATIVOS\nEdgar Pons                 Robótica    29   143620    H             ROBÓTICA\ns4vitar                     Hacking    28   132567    H              HACKING"
     },
     "execution_count": 147,
     "metadata": {},
     "output_type": "execute_result"
    }
   ],
   "execution_count": null
  },
  {
   "cell_type": "markdown",
   "source": "## df.drop()",
   "metadata": {
    "cell_id": "00072-4d089195-79bc-4173-97a1-a1d2f683437c",
    "deepnote_cell_type": "markdown"
   }
  },
  {
   "cell_type": "code",
   "metadata": {
    "scrolled": true,
    "cell_id": "00073-d8e5c89c-6daa-4dcf-bfd4-2350db0059f3",
    "deepnote_cell_type": "code"
   },
   "source": "df.drop('especialidad mayus', \n        inplace=True, \n        axis=1)",
   "outputs": [],
   "execution_count": null
  },
  {
   "cell_type": "code",
   "metadata": {
    "cell_id": "00074-e4d413e7-28d3-4aca-a3f0-82f83c2173a6",
    "deepnote_cell_type": "code"
   },
   "source": "df",
   "outputs": [
    {
     "data": {
      "text/html": "<div>\n<style scoped>\n    .dataframe tbody tr th:only-of-type {\n        vertical-align: middle;\n    }\n\n    .dataframe tbody tr th {\n        vertical-align: top;\n    }\n\n    .dataframe thead th {\n        text-align: right;\n    }\n</style>\n<table border=\"1\" class=\"dataframe\">\n  <thead>\n    <tr style=\"text-align: right;\">\n      <th></th>\n      <th>especialidad</th>\n      <th>edad</th>\n      <th>visitas</th>\n      <th>sexo</th>\n    </tr>\n    <tr>\n      <th>nombre</th>\n      <th></th>\n      <th></th>\n      <th></th>\n      <th></th>\n    </tr>\n  </thead>\n  <tbody>\n    <tr>\n      <th>SFDX Show</th>\n      <td>Hardware</td>\n      <td>30</td>\n      <td>130855</td>\n      <td>H</td>\n    </tr>\n    <tr>\n      <th>Sara Nogark</th>\n      <td>Edición De Vídeo</td>\n      <td>29</td>\n      <td>114175</td>\n      <td>M</td>\n    </tr>\n    <tr>\n      <th>Nate Gentile</th>\n      <td>Programación</td>\n      <td>31</td>\n      <td>142545</td>\n      <td>H</td>\n    </tr>\n    <tr>\n      <th>Bettatech</th>\n      <td>Programación</td>\n      <td>31</td>\n      <td>149462</td>\n      <td>H</td>\n    </tr>\n    <tr>\n      <th>Antonio Sarosi</th>\n      <td>Sistemas Operativos</td>\n      <td>28</td>\n      <td>132008</td>\n      <td>H</td>\n    </tr>\n    <tr>\n      <th>Edgar Pons</th>\n      <td>Robótica</td>\n      <td>29</td>\n      <td>143620</td>\n      <td>H</td>\n    </tr>\n    <tr>\n      <th>s4vitar</th>\n      <td>Hacking</td>\n      <td>28</td>\n      <td>132567</td>\n      <td>H</td>\n    </tr>\n  </tbody>\n</table>\n</div>",
      "text/plain": "                       especialidad  edad  visitas sexo\nnombre                                                 \nSFDX Show                  Hardware    30   130855    H\nSara Nogark        Edición De Vídeo    29   114175    M\nNate Gentile           Programación    31   142545    H\nBettatech              Programación    31   149462    H\nAntonio Sarosi  Sistemas Operativos    28   132008    H\nEdgar Pons                 Robótica    29   143620    H\ns4vitar                     Hacking    28   132567    H"
     },
     "execution_count": 149,
     "metadata": {},
     "output_type": "execute_result"
    }
   ],
   "execution_count": null
  },
  {
   "cell_type": "markdown",
   "source": "## df.drop_duplicates()",
   "metadata": {
    "cell_id": "00075-7dbfbdb5-2f70-4591-9dda-33b480e19d89",
    "deepnote_cell_type": "markdown"
   }
  },
  {
   "cell_type": "code",
   "metadata": {
    "cell_id": "00076-3de3303b-ce1f-4880-bdf0-5ae3308897e1",
    "deepnote_cell_type": "code"
   },
   "source": "new_df = df.copy()",
   "outputs": [],
   "execution_count": null
  },
  {
   "cell_type": "code",
   "metadata": {
    "cell_id": "00077-d7765daf-c48f-4646-a0a1-5c31b83c874c",
    "deepnote_cell_type": "code"
   },
   "source": "new_df.drop_duplicates('edad', \n                       keep='last')",
   "outputs": [
    {
     "data": {
      "text/html": "<div>\n<style scoped>\n    .dataframe tbody tr th:only-of-type {\n        vertical-align: middle;\n    }\n\n    .dataframe tbody tr th {\n        vertical-align: top;\n    }\n\n    .dataframe thead th {\n        text-align: right;\n    }\n</style>\n<table border=\"1\" class=\"dataframe\">\n  <thead>\n    <tr style=\"text-align: right;\">\n      <th></th>\n      <th>especialidad</th>\n      <th>edad</th>\n      <th>visitas</th>\n      <th>sexo</th>\n    </tr>\n    <tr>\n      <th>nombre</th>\n      <th></th>\n      <th></th>\n      <th></th>\n      <th></th>\n    </tr>\n  </thead>\n  <tbody>\n    <tr>\n      <th>SFDX Show</th>\n      <td>Hardware</td>\n      <td>30</td>\n      <td>130855</td>\n      <td>H</td>\n    </tr>\n    <tr>\n      <th>Bettatech</th>\n      <td>Programación</td>\n      <td>31</td>\n      <td>149462</td>\n      <td>H</td>\n    </tr>\n    <tr>\n      <th>Edgar Pons</th>\n      <td>Robótica</td>\n      <td>29</td>\n      <td>143620</td>\n      <td>H</td>\n    </tr>\n    <tr>\n      <th>s4vitar</th>\n      <td>Hacking</td>\n      <td>28</td>\n      <td>132567</td>\n      <td>H</td>\n    </tr>\n  </tbody>\n</table>\n</div>",
      "text/plain": "            especialidad  edad  visitas sexo\nnombre                                      \nSFDX Show       Hardware    30   130855    H\nBettatech   Programación    31   149462    H\nEdgar Pons      Robótica    29   143620    H\ns4vitar          Hacking    28   132567    H"
     },
     "execution_count": 151,
     "metadata": {},
     "output_type": "execute_result"
    }
   ],
   "execution_count": null
  },
  {
   "cell_type": "markdown",
   "source": "## df.nlargest()",
   "metadata": {
    "cell_id": "00078-7a5b99b7-fdfb-4a58-a46f-4e3cf648504b",
    "deepnote_cell_type": "markdown"
   }
  },
  {
   "cell_type": "code",
   "metadata": {
    "cell_id": "00079-3b80aefb-64f8-4e5a-830d-74fe0152dc76",
    "deepnote_cell_type": "code"
   },
   "source": "df.nlargest(3, 'visitas')",
   "outputs": [
    {
     "data": {
      "text/html": "<div>\n<style scoped>\n    .dataframe tbody tr th:only-of-type {\n        vertical-align: middle;\n    }\n\n    .dataframe tbody tr th {\n        vertical-align: top;\n    }\n\n    .dataframe thead th {\n        text-align: right;\n    }\n</style>\n<table border=\"1\" class=\"dataframe\">\n  <thead>\n    <tr style=\"text-align: right;\">\n      <th></th>\n      <th>especialidad</th>\n      <th>edad</th>\n      <th>visitas</th>\n      <th>sexo</th>\n    </tr>\n    <tr>\n      <th>nombre</th>\n      <th></th>\n      <th></th>\n      <th></th>\n      <th></th>\n    </tr>\n  </thead>\n  <tbody>\n    <tr>\n      <th>Bettatech</th>\n      <td>Programación</td>\n      <td>31</td>\n      <td>149462</td>\n      <td>H</td>\n    </tr>\n    <tr>\n      <th>Edgar Pons</th>\n      <td>Robótica</td>\n      <td>29</td>\n      <td>143620</td>\n      <td>H</td>\n    </tr>\n    <tr>\n      <th>Nate Gentile</th>\n      <td>Programación</td>\n      <td>31</td>\n      <td>142545</td>\n      <td>H</td>\n    </tr>\n  </tbody>\n</table>\n</div>",
      "text/plain": "              especialidad  edad  visitas sexo\nnombre                                        \nBettatech     Programación    31   149462    H\nEdgar Pons        Robótica    29   143620    H\nNate Gentile  Programación    31   142545    H"
     },
     "execution_count": 152,
     "metadata": {},
     "output_type": "execute_result"
    }
   ],
   "execution_count": null
  },
  {
   "cell_type": "markdown",
   "source": "### df.sort_values",
   "metadata": {
    "cell_id": "00080-cd31b862-1a41-46c8-bd40-88463c6cb3aa",
    "deepnote_cell_type": "markdown"
   }
  },
  {
   "cell_type": "code",
   "metadata": {
    "cell_id": "00081-59a548cd-e451-4a4e-894f-1ad192e63631",
    "deepnote_cell_type": "code"
   },
   "source": "df.sort_values(by='visitas', \n               ascending=False)",
   "outputs": [
    {
     "data": {
      "text/html": "<div>\n<style scoped>\n    .dataframe tbody tr th:only-of-type {\n        vertical-align: middle;\n    }\n\n    .dataframe tbody tr th {\n        vertical-align: top;\n    }\n\n    .dataframe thead th {\n        text-align: right;\n    }\n</style>\n<table border=\"1\" class=\"dataframe\">\n  <thead>\n    <tr style=\"text-align: right;\">\n      <th></th>\n      <th>especialidad</th>\n      <th>edad</th>\n      <th>visitas</th>\n      <th>sexo</th>\n    </tr>\n    <tr>\n      <th>nombre</th>\n      <th></th>\n      <th></th>\n      <th></th>\n      <th></th>\n    </tr>\n  </thead>\n  <tbody>\n    <tr>\n      <th>Bettatech</th>\n      <td>Programación</td>\n      <td>31</td>\n      <td>149462</td>\n      <td>H</td>\n    </tr>\n    <tr>\n      <th>Edgar Pons</th>\n      <td>Robótica</td>\n      <td>29</td>\n      <td>143620</td>\n      <td>H</td>\n    </tr>\n    <tr>\n      <th>Nate Gentile</th>\n      <td>Programación</td>\n      <td>31</td>\n      <td>142545</td>\n      <td>H</td>\n    </tr>\n    <tr>\n      <th>s4vitar</th>\n      <td>Hacking</td>\n      <td>28</td>\n      <td>132567</td>\n      <td>H</td>\n    </tr>\n    <tr>\n      <th>Antonio Sarosi</th>\n      <td>Sistemas Operativos</td>\n      <td>28</td>\n      <td>132008</td>\n      <td>H</td>\n    </tr>\n    <tr>\n      <th>SFDX Show</th>\n      <td>Hardware</td>\n      <td>30</td>\n      <td>130855</td>\n      <td>H</td>\n    </tr>\n    <tr>\n      <th>Sara Nogark</th>\n      <td>Edición De Vídeo</td>\n      <td>29</td>\n      <td>114175</td>\n      <td>M</td>\n    </tr>\n  </tbody>\n</table>\n</div>",
      "text/plain": "                       especialidad  edad  visitas sexo\nnombre                                                 \nBettatech              Programación    31   149462    H\nEdgar Pons                 Robótica    29   143620    H\nNate Gentile           Programación    31   142545    H\ns4vitar                     Hacking    28   132567    H\nAntonio Sarosi  Sistemas Operativos    28   132008    H\nSFDX Show                  Hardware    30   130855    H\nSara Nogark        Edición De Vídeo    29   114175    M"
     },
     "execution_count": 153,
     "metadata": {},
     "output_type": "execute_result"
    }
   ],
   "execution_count": null
  },
  {
   "cell_type": "markdown",
   "source": "## df.nsmallest()",
   "metadata": {
    "cell_id": "00082-f47aa2e3-dd31-4d66-ba8a-ca98c892cb14",
    "deepnote_cell_type": "markdown"
   }
  },
  {
   "cell_type": "code",
   "metadata": {
    "scrolled": true,
    "cell_id": "00083-c814e764-c220-4bc3-ab8e-79d32f0b4280",
    "deepnote_cell_type": "code"
   },
   "source": "df.nsmallest(len(df), 'visitas')",
   "outputs": [
    {
     "data": {
      "text/html": "<div>\n<style scoped>\n    .dataframe tbody tr th:only-of-type {\n        vertical-align: middle;\n    }\n\n    .dataframe tbody tr th {\n        vertical-align: top;\n    }\n\n    .dataframe thead th {\n        text-align: right;\n    }\n</style>\n<table border=\"1\" class=\"dataframe\">\n  <thead>\n    <tr style=\"text-align: right;\">\n      <th></th>\n      <th>especialidad</th>\n      <th>edad</th>\n      <th>visitas</th>\n      <th>sexo</th>\n    </tr>\n    <tr>\n      <th>nombre</th>\n      <th></th>\n      <th></th>\n      <th></th>\n      <th></th>\n    </tr>\n  </thead>\n  <tbody>\n    <tr>\n      <th>Sara Nogark</th>\n      <td>Edición De Vídeo</td>\n      <td>29</td>\n      <td>114175</td>\n      <td>M</td>\n    </tr>\n    <tr>\n      <th>SFDX Show</th>\n      <td>Hardware</td>\n      <td>30</td>\n      <td>130855</td>\n      <td>H</td>\n    </tr>\n    <tr>\n      <th>Antonio Sarosi</th>\n      <td>Sistemas Operativos</td>\n      <td>28</td>\n      <td>132008</td>\n      <td>H</td>\n    </tr>\n    <tr>\n      <th>s4vitar</th>\n      <td>Hacking</td>\n      <td>28</td>\n      <td>132567</td>\n      <td>H</td>\n    </tr>\n    <tr>\n      <th>Nate Gentile</th>\n      <td>Programación</td>\n      <td>31</td>\n      <td>142545</td>\n      <td>H</td>\n    </tr>\n    <tr>\n      <th>Edgar Pons</th>\n      <td>Robótica</td>\n      <td>29</td>\n      <td>143620</td>\n      <td>H</td>\n    </tr>\n    <tr>\n      <th>Bettatech</th>\n      <td>Programación</td>\n      <td>31</td>\n      <td>149462</td>\n      <td>H</td>\n    </tr>\n  </tbody>\n</table>\n</div>",
      "text/plain": "                       especialidad  edad  visitas sexo\nnombre                                                 \nSara Nogark        Edición De Vídeo    29   114175    M\nSFDX Show                  Hardware    30   130855    H\nAntonio Sarosi  Sistemas Operativos    28   132008    H\ns4vitar                     Hacking    28   132567    H\nNate Gentile           Programación    31   142545    H\nEdgar Pons                 Robótica    29   143620    H\nBettatech              Programación    31   149462    H"
     },
     "execution_count": 154,
     "metadata": {},
     "output_type": "execute_result"
    }
   ],
   "execution_count": null
  },
  {
   "cell_type": "code",
   "metadata": {
    "cell_id": "00084-823108f6-855a-4f65-9436-4b3cde0c0b51",
    "deepnote_cell_type": "code"
   },
   "source": "df.nsmallest(len(df), 'visitas') == df.sort_values(by='visitas')",
   "outputs": [
    {
     "data": {
      "text/html": "<div>\n<style scoped>\n    .dataframe tbody tr th:only-of-type {\n        vertical-align: middle;\n    }\n\n    .dataframe tbody tr th {\n        vertical-align: top;\n    }\n\n    .dataframe thead th {\n        text-align: right;\n    }\n</style>\n<table border=\"1\" class=\"dataframe\">\n  <thead>\n    <tr style=\"text-align: right;\">\n      <th></th>\n      <th>especialidad</th>\n      <th>edad</th>\n      <th>visitas</th>\n      <th>sexo</th>\n    </tr>\n    <tr>\n      <th>nombre</th>\n      <th></th>\n      <th></th>\n      <th></th>\n      <th></th>\n    </tr>\n  </thead>\n  <tbody>\n    <tr>\n      <th>Sara Nogark</th>\n      <td>True</td>\n      <td>True</td>\n      <td>True</td>\n      <td>True</td>\n    </tr>\n    <tr>\n      <th>SFDX Show</th>\n      <td>True</td>\n      <td>True</td>\n      <td>True</td>\n      <td>True</td>\n    </tr>\n    <tr>\n      <th>Antonio Sarosi</th>\n      <td>True</td>\n      <td>True</td>\n      <td>True</td>\n      <td>True</td>\n    </tr>\n    <tr>\n      <th>s4vitar</th>\n      <td>True</td>\n      <td>True</td>\n      <td>True</td>\n      <td>True</td>\n    </tr>\n    <tr>\n      <th>Nate Gentile</th>\n      <td>True</td>\n      <td>True</td>\n      <td>True</td>\n      <td>True</td>\n    </tr>\n    <tr>\n      <th>Edgar Pons</th>\n      <td>True</td>\n      <td>True</td>\n      <td>True</td>\n      <td>True</td>\n    </tr>\n    <tr>\n      <th>Bettatech</th>\n      <td>True</td>\n      <td>True</td>\n      <td>True</td>\n      <td>True</td>\n    </tr>\n  </tbody>\n</table>\n</div>",
      "text/plain": "                especialidad  edad  visitas  sexo\nnombre                                           \nSara Nogark             True  True     True  True\nSFDX Show               True  True     True  True\nAntonio Sarosi          True  True     True  True\ns4vitar                 True  True     True  True\nNate Gentile            True  True     True  True\nEdgar Pons              True  True     True  True\nBettatech               True  True     True  True"
     },
     "execution_count": 155,
     "metadata": {},
     "output_type": "execute_result"
    }
   ],
   "execution_count": null
  },
  {
   "cell_type": "code",
   "metadata": {
    "cell_id": "00085-637d893f-0066-44f5-b954-736347d8bc30",
    "deepnote_cell_type": "code"
   },
   "source": "df.sort_values(by=['edad', 'visitas'], \n               ascending=False)",
   "outputs": [
    {
     "data": {
      "text/html": "<div>\n<style scoped>\n    .dataframe tbody tr th:only-of-type {\n        vertical-align: middle;\n    }\n\n    .dataframe tbody tr th {\n        vertical-align: top;\n    }\n\n    .dataframe thead th {\n        text-align: right;\n    }\n</style>\n<table border=\"1\" class=\"dataframe\">\n  <thead>\n    <tr style=\"text-align: right;\">\n      <th></th>\n      <th>especialidad</th>\n      <th>edad</th>\n      <th>visitas</th>\n      <th>sexo</th>\n    </tr>\n    <tr>\n      <th>nombre</th>\n      <th></th>\n      <th></th>\n      <th></th>\n      <th></th>\n    </tr>\n  </thead>\n  <tbody>\n    <tr>\n      <th>Bettatech</th>\n      <td>Programación</td>\n      <td>31</td>\n      <td>149462</td>\n      <td>H</td>\n    </tr>\n    <tr>\n      <th>Nate Gentile</th>\n      <td>Programación</td>\n      <td>31</td>\n      <td>142545</td>\n      <td>H</td>\n    </tr>\n    <tr>\n      <th>SFDX Show</th>\n      <td>Hardware</td>\n      <td>30</td>\n      <td>130855</td>\n      <td>H</td>\n    </tr>\n    <tr>\n      <th>Edgar Pons</th>\n      <td>Robótica</td>\n      <td>29</td>\n      <td>143620</td>\n      <td>H</td>\n    </tr>\n    <tr>\n      <th>Sara Nogark</th>\n      <td>Edición De Vídeo</td>\n      <td>29</td>\n      <td>114175</td>\n      <td>M</td>\n    </tr>\n    <tr>\n      <th>s4vitar</th>\n      <td>Hacking</td>\n      <td>28</td>\n      <td>132567</td>\n      <td>H</td>\n    </tr>\n    <tr>\n      <th>Antonio Sarosi</th>\n      <td>Sistemas Operativos</td>\n      <td>28</td>\n      <td>132008</td>\n      <td>H</td>\n    </tr>\n  </tbody>\n</table>\n</div>",
      "text/plain": "                       especialidad  edad  visitas sexo\nnombre                                                 \nBettatech              Programación    31   149462    H\nNate Gentile           Programación    31   142545    H\nSFDX Show                  Hardware    30   130855    H\nEdgar Pons                 Robótica    29   143620    H\nSara Nogark        Edición De Vídeo    29   114175    M\ns4vitar                     Hacking    28   132567    H\nAntonio Sarosi  Sistemas Operativos    28   132008    H"
     },
     "execution_count": 156,
     "metadata": {},
     "output_type": "execute_result"
    }
   ],
   "execution_count": null
  },
  {
   "cell_type": "markdown",
   "source": "## df.values_counts()",
   "metadata": {
    "cell_id": "00086-4d22f320-6c9b-48d5-84b8-63b5fd3f82ce",
    "deepnote_cell_type": "markdown"
   }
  },
  {
   "cell_type": "code",
   "metadata": {
    "cell_id": "00087-0948e5f2-dc46-4994-9a91-5922cc976aa9",
    "deepnote_cell_type": "code"
   },
   "source": "df.value_counts('edad')",
   "outputs": [
    {
     "data": {
      "text/plain": "edad\n28    2\n29    2\n31    2\n30    1\ndtype: int64"
     },
     "execution_count": 157,
     "metadata": {},
     "output_type": "execute_result"
    }
   ],
   "execution_count": null
  },
  {
   "cell_type": "markdown",
   "source": "## df.rename()",
   "metadata": {
    "cell_id": "00088-562a1fb4-ac57-4c06-ae90-25f2302bb339",
    "deepnote_cell_type": "markdown"
   }
  },
  {
   "cell_type": "code",
   "metadata": {
    "cell_id": "00089-12daa4ac-1aeb-4527-aaff-9f5d63a78c4d",
    "deepnote_cell_type": "code"
   },
   "source": "df.rename(columns={'edad':'viejo'})",
   "outputs": [
    {
     "data": {
      "text/html": "<div>\n<style scoped>\n    .dataframe tbody tr th:only-of-type {\n        vertical-align: middle;\n    }\n\n    .dataframe tbody tr th {\n        vertical-align: top;\n    }\n\n    .dataframe thead th {\n        text-align: right;\n    }\n</style>\n<table border=\"1\" class=\"dataframe\">\n  <thead>\n    <tr style=\"text-align: right;\">\n      <th></th>\n      <th>especialidad</th>\n      <th>viejo</th>\n      <th>visitas</th>\n      <th>sexo</th>\n    </tr>\n    <tr>\n      <th>nombre</th>\n      <th></th>\n      <th></th>\n      <th></th>\n      <th></th>\n    </tr>\n  </thead>\n  <tbody>\n    <tr>\n      <th>SFDX Show</th>\n      <td>Hardware</td>\n      <td>30</td>\n      <td>130855</td>\n      <td>H</td>\n    </tr>\n    <tr>\n      <th>Sara Nogark</th>\n      <td>Edición De Vídeo</td>\n      <td>29</td>\n      <td>114175</td>\n      <td>M</td>\n    </tr>\n    <tr>\n      <th>Nate Gentile</th>\n      <td>Programación</td>\n      <td>31</td>\n      <td>142545</td>\n      <td>H</td>\n    </tr>\n    <tr>\n      <th>Bettatech</th>\n      <td>Programación</td>\n      <td>31</td>\n      <td>149462</td>\n      <td>H</td>\n    </tr>\n    <tr>\n      <th>Antonio Sarosi</th>\n      <td>Sistemas Operativos</td>\n      <td>28</td>\n      <td>132008</td>\n      <td>H</td>\n    </tr>\n    <tr>\n      <th>Edgar Pons</th>\n      <td>Robótica</td>\n      <td>29</td>\n      <td>143620</td>\n      <td>H</td>\n    </tr>\n    <tr>\n      <th>s4vitar</th>\n      <td>Hacking</td>\n      <td>28</td>\n      <td>132567</td>\n      <td>H</td>\n    </tr>\n  </tbody>\n</table>\n</div>",
      "text/plain": "                       especialidad  viejo  visitas sexo\nnombre                                                  \nSFDX Show                  Hardware     30   130855    H\nSara Nogark        Edición De Vídeo     29   114175    M\nNate Gentile           Programación     31   142545    H\nBettatech              Programación     31   149462    H\nAntonio Sarosi  Sistemas Operativos     28   132008    H\nEdgar Pons                 Robótica     29   143620    H\ns4vitar                     Hacking     28   132567    H"
     },
     "execution_count": 158,
     "metadata": {},
     "output_type": "execute_result"
    }
   ],
   "execution_count": null
  },
  {
   "cell_type": "markdown",
   "source": "# Funciones avanzadas",
   "metadata": {
    "cell_id": "00090-af75fbe7-2ec2-471f-9c5c-7faafb510328",
    "deepnote_cell_type": "markdown"
   }
  },
  {
   "cell_type": "code",
   "metadata": {
    "scrolled": true,
    "cell_id": "00091-d0a99ecd-0893-4e59-89c7-6f737a1084d8",
    "deepnote_cell_type": "code"
   },
   "source": "df.reset_index(inplace=True)",
   "outputs": [],
   "execution_count": null
  },
  {
   "cell_type": "code",
   "metadata": {
    "cell_id": "00092-0688c168-9331-4f2b-b597-33404323ac63",
    "deepnote_cell_type": "code"
   },
   "source": "df",
   "outputs": [
    {
     "data": {
      "text/html": "<div>\n<style scoped>\n    .dataframe tbody tr th:only-of-type {\n        vertical-align: middle;\n    }\n\n    .dataframe tbody tr th {\n        vertical-align: top;\n    }\n\n    .dataframe thead th {\n        text-align: right;\n    }\n</style>\n<table border=\"1\" class=\"dataframe\">\n  <thead>\n    <tr style=\"text-align: right;\">\n      <th></th>\n      <th>nombre</th>\n      <th>especialidad</th>\n      <th>edad</th>\n      <th>visitas</th>\n      <th>sexo</th>\n    </tr>\n  </thead>\n  <tbody>\n    <tr>\n      <th>0</th>\n      <td>SFDX Show</td>\n      <td>Hardware</td>\n      <td>30</td>\n      <td>130855</td>\n      <td>H</td>\n    </tr>\n    <tr>\n      <th>1</th>\n      <td>Sara Nogark</td>\n      <td>Edición De Vídeo</td>\n      <td>29</td>\n      <td>114175</td>\n      <td>M</td>\n    </tr>\n    <tr>\n      <th>2</th>\n      <td>Nate Gentile</td>\n      <td>Programación</td>\n      <td>31</td>\n      <td>142545</td>\n      <td>H</td>\n    </tr>\n    <tr>\n      <th>3</th>\n      <td>Bettatech</td>\n      <td>Programación</td>\n      <td>31</td>\n      <td>149462</td>\n      <td>H</td>\n    </tr>\n    <tr>\n      <th>4</th>\n      <td>Antonio Sarosi</td>\n      <td>Sistemas Operativos</td>\n      <td>28</td>\n      <td>132008</td>\n      <td>H</td>\n    </tr>\n    <tr>\n      <th>5</th>\n      <td>Edgar Pons</td>\n      <td>Robótica</td>\n      <td>29</td>\n      <td>143620</td>\n      <td>H</td>\n    </tr>\n    <tr>\n      <th>6</th>\n      <td>s4vitar</td>\n      <td>Hacking</td>\n      <td>28</td>\n      <td>132567</td>\n      <td>H</td>\n    </tr>\n  </tbody>\n</table>\n</div>",
      "text/plain": "           nombre         especialidad  edad  visitas sexo\n0       SFDX Show             Hardware    30   130855    H\n1     Sara Nogark     Edición De Vídeo    29   114175    M\n2    Nate Gentile         Programación    31   142545    H\n3       Bettatech         Programación    31   149462    H\n4  Antonio Sarosi  Sistemas Operativos    28   132008    H\n5      Edgar Pons             Robótica    29   143620    H\n6         s4vitar              Hacking    28   132567    H"
     },
     "execution_count": 160,
     "metadata": {},
     "output_type": "execute_result"
    }
   ],
   "execution_count": null
  },
  {
   "cell_type": "code",
   "metadata": {
    "cell_id": "00093-aae035ac-1690-41e3-b61c-047b5a44bb96",
    "deepnote_cell_type": "code"
   },
   "source": "df_nuevo = df.copy()",
   "outputs": [],
   "execution_count": null
  },
  {
   "cell_type": "markdown",
   "source": "## pd.concat()",
   "metadata": {
    "cell_id": "00094-f7afb239-0b0f-4a06-a0b8-11a4ab8e3a6f",
    "deepnote_cell_type": "markdown"
   }
  },
  {
   "cell_type": "code",
   "metadata": {
    "scrolled": true,
    "cell_id": "00095-e5a16904-7d75-4fe5-8ce7-cb288012cb8f",
    "deepnote_cell_type": "code"
   },
   "source": "df",
   "outputs": [
    {
     "data": {
      "text/html": "<div>\n<style scoped>\n    .dataframe tbody tr th:only-of-type {\n        vertical-align: middle;\n    }\n\n    .dataframe tbody tr th {\n        vertical-align: top;\n    }\n\n    .dataframe thead th {\n        text-align: right;\n    }\n</style>\n<table border=\"1\" class=\"dataframe\">\n  <thead>\n    <tr style=\"text-align: right;\">\n      <th></th>\n      <th>nombre</th>\n      <th>especialidad</th>\n      <th>edad</th>\n      <th>visitas</th>\n      <th>sexo</th>\n    </tr>\n  </thead>\n  <tbody>\n    <tr>\n      <th>0</th>\n      <td>SFDX Show</td>\n      <td>Hardware</td>\n      <td>30</td>\n      <td>130855</td>\n      <td>H</td>\n    </tr>\n    <tr>\n      <th>1</th>\n      <td>Sara Nogark</td>\n      <td>Edición De Vídeo</td>\n      <td>29</td>\n      <td>114175</td>\n      <td>M</td>\n    </tr>\n    <tr>\n      <th>2</th>\n      <td>Nate Gentile</td>\n      <td>Programación</td>\n      <td>31</td>\n      <td>142545</td>\n      <td>H</td>\n    </tr>\n    <tr>\n      <th>3</th>\n      <td>Bettatech</td>\n      <td>Programación</td>\n      <td>31</td>\n      <td>149462</td>\n      <td>H</td>\n    </tr>\n    <tr>\n      <th>4</th>\n      <td>Antonio Sarosi</td>\n      <td>Sistemas Operativos</td>\n      <td>28</td>\n      <td>132008</td>\n      <td>H</td>\n    </tr>\n    <tr>\n      <th>5</th>\n      <td>Edgar Pons</td>\n      <td>Robótica</td>\n      <td>29</td>\n      <td>143620</td>\n      <td>H</td>\n    </tr>\n    <tr>\n      <th>6</th>\n      <td>s4vitar</td>\n      <td>Hacking</td>\n      <td>28</td>\n      <td>132567</td>\n      <td>H</td>\n    </tr>\n  </tbody>\n</table>\n</div>",
      "text/plain": "           nombre         especialidad  edad  visitas sexo\n0       SFDX Show             Hardware    30   130855    H\n1     Sara Nogark     Edición De Vídeo    29   114175    M\n2    Nate Gentile         Programación    31   142545    H\n3       Bettatech         Programación    31   149462    H\n4  Antonio Sarosi  Sistemas Operativos    28   132008    H\n5      Edgar Pons             Robótica    29   143620    H\n6         s4vitar              Hacking    28   132567    H"
     },
     "execution_count": 162,
     "metadata": {},
     "output_type": "execute_result"
    }
   ],
   "execution_count": null
  },
  {
   "cell_type": "code",
   "metadata": {
    "scrolled": true,
    "cell_id": "00096-7b0bff9d-7ee3-475d-8846-f99f3809285e",
    "deepnote_cell_type": "code"
   },
   "source": "df_nuevo",
   "outputs": [
    {
     "data": {
      "text/html": "<div>\n<style scoped>\n    .dataframe tbody tr th:only-of-type {\n        vertical-align: middle;\n    }\n\n    .dataframe tbody tr th {\n        vertical-align: top;\n    }\n\n    .dataframe thead th {\n        text-align: right;\n    }\n</style>\n<table border=\"1\" class=\"dataframe\">\n  <thead>\n    <tr style=\"text-align: right;\">\n      <th></th>\n      <th>nombre</th>\n      <th>especialidad</th>\n      <th>edad</th>\n      <th>visitas</th>\n      <th>sexo</th>\n    </tr>\n  </thead>\n  <tbody>\n    <tr>\n      <th>0</th>\n      <td>SFDX Show</td>\n      <td>Hardware</td>\n      <td>30</td>\n      <td>130855</td>\n      <td>H</td>\n    </tr>\n    <tr>\n      <th>1</th>\n      <td>Sara Nogark</td>\n      <td>Edición De Vídeo</td>\n      <td>29</td>\n      <td>114175</td>\n      <td>M</td>\n    </tr>\n    <tr>\n      <th>2</th>\n      <td>Nate Gentile</td>\n      <td>Programación</td>\n      <td>31</td>\n      <td>142545</td>\n      <td>H</td>\n    </tr>\n    <tr>\n      <th>3</th>\n      <td>Bettatech</td>\n      <td>Programación</td>\n      <td>31</td>\n      <td>149462</td>\n      <td>H</td>\n    </tr>\n    <tr>\n      <th>4</th>\n      <td>Antonio Sarosi</td>\n      <td>Sistemas Operativos</td>\n      <td>28</td>\n      <td>132008</td>\n      <td>H</td>\n    </tr>\n    <tr>\n      <th>5</th>\n      <td>Edgar Pons</td>\n      <td>Robótica</td>\n      <td>29</td>\n      <td>143620</td>\n      <td>H</td>\n    </tr>\n    <tr>\n      <th>6</th>\n      <td>s4vitar</td>\n      <td>Hacking</td>\n      <td>28</td>\n      <td>132567</td>\n      <td>H</td>\n    </tr>\n  </tbody>\n</table>\n</div>",
      "text/plain": "           nombre         especialidad  edad  visitas sexo\n0       SFDX Show             Hardware    30   130855    H\n1     Sara Nogark     Edición De Vídeo    29   114175    M\n2    Nate Gentile         Programación    31   142545    H\n3       Bettatech         Programación    31   149462    H\n4  Antonio Sarosi  Sistemas Operativos    28   132008    H\n5      Edgar Pons             Robótica    29   143620    H\n6         s4vitar              Hacking    28   132567    H"
     },
     "execution_count": 163,
     "metadata": {},
     "output_type": "execute_result"
    }
   ],
   "execution_count": null
  },
  {
   "cell_type": "code",
   "metadata": {
    "cell_id": "00097-caeaf9cd-8f67-49c2-91d2-a0588377a1bb",
    "deepnote_cell_type": "code"
   },
   "source": "df_nuevo['nombre'] = ['batman', 'spiderman', 'superman', 'thor', 'aironman', 'hulk', 'loki']",
   "outputs": [],
   "execution_count": null
  },
  {
   "cell_type": "code",
   "metadata": {
    "scrolled": true,
    "cell_id": "00098-7a02de8e-5fcc-4e6b-a83d-a9fd76d4b869",
    "deepnote_cell_type": "code"
   },
   "source": "df_nuevo",
   "outputs": [
    {
     "data": {
      "text/html": "<div>\n<style scoped>\n    .dataframe tbody tr th:only-of-type {\n        vertical-align: middle;\n    }\n\n    .dataframe tbody tr th {\n        vertical-align: top;\n    }\n\n    .dataframe thead th {\n        text-align: right;\n    }\n</style>\n<table border=\"1\" class=\"dataframe\">\n  <thead>\n    <tr style=\"text-align: right;\">\n      <th></th>\n      <th>nombre</th>\n      <th>especialidad</th>\n      <th>edad</th>\n      <th>visitas</th>\n      <th>sexo</th>\n    </tr>\n  </thead>\n  <tbody>\n    <tr>\n      <th>0</th>\n      <td>batman</td>\n      <td>Hardware</td>\n      <td>30</td>\n      <td>130855</td>\n      <td>H</td>\n    </tr>\n    <tr>\n      <th>1</th>\n      <td>spiderman</td>\n      <td>Edición De Vídeo</td>\n      <td>29</td>\n      <td>114175</td>\n      <td>M</td>\n    </tr>\n    <tr>\n      <th>2</th>\n      <td>superman</td>\n      <td>Programación</td>\n      <td>31</td>\n      <td>142545</td>\n      <td>H</td>\n    </tr>\n    <tr>\n      <th>3</th>\n      <td>thor</td>\n      <td>Programación</td>\n      <td>31</td>\n      <td>149462</td>\n      <td>H</td>\n    </tr>\n    <tr>\n      <th>4</th>\n      <td>aironman</td>\n      <td>Sistemas Operativos</td>\n      <td>28</td>\n      <td>132008</td>\n      <td>H</td>\n    </tr>\n    <tr>\n      <th>5</th>\n      <td>hulk</td>\n      <td>Robótica</td>\n      <td>29</td>\n      <td>143620</td>\n      <td>H</td>\n    </tr>\n    <tr>\n      <th>6</th>\n      <td>loki</td>\n      <td>Hacking</td>\n      <td>28</td>\n      <td>132567</td>\n      <td>H</td>\n    </tr>\n  </tbody>\n</table>\n</div>",
      "text/plain": "      nombre         especialidad  edad  visitas sexo\n0     batman             Hardware    30   130855    H\n1  spiderman     Edición De Vídeo    29   114175    M\n2   superman         Programación    31   142545    H\n3       thor         Programación    31   149462    H\n4   aironman  Sistemas Operativos    28   132008    H\n5       hulk             Robótica    29   143620    H\n6       loki              Hacking    28   132567    H"
     },
     "execution_count": 165,
     "metadata": {},
     "output_type": "execute_result"
    }
   ],
   "execution_count": null
  },
  {
   "cell_type": "code",
   "metadata": {
    "scrolled": true,
    "cell_id": "00099-04b4b0da-ff15-4c4d-9911-35fad8520bcf",
    "deepnote_cell_type": "code"
   },
   "source": "pd.concat([df, df_nuevo]).reset_index(drop=True)",
   "outputs": [
    {
     "data": {
      "text/html": "<div>\n<style scoped>\n    .dataframe tbody tr th:only-of-type {\n        vertical-align: middle;\n    }\n\n    .dataframe tbody tr th {\n        vertical-align: top;\n    }\n\n    .dataframe thead th {\n        text-align: right;\n    }\n</style>\n<table border=\"1\" class=\"dataframe\">\n  <thead>\n    <tr style=\"text-align: right;\">\n      <th></th>\n      <th>nombre</th>\n      <th>especialidad</th>\n      <th>edad</th>\n      <th>visitas</th>\n      <th>sexo</th>\n    </tr>\n  </thead>\n  <tbody>\n    <tr>\n      <th>0</th>\n      <td>SFDX Show</td>\n      <td>Hardware</td>\n      <td>30</td>\n      <td>130855</td>\n      <td>H</td>\n    </tr>\n    <tr>\n      <th>1</th>\n      <td>Sara Nogark</td>\n      <td>Edición De Vídeo</td>\n      <td>29</td>\n      <td>114175</td>\n      <td>M</td>\n    </tr>\n    <tr>\n      <th>2</th>\n      <td>Nate Gentile</td>\n      <td>Programación</td>\n      <td>31</td>\n      <td>142545</td>\n      <td>H</td>\n    </tr>\n    <tr>\n      <th>3</th>\n      <td>Bettatech</td>\n      <td>Programación</td>\n      <td>31</td>\n      <td>149462</td>\n      <td>H</td>\n    </tr>\n    <tr>\n      <th>4</th>\n      <td>Antonio Sarosi</td>\n      <td>Sistemas Operativos</td>\n      <td>28</td>\n      <td>132008</td>\n      <td>H</td>\n    </tr>\n    <tr>\n      <th>5</th>\n      <td>Edgar Pons</td>\n      <td>Robótica</td>\n      <td>29</td>\n      <td>143620</td>\n      <td>H</td>\n    </tr>\n    <tr>\n      <th>6</th>\n      <td>s4vitar</td>\n      <td>Hacking</td>\n      <td>28</td>\n      <td>132567</td>\n      <td>H</td>\n    </tr>\n    <tr>\n      <th>7</th>\n      <td>batman</td>\n      <td>Hardware</td>\n      <td>30</td>\n      <td>130855</td>\n      <td>H</td>\n    </tr>\n    <tr>\n      <th>8</th>\n      <td>spiderman</td>\n      <td>Edición De Vídeo</td>\n      <td>29</td>\n      <td>114175</td>\n      <td>M</td>\n    </tr>\n    <tr>\n      <th>9</th>\n      <td>superman</td>\n      <td>Programación</td>\n      <td>31</td>\n      <td>142545</td>\n      <td>H</td>\n    </tr>\n    <tr>\n      <th>10</th>\n      <td>thor</td>\n      <td>Programación</td>\n      <td>31</td>\n      <td>149462</td>\n      <td>H</td>\n    </tr>\n    <tr>\n      <th>11</th>\n      <td>aironman</td>\n      <td>Sistemas Operativos</td>\n      <td>28</td>\n      <td>132008</td>\n      <td>H</td>\n    </tr>\n    <tr>\n      <th>12</th>\n      <td>hulk</td>\n      <td>Robótica</td>\n      <td>29</td>\n      <td>143620</td>\n      <td>H</td>\n    </tr>\n    <tr>\n      <th>13</th>\n      <td>loki</td>\n      <td>Hacking</td>\n      <td>28</td>\n      <td>132567</td>\n      <td>H</td>\n    </tr>\n  </tbody>\n</table>\n</div>",
      "text/plain": "            nombre         especialidad  edad  visitas sexo\n0        SFDX Show             Hardware    30   130855    H\n1      Sara Nogark     Edición De Vídeo    29   114175    M\n2     Nate Gentile         Programación    31   142545    H\n3        Bettatech         Programación    31   149462    H\n4   Antonio Sarosi  Sistemas Operativos    28   132008    H\n5       Edgar Pons             Robótica    29   143620    H\n6          s4vitar              Hacking    28   132567    H\n7           batman             Hardware    30   130855    H\n8        spiderman     Edición De Vídeo    29   114175    M\n9         superman         Programación    31   142545    H\n10            thor         Programación    31   149462    H\n11        aironman  Sistemas Operativos    28   132008    H\n12            hulk             Robótica    29   143620    H\n13            loki              Hacking    28   132567    H"
     },
     "execution_count": 166,
     "metadata": {},
     "output_type": "execute_result"
    }
   ],
   "execution_count": null
  },
  {
   "cell_type": "markdown",
   "source": "## df.where()",
   "metadata": {
    "cell_id": "00100-84d49160-1c0d-465c-841e-d0be92ea5e03",
    "deepnote_cell_type": "markdown"
   }
  },
  {
   "cell_type": "code",
   "metadata": {
    "cell_id": "00101-5846a178-abd8-4f4b-89ce-5a4ad1876c7c",
    "deepnote_cell_type": "code"
   },
   "source": "filtro1 = df['especialidad'] == 'Programación'\nfiltro2 = df['visitas'] > 145000",
   "outputs": [],
   "execution_count": null
  },
  {
   "cell_type": "code",
   "metadata": {
    "cell_id": "00102-6d76bbeb-2fbe-448a-a623-2c8793f54c2e",
    "deepnote_cell_type": "code"
   },
   "source": "df.where(filtro1 & filtro2)",
   "outputs": [
    {
     "data": {
      "text/html": "<div>\n<style scoped>\n    .dataframe tbody tr th:only-of-type {\n        vertical-align: middle;\n    }\n\n    .dataframe tbody tr th {\n        vertical-align: top;\n    }\n\n    .dataframe thead th {\n        text-align: right;\n    }\n</style>\n<table border=\"1\" class=\"dataframe\">\n  <thead>\n    <tr style=\"text-align: right;\">\n      <th></th>\n      <th>nombre</th>\n      <th>especialidad</th>\n      <th>edad</th>\n      <th>visitas</th>\n      <th>sexo</th>\n    </tr>\n  </thead>\n  <tbody>\n    <tr>\n      <th>0</th>\n      <td>NaN</td>\n      <td>NaN</td>\n      <td>NaN</td>\n      <td>NaN</td>\n      <td>NaN</td>\n    </tr>\n    <tr>\n      <th>1</th>\n      <td>NaN</td>\n      <td>NaN</td>\n      <td>NaN</td>\n      <td>NaN</td>\n      <td>NaN</td>\n    </tr>\n    <tr>\n      <th>2</th>\n      <td>NaN</td>\n      <td>NaN</td>\n      <td>NaN</td>\n      <td>NaN</td>\n      <td>NaN</td>\n    </tr>\n    <tr>\n      <th>3</th>\n      <td>Bettatech</td>\n      <td>Programación</td>\n      <td>31.0</td>\n      <td>149462.0</td>\n      <td>H</td>\n    </tr>\n    <tr>\n      <th>4</th>\n      <td>NaN</td>\n      <td>NaN</td>\n      <td>NaN</td>\n      <td>NaN</td>\n      <td>NaN</td>\n    </tr>\n    <tr>\n      <th>5</th>\n      <td>NaN</td>\n      <td>NaN</td>\n      <td>NaN</td>\n      <td>NaN</td>\n      <td>NaN</td>\n    </tr>\n    <tr>\n      <th>6</th>\n      <td>NaN</td>\n      <td>NaN</td>\n      <td>NaN</td>\n      <td>NaN</td>\n      <td>NaN</td>\n    </tr>\n  </tbody>\n</table>\n</div>",
      "text/plain": "      nombre  especialidad  edad   visitas sexo\n0        NaN           NaN   NaN       NaN  NaN\n1        NaN           NaN   NaN       NaN  NaN\n2        NaN           NaN   NaN       NaN  NaN\n3  Bettatech  Programación  31.0  149462.0    H\n4        NaN           NaN   NaN       NaN  NaN\n5        NaN           NaN   NaN       NaN  NaN\n6        NaN           NaN   NaN       NaN  NaN"
     },
     "execution_count": 168,
     "metadata": {},
     "output_type": "execute_result"
    }
   ],
   "execution_count": null
  },
  {
   "cell_type": "code",
   "metadata": {
    "cell_id": "00103-9ffea7ec-edaa-4bde-8c75-898a3418ee6b",
    "deepnote_cell_type": "code"
   },
   "source": "df.where(filtro1 & filtro2).dropna().loc[:, 'nombre']",
   "outputs": [
    {
     "data": {
      "text/plain": "3    Bettatech\nName: nombre, dtype: object"
     },
     "execution_count": 169,
     "metadata": {},
     "output_type": "execute_result"
    }
   ],
   "execution_count": null
  },
  {
   "cell_type": "markdown",
   "source": "## df.groupby()",
   "metadata": {
    "cell_id": "00104-6a0c4981-d463-4b1e-a89c-e28cd77ecd80",
    "deepnote_cell_type": "markdown"
   }
  },
  {
   "cell_type": "code",
   "metadata": {
    "cell_id": "00105-b19304fc-fdd6-48e3-aca8-9c25dd5594be",
    "deepnote_cell_type": "code"
   },
   "source": "df",
   "outputs": [
    {
     "data": {
      "text/html": "<div>\n<style scoped>\n    .dataframe tbody tr th:only-of-type {\n        vertical-align: middle;\n    }\n\n    .dataframe tbody tr th {\n        vertical-align: top;\n    }\n\n    .dataframe thead th {\n        text-align: right;\n    }\n</style>\n<table border=\"1\" class=\"dataframe\">\n  <thead>\n    <tr style=\"text-align: right;\">\n      <th></th>\n      <th>nombre</th>\n      <th>especialidad</th>\n      <th>edad</th>\n      <th>visitas</th>\n      <th>sexo</th>\n    </tr>\n  </thead>\n  <tbody>\n    <tr>\n      <th>0</th>\n      <td>SFDX Show</td>\n      <td>Hardware</td>\n      <td>30</td>\n      <td>130855</td>\n      <td>H</td>\n    </tr>\n    <tr>\n      <th>1</th>\n      <td>Sara Nogark</td>\n      <td>Edición De Vídeo</td>\n      <td>29</td>\n      <td>114175</td>\n      <td>M</td>\n    </tr>\n    <tr>\n      <th>2</th>\n      <td>Nate Gentile</td>\n      <td>Programación</td>\n      <td>31</td>\n      <td>142545</td>\n      <td>H</td>\n    </tr>\n    <tr>\n      <th>3</th>\n      <td>Bettatech</td>\n      <td>Programación</td>\n      <td>31</td>\n      <td>149462</td>\n      <td>H</td>\n    </tr>\n    <tr>\n      <th>4</th>\n      <td>Antonio Sarosi</td>\n      <td>Sistemas Operativos</td>\n      <td>28</td>\n      <td>132008</td>\n      <td>H</td>\n    </tr>\n    <tr>\n      <th>5</th>\n      <td>Edgar Pons</td>\n      <td>Robótica</td>\n      <td>29</td>\n      <td>143620</td>\n      <td>H</td>\n    </tr>\n    <tr>\n      <th>6</th>\n      <td>s4vitar</td>\n      <td>Hacking</td>\n      <td>28</td>\n      <td>132567</td>\n      <td>H</td>\n    </tr>\n  </tbody>\n</table>\n</div>",
      "text/plain": "           nombre         especialidad  edad  visitas sexo\n0       SFDX Show             Hardware    30   130855    H\n1     Sara Nogark     Edición De Vídeo    29   114175    M\n2    Nate Gentile         Programación    31   142545    H\n3       Bettatech         Programación    31   149462    H\n4  Antonio Sarosi  Sistemas Operativos    28   132008    H\n5      Edgar Pons             Robótica    29   143620    H\n6         s4vitar              Hacking    28   132567    H"
     },
     "execution_count": 170,
     "metadata": {},
     "output_type": "execute_result"
    }
   ],
   "execution_count": null
  },
  {
   "cell_type": "code",
   "metadata": {
    "cell_id": "00106-1496cdb9-a090-408a-b024-60435a7fa859",
    "deepnote_cell_type": "code"
   },
   "source": "df.groupby('especialidad').sum()",
   "outputs": [
    {
     "data": {
      "text/html": "<div>\n<style scoped>\n    .dataframe tbody tr th:only-of-type {\n        vertical-align: middle;\n    }\n\n    .dataframe tbody tr th {\n        vertical-align: top;\n    }\n\n    .dataframe thead th {\n        text-align: right;\n    }\n</style>\n<table border=\"1\" class=\"dataframe\">\n  <thead>\n    <tr style=\"text-align: right;\">\n      <th></th>\n      <th>edad</th>\n      <th>visitas</th>\n    </tr>\n    <tr>\n      <th>especialidad</th>\n      <th></th>\n      <th></th>\n    </tr>\n  </thead>\n  <tbody>\n    <tr>\n      <th>Edición De Vídeo</th>\n      <td>29</td>\n      <td>114175</td>\n    </tr>\n    <tr>\n      <th>Hacking</th>\n      <td>28</td>\n      <td>132567</td>\n    </tr>\n    <tr>\n      <th>Hardware</th>\n      <td>30</td>\n      <td>130855</td>\n    </tr>\n    <tr>\n      <th>Programación</th>\n      <td>62</td>\n      <td>292007</td>\n    </tr>\n    <tr>\n      <th>Robótica</th>\n      <td>29</td>\n      <td>143620</td>\n    </tr>\n    <tr>\n      <th>Sistemas Operativos</th>\n      <td>28</td>\n      <td>132008</td>\n    </tr>\n  </tbody>\n</table>\n</div>",
      "text/plain": "                     edad  visitas\nespecialidad                      \nEdición De Vídeo       29   114175\nHacking                28   132567\nHardware               30   130855\nProgramación           62   292007\nRobótica               29   143620\nSistemas Operativos    28   132008"
     },
     "execution_count": 171,
     "metadata": {},
     "output_type": "execute_result"
    }
   ],
   "execution_count": null
  },
  {
   "cell_type": "code",
   "metadata": {
    "cell_id": "00107-b611e06e-2c16-49d6-9d51-6d6d4de9c53d",
    "deepnote_cell_type": "code"
   },
   "source": "df.groupby('sexo').max()",
   "outputs": [
    {
     "data": {
      "text/html": "<div>\n<style scoped>\n    .dataframe tbody tr th:only-of-type {\n        vertical-align: middle;\n    }\n\n    .dataframe tbody tr th {\n        vertical-align: top;\n    }\n\n    .dataframe thead th {\n        text-align: right;\n    }\n</style>\n<table border=\"1\" class=\"dataframe\">\n  <thead>\n    <tr style=\"text-align: right;\">\n      <th></th>\n      <th>nombre</th>\n      <th>especialidad</th>\n      <th>edad</th>\n      <th>visitas</th>\n    </tr>\n    <tr>\n      <th>sexo</th>\n      <th></th>\n      <th></th>\n      <th></th>\n      <th></th>\n    </tr>\n  </thead>\n  <tbody>\n    <tr>\n      <th>H</th>\n      <td>s4vitar</td>\n      <td>Sistemas Operativos</td>\n      <td>31</td>\n      <td>149462</td>\n    </tr>\n    <tr>\n      <th>M</th>\n      <td>Sara Nogark</td>\n      <td>Edición De Vídeo</td>\n      <td>29</td>\n      <td>114175</td>\n    </tr>\n  </tbody>\n</table>\n</div>",
      "text/plain": "           nombre         especialidad  edad  visitas\nsexo                                                 \nH         s4vitar  Sistemas Operativos    31   149462\nM     Sara Nogark     Edición De Vídeo    29   114175"
     },
     "execution_count": 172,
     "metadata": {},
     "output_type": "execute_result"
    }
   ],
   "execution_count": null
  },
  {
   "cell_type": "code",
   "metadata": {
    "cell_id": "00108-147cf65c-6107-40d3-9d31-442f218cec15",
    "deepnote_cell_type": "code"
   },
   "source": "df.groupby(['sexo', 'especialidad']).max()",
   "outputs": [
    {
     "data": {
      "text/html": "<div>\n<style scoped>\n    .dataframe tbody tr th:only-of-type {\n        vertical-align: middle;\n    }\n\n    .dataframe tbody tr th {\n        vertical-align: top;\n    }\n\n    .dataframe thead th {\n        text-align: right;\n    }\n</style>\n<table border=\"1\" class=\"dataframe\">\n  <thead>\n    <tr style=\"text-align: right;\">\n      <th></th>\n      <th></th>\n      <th>nombre</th>\n      <th>edad</th>\n      <th>visitas</th>\n    </tr>\n    <tr>\n      <th>sexo</th>\n      <th>especialidad</th>\n      <th></th>\n      <th></th>\n      <th></th>\n    </tr>\n  </thead>\n  <tbody>\n    <tr>\n      <th rowspan=\"5\" valign=\"top\">H</th>\n      <th>Hacking</th>\n      <td>s4vitar</td>\n      <td>28</td>\n      <td>132567</td>\n    </tr>\n    <tr>\n      <th>Hardware</th>\n      <td>SFDX Show</td>\n      <td>30</td>\n      <td>130855</td>\n    </tr>\n    <tr>\n      <th>Programación</th>\n      <td>Nate Gentile</td>\n      <td>31</td>\n      <td>149462</td>\n    </tr>\n    <tr>\n      <th>Robótica</th>\n      <td>Edgar Pons</td>\n      <td>29</td>\n      <td>143620</td>\n    </tr>\n    <tr>\n      <th>Sistemas Operativos</th>\n      <td>Antonio Sarosi</td>\n      <td>28</td>\n      <td>132008</td>\n    </tr>\n    <tr>\n      <th>M</th>\n      <th>Edición De Vídeo</th>\n      <td>Sara Nogark</td>\n      <td>29</td>\n      <td>114175</td>\n    </tr>\n  </tbody>\n</table>\n</div>",
      "text/plain": "                                  nombre  edad  visitas\nsexo especialidad                                      \nH    Hacking                     s4vitar    28   132567\n     Hardware                  SFDX Show    30   130855\n     Programación           Nate Gentile    31   149462\n     Robótica                 Edgar Pons    29   143620\n     Sistemas Operativos  Antonio Sarosi    28   132008\nM    Edición De Vídeo        Sara Nogark    29   114175"
     },
     "execution_count": 173,
     "metadata": {},
     "output_type": "execute_result"
    }
   ],
   "execution_count": null
  },
  {
   "cell_type": "markdown",
   "source": "## pd.pivot_table()",
   "metadata": {
    "cell_id": "00109-ee69cb44-91da-4ae6-b9b1-5737346f3bcf",
    "deepnote_cell_type": "markdown"
   }
  },
  {
   "cell_type": "code",
   "metadata": {
    "cell_id": "00110-80906894-75d1-47d1-932b-58b054c9e1b1",
    "deepnote_cell_type": "code"
   },
   "source": "pd.pivot_table(df, \n               index='sexo', \n               columns='edad')",
   "outputs": [
    {
     "data": {
      "text/html": "<div>\n<style scoped>\n    .dataframe tbody tr th:only-of-type {\n        vertical-align: middle;\n    }\n\n    .dataframe tbody tr th {\n        vertical-align: top;\n    }\n\n    .dataframe thead tr th {\n        text-align: left;\n    }\n\n    .dataframe thead tr:last-of-type th {\n        text-align: right;\n    }\n</style>\n<table border=\"1\" class=\"dataframe\">\n  <thead>\n    <tr>\n      <th></th>\n      <th colspan=\"4\" halign=\"left\">visitas</th>\n    </tr>\n    <tr>\n      <th>edad</th>\n      <th>28</th>\n      <th>29</th>\n      <th>30</th>\n      <th>31</th>\n    </tr>\n    <tr>\n      <th>sexo</th>\n      <th></th>\n      <th></th>\n      <th></th>\n      <th></th>\n    </tr>\n  </thead>\n  <tbody>\n    <tr>\n      <th>H</th>\n      <td>132287.5</td>\n      <td>143620.0</td>\n      <td>130855.0</td>\n      <td>146003.5</td>\n    </tr>\n    <tr>\n      <th>M</th>\n      <td>NaN</td>\n      <td>114175.0</td>\n      <td>NaN</td>\n      <td>NaN</td>\n    </tr>\n  </tbody>\n</table>\n</div>",
      "text/plain": "       visitas                              \nedad        28        29        30        31\nsexo                                        \nH     132287.5  143620.0  130855.0  146003.5\nM          NaN  114175.0       NaN       NaN"
     },
     "execution_count": 174,
     "metadata": {},
     "output_type": "execute_result"
    }
   ],
   "execution_count": null
  },
  {
   "cell_type": "code",
   "metadata": {
    "cell_id": "00111-c963854b-5293-4096-8d95-8f8e71a78c2a",
    "deepnote_cell_type": "code"
   },
   "source": "pd.pivot_table(df, \n               index='sexo', \n               columns='edad', \n               aggfunc=np.sum)",
   "outputs": [
    {
     "data": {
      "text/html": "<div>\n<style scoped>\n    .dataframe tbody tr th:only-of-type {\n        vertical-align: middle;\n    }\n\n    .dataframe tbody tr th {\n        vertical-align: top;\n    }\n\n    .dataframe thead tr th {\n        text-align: left;\n    }\n\n    .dataframe thead tr:last-of-type th {\n        text-align: right;\n    }\n</style>\n<table border=\"1\" class=\"dataframe\">\n  <thead>\n    <tr>\n      <th></th>\n      <th colspan=\"4\" halign=\"left\">visitas</th>\n    </tr>\n    <tr>\n      <th>edad</th>\n      <th>28</th>\n      <th>29</th>\n      <th>30</th>\n      <th>31</th>\n    </tr>\n    <tr>\n      <th>sexo</th>\n      <th></th>\n      <th></th>\n      <th></th>\n      <th></th>\n    </tr>\n  </thead>\n  <tbody>\n    <tr>\n      <th>H</th>\n      <td>264575.0</td>\n      <td>143620.0</td>\n      <td>130855.0</td>\n      <td>292007.0</td>\n    </tr>\n    <tr>\n      <th>M</th>\n      <td>NaN</td>\n      <td>114175.0</td>\n      <td>NaN</td>\n      <td>NaN</td>\n    </tr>\n  </tbody>\n</table>\n</div>",
      "text/plain": "       visitas                              \nedad        28        29        30        31\nsexo                                        \nH     264575.0  143620.0  130855.0  292007.0\nM          NaN  114175.0       NaN       NaN"
     },
     "execution_count": 175,
     "metadata": {},
     "output_type": "execute_result"
    }
   ],
   "execution_count": null
  },
  {
   "cell_type": "code",
   "metadata": {
    "cell_id": "00112-9d2062e4-415a-432e-a5d1-cce2ce81be83",
    "deepnote_cell_type": "code"
   },
   "source": "pd.pivot_table(df, \n               index=['sexo'], \n               values=['nombre'], \n               columns=['especialidad'], \n               aggfunc=np.max)",
   "outputs": [
    {
     "data": {
      "text/html": "<div>\n<style scoped>\n    .dataframe tbody tr th:only-of-type {\n        vertical-align: middle;\n    }\n\n    .dataframe tbody tr th {\n        vertical-align: top;\n    }\n\n    .dataframe thead tr th {\n        text-align: left;\n    }\n\n    .dataframe thead tr:last-of-type th {\n        text-align: right;\n    }\n</style>\n<table border=\"1\" class=\"dataframe\">\n  <thead>\n    <tr>\n      <th></th>\n      <th colspan=\"6\" halign=\"left\">nombre</th>\n    </tr>\n    <tr>\n      <th>especialidad</th>\n      <th>Edición De Vídeo</th>\n      <th>Hacking</th>\n      <th>Hardware</th>\n      <th>Programación</th>\n      <th>Robótica</th>\n      <th>Sistemas Operativos</th>\n    </tr>\n    <tr>\n      <th>sexo</th>\n      <th></th>\n      <th></th>\n      <th></th>\n      <th></th>\n      <th></th>\n      <th></th>\n    </tr>\n  </thead>\n  <tbody>\n    <tr>\n      <th>H</th>\n      <td>NaN</td>\n      <td>s4vitar</td>\n      <td>SFDX Show</td>\n      <td>Nate Gentile</td>\n      <td>Edgar Pons</td>\n      <td>Antonio Sarosi</td>\n    </tr>\n    <tr>\n      <th>M</th>\n      <td>Sara Nogark</td>\n      <td>NaN</td>\n      <td>NaN</td>\n      <td>NaN</td>\n      <td>NaN</td>\n      <td>NaN</td>\n    </tr>\n  </tbody>\n</table>\n</div>",
      "text/plain": "                       nombre                                                \\\nespecialidad Edición De Vídeo  Hacking   Hardware  Programación    Robótica   \nsexo                                                                          \nH                         NaN  s4vitar  SFDX Show  Nate Gentile  Edgar Pons   \nM                 Sara Nogark      NaN        NaN           NaN         NaN   \n\n                                  \nespecialidad Sistemas Operativos  \nsexo                              \nH                 Antonio Sarosi  \nM                            NaN  "
     },
     "execution_count": 176,
     "metadata": {},
     "output_type": "execute_result"
    }
   ],
   "execution_count": null
  },
  {
   "cell_type": "markdown",
   "source": "# Fechas",
   "metadata": {
    "cell_id": "00113-9b73ada6-00f2-48a1-b371-48483a1a4372",
    "deepnote_cell_type": "markdown"
   }
  },
  {
   "cell_type": "markdown",
   "source": "## Creando fechas",
   "metadata": {
    "cell_id": "00114-529b0a0b-8fd1-4156-88a6-599584959e71",
    "deepnote_cell_type": "markdown"
   }
  },
  {
   "cell_type": "code",
   "metadata": {
    "cell_id": "00115-66e43f24-3336-4bf8-9106-94f9f67b23a7",
    "deepnote_cell_type": "code"
   },
   "source": "df",
   "outputs": [
    {
     "data": {
      "text/html": "<div>\n<style scoped>\n    .dataframe tbody tr th:only-of-type {\n        vertical-align: middle;\n    }\n\n    .dataframe tbody tr th {\n        vertical-align: top;\n    }\n\n    .dataframe thead th {\n        text-align: right;\n    }\n</style>\n<table border=\"1\" class=\"dataframe\">\n  <thead>\n    <tr style=\"text-align: right;\">\n      <th></th>\n      <th>nombre</th>\n      <th>especialidad</th>\n      <th>edad</th>\n      <th>visitas</th>\n      <th>sexo</th>\n    </tr>\n  </thead>\n  <tbody>\n    <tr>\n      <th>0</th>\n      <td>SFDX Show</td>\n      <td>Hardware</td>\n      <td>30</td>\n      <td>130855</td>\n      <td>H</td>\n    </tr>\n    <tr>\n      <th>1</th>\n      <td>Sara Nogark</td>\n      <td>Edición De Vídeo</td>\n      <td>29</td>\n      <td>114175</td>\n      <td>M</td>\n    </tr>\n    <tr>\n      <th>2</th>\n      <td>Nate Gentile</td>\n      <td>Programación</td>\n      <td>31</td>\n      <td>142545</td>\n      <td>H</td>\n    </tr>\n    <tr>\n      <th>3</th>\n      <td>Bettatech</td>\n      <td>Programación</td>\n      <td>31</td>\n      <td>149462</td>\n      <td>H</td>\n    </tr>\n    <tr>\n      <th>4</th>\n      <td>Antonio Sarosi</td>\n      <td>Sistemas Operativos</td>\n      <td>28</td>\n      <td>132008</td>\n      <td>H</td>\n    </tr>\n    <tr>\n      <th>5</th>\n      <td>Edgar Pons</td>\n      <td>Robótica</td>\n      <td>29</td>\n      <td>143620</td>\n      <td>H</td>\n    </tr>\n    <tr>\n      <th>6</th>\n      <td>s4vitar</td>\n      <td>Hacking</td>\n      <td>28</td>\n      <td>132567</td>\n      <td>H</td>\n    </tr>\n  </tbody>\n</table>\n</div>",
      "text/plain": "           nombre         especialidad  edad  visitas sexo\n0       SFDX Show             Hardware    30   130855    H\n1     Sara Nogark     Edición De Vídeo    29   114175    M\n2    Nate Gentile         Programación    31   142545    H\n3       Bettatech         Programación    31   149462    H\n4  Antonio Sarosi  Sistemas Operativos    28   132008    H\n5      Edgar Pons             Robótica    29   143620    H\n6         s4vitar              Hacking    28   132567    H"
     },
     "execution_count": 177,
     "metadata": {},
     "output_type": "execute_result"
    }
   ],
   "execution_count": null
  },
  {
   "cell_type": "code",
   "metadata": {
    "cell_id": "00116-331eebe2-5bcf-424d-b947-066483c0d493",
    "deepnote_cell_type": "code"
   },
   "source": "len(df)",
   "outputs": [
    {
     "data": {
      "text/plain": "7"
     },
     "execution_count": 178,
     "metadata": {},
     "output_type": "execute_result"
    }
   ],
   "execution_count": null
  },
  {
   "cell_type": "code",
   "metadata": {
    "cell_id": "00117-5c270c94-7afe-4371-a11b-717dffe64358",
    "deepnote_cell_type": "code"
   },
   "source": "fecha = pd.date_range(start= '1 January 2021', \n                      end= '1 July 2021', \n                      freq= 'MS')",
   "outputs": [],
   "execution_count": null
  },
  {
   "cell_type": "code",
   "metadata": {
    "cell_id": "00118-a6044746-6227-466b-a341-6a18fae9070f",
    "deepnote_cell_type": "code"
   },
   "source": "'2021/01/01' == fecha[0]",
   "outputs": [
    {
     "data": {
      "text/plain": "False"
     },
     "execution_count": 180,
     "metadata": {},
     "output_type": "execute_result"
    }
   ],
   "execution_count": null
  },
  {
   "cell_type": "code",
   "metadata": {
    "cell_id": "00119-34fbde68-47b4-4652-914b-7cfe36ce12a8",
    "deepnote_cell_type": "code"
   },
   "source": "fecha[0]",
   "outputs": [
    {
     "data": {
      "text/plain": "Timestamp('2021-01-01 00:00:00', freq='MS')"
     },
     "execution_count": 181,
     "metadata": {},
     "output_type": "execute_result"
    }
   ],
   "execution_count": null
  },
  {
   "cell_type": "code",
   "metadata": {
    "scrolled": true,
    "cell_id": "00120-28101fa9-66c5-4670-9c64-a3f1733fa2b8",
    "deepnote_cell_type": "code"
   },
   "source": "fecha",
   "outputs": [
    {
     "data": {
      "text/plain": "DatetimeIndex(['2021-01-01', '2021-02-01', '2021-03-01', '2021-04-01',\n               '2021-05-01', '2021-06-01', '2021-07-01'],\n              dtype='datetime64[ns]', freq='MS')"
     },
     "execution_count": 182,
     "metadata": {},
     "output_type": "execute_result"
    }
   ],
   "execution_count": null
  },
  {
   "cell_type": "code",
   "metadata": {
    "cell_id": "00121-409d8325-7f8a-4286-b06a-e32862547936",
    "deepnote_cell_type": "code"
   },
   "source": "df.set_index(pd.DatetimeIndex(fecha), \n             inplace=True)",
   "outputs": [],
   "execution_count": null
  },
  {
   "cell_type": "code",
   "metadata": {
    "cell_id": "00122-aaea702b-6d11-43fe-9cda-4f2b91bb0a16",
    "deepnote_cell_type": "code"
   },
   "source": "df.info()",
   "outputs": [
    {
     "name": "stdout",
     "output_type": "stream",
     "text": "<class 'pandas.core.frame.DataFrame'>\nDatetimeIndex: 7 entries, 2021-01-01 to 2021-07-01\nFreq: MS\nData columns (total 5 columns):\n #   Column        Non-Null Count  Dtype \n---  ------        --------------  ----- \n 0   nombre        7 non-null      object\n 1   especialidad  7 non-null      object\n 2   edad          7 non-null      int64 \n 3   visitas       7 non-null      int64 \n 4   sexo          7 non-null      object\ndtypes: int64(2), object(3)\nmemory usage: 336.0+ bytes\n"
    }
   ],
   "execution_count": null
  },
  {
   "cell_type": "code",
   "metadata": {
    "cell_id": "00123-ddc3ad3f-4ed7-452c-9753-d154ad59c2ed",
    "deepnote_cell_type": "code"
   },
   "source": "df",
   "outputs": [
    {
     "data": {
      "text/html": "<div>\n<style scoped>\n    .dataframe tbody tr th:only-of-type {\n        vertical-align: middle;\n    }\n\n    .dataframe tbody tr th {\n        vertical-align: top;\n    }\n\n    .dataframe thead th {\n        text-align: right;\n    }\n</style>\n<table border=\"1\" class=\"dataframe\">\n  <thead>\n    <tr style=\"text-align: right;\">\n      <th></th>\n      <th>nombre</th>\n      <th>especialidad</th>\n      <th>edad</th>\n      <th>visitas</th>\n      <th>sexo</th>\n    </tr>\n  </thead>\n  <tbody>\n    <tr>\n      <th>2021-01-01</th>\n      <td>SFDX Show</td>\n      <td>Hardware</td>\n      <td>30</td>\n      <td>130855</td>\n      <td>H</td>\n    </tr>\n    <tr>\n      <th>2021-02-01</th>\n      <td>Sara Nogark</td>\n      <td>Edición De Vídeo</td>\n      <td>29</td>\n      <td>114175</td>\n      <td>M</td>\n    </tr>\n    <tr>\n      <th>2021-03-01</th>\n      <td>Nate Gentile</td>\n      <td>Programación</td>\n      <td>31</td>\n      <td>142545</td>\n      <td>H</td>\n    </tr>\n    <tr>\n      <th>2021-04-01</th>\n      <td>Bettatech</td>\n      <td>Programación</td>\n      <td>31</td>\n      <td>149462</td>\n      <td>H</td>\n    </tr>\n    <tr>\n      <th>2021-05-01</th>\n      <td>Antonio Sarosi</td>\n      <td>Sistemas Operativos</td>\n      <td>28</td>\n      <td>132008</td>\n      <td>H</td>\n    </tr>\n    <tr>\n      <th>2021-06-01</th>\n      <td>Edgar Pons</td>\n      <td>Robótica</td>\n      <td>29</td>\n      <td>143620</td>\n      <td>H</td>\n    </tr>\n    <tr>\n      <th>2021-07-01</th>\n      <td>s4vitar</td>\n      <td>Hacking</td>\n      <td>28</td>\n      <td>132567</td>\n      <td>H</td>\n    </tr>\n  </tbody>\n</table>\n</div>",
      "text/plain": "                    nombre         especialidad  edad  visitas sexo\n2021-01-01       SFDX Show             Hardware    30   130855    H\n2021-02-01     Sara Nogark     Edición De Vídeo    29   114175    M\n2021-03-01    Nate Gentile         Programación    31   142545    H\n2021-04-01       Bettatech         Programación    31   149462    H\n2021-05-01  Antonio Sarosi  Sistemas Operativos    28   132008    H\n2021-06-01      Edgar Pons             Robótica    29   143620    H\n2021-07-01         s4vitar              Hacking    28   132567    H"
     },
     "execution_count": 185,
     "metadata": {},
     "output_type": "execute_result"
    }
   ],
   "execution_count": null
  },
  {
   "cell_type": "code",
   "metadata": {
    "cell_id": "00124-af916630-3a3d-4312-9f19-2acdebef4c36",
    "deepnote_cell_type": "code"
   },
   "source": "df.index",
   "outputs": [
    {
     "data": {
      "text/plain": "DatetimeIndex(['2021-01-01', '2021-02-01', '2021-03-01', '2021-04-01',\n               '2021-05-01', '2021-06-01', '2021-07-01'],\n              dtype='datetime64[ns]', freq='MS')"
     },
     "execution_count": 186,
     "metadata": {},
     "output_type": "execute_result"
    }
   ],
   "execution_count": null
  },
  {
   "cell_type": "code",
   "metadata": {
    "cell_id": "00125-66c08e6c-804f-4ac2-bc14-b6e967952e35",
    "deepnote_cell_type": "code"
   },
   "source": "formato = '%d/%m/%Y'",
   "outputs": [],
   "execution_count": null
  },
  {
   "cell_type": "code",
   "metadata": {
    "cell_id": "00126-5d9e0352-ac46-4992-b9b5-403bdfa7c54e",
    "deepnote_cell_type": "code"
   },
   "source": "df.index.strftime(formato)",
   "outputs": [
    {
     "data": {
      "text/plain": "Index(['01/01/2021', '01/02/2021', '01/03/2021', '01/04/2021', '01/05/2021',\n       '01/06/2021', '01/07/2021'],\n      dtype='object')"
     },
     "execution_count": 188,
     "metadata": {},
     "output_type": "execute_result"
    }
   ],
   "execution_count": null
  },
  {
   "cell_type": "code",
   "metadata": {
    "cell_id": "00127-92cc1974-12e2-4319-9bfa-e65f4e54faa2",
    "deepnote_cell_type": "code"
   },
   "source": "df.index = df.index.strftime(formato)",
   "outputs": [],
   "execution_count": null
  },
  {
   "cell_type": "code",
   "metadata": {
    "cell_id": "00128-8c72409a-89b2-4249-b50c-4e8ace4b57ed",
    "deepnote_cell_type": "code"
   },
   "source": "df",
   "outputs": [
    {
     "data": {
      "text/html": "<div>\n<style scoped>\n    .dataframe tbody tr th:only-of-type {\n        vertical-align: middle;\n    }\n\n    .dataframe tbody tr th {\n        vertical-align: top;\n    }\n\n    .dataframe thead th {\n        text-align: right;\n    }\n</style>\n<table border=\"1\" class=\"dataframe\">\n  <thead>\n    <tr style=\"text-align: right;\">\n      <th></th>\n      <th>nombre</th>\n      <th>especialidad</th>\n      <th>edad</th>\n      <th>visitas</th>\n      <th>sexo</th>\n    </tr>\n  </thead>\n  <tbody>\n    <tr>\n      <th>01/01/2021</th>\n      <td>SFDX Show</td>\n      <td>Hardware</td>\n      <td>30</td>\n      <td>130855</td>\n      <td>H</td>\n    </tr>\n    <tr>\n      <th>01/02/2021</th>\n      <td>Sara Nogark</td>\n      <td>Edición De Vídeo</td>\n      <td>29</td>\n      <td>114175</td>\n      <td>M</td>\n    </tr>\n    <tr>\n      <th>01/03/2021</th>\n      <td>Nate Gentile</td>\n      <td>Programación</td>\n      <td>31</td>\n      <td>142545</td>\n      <td>H</td>\n    </tr>\n    <tr>\n      <th>01/04/2021</th>\n      <td>Bettatech</td>\n      <td>Programación</td>\n      <td>31</td>\n      <td>149462</td>\n      <td>H</td>\n    </tr>\n    <tr>\n      <th>01/05/2021</th>\n      <td>Antonio Sarosi</td>\n      <td>Sistemas Operativos</td>\n      <td>28</td>\n      <td>132008</td>\n      <td>H</td>\n    </tr>\n    <tr>\n      <th>01/06/2021</th>\n      <td>Edgar Pons</td>\n      <td>Robótica</td>\n      <td>29</td>\n      <td>143620</td>\n      <td>H</td>\n    </tr>\n    <tr>\n      <th>01/07/2021</th>\n      <td>s4vitar</td>\n      <td>Hacking</td>\n      <td>28</td>\n      <td>132567</td>\n      <td>H</td>\n    </tr>\n  </tbody>\n</table>\n</div>",
      "text/plain": "                    nombre         especialidad  edad  visitas sexo\n01/01/2021       SFDX Show             Hardware    30   130855    H\n01/02/2021     Sara Nogark     Edición De Vídeo    29   114175    M\n01/03/2021    Nate Gentile         Programación    31   142545    H\n01/04/2021       Bettatech         Programación    31   149462    H\n01/05/2021  Antonio Sarosi  Sistemas Operativos    28   132008    H\n01/06/2021      Edgar Pons             Robótica    29   143620    H\n01/07/2021         s4vitar              Hacking    28   132567    H"
     },
     "execution_count": 190,
     "metadata": {},
     "output_type": "execute_result"
    }
   ],
   "execution_count": null
  },
  {
   "cell_type": "markdown",
   "source": "<a style='text-decoration:none;line-height:16px;display:flex;color:#5B5B62;padding:10px;justify-content:end;' href='https://deepnote.com?utm_source=created-in-deepnote-cell&projectId=d7c5fd95-7b78-43ee-8bac-dfafdd1bd85a' target=\"_blank\">\n<img alt='Created in deepnote.com' style='display:inline;max-height:16px;margin:0px;margin-right:7.5px;' src='data:image/svg+xml;base64,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' > </img>\nCreated in <span style='font-weight:600;margin-left:4px;'>Deepnote</span></a>",
   "metadata": {
    "tags": [],
    "created_in_deepnote_cell": true,
    "deepnote_cell_type": "markdown"
   }
  }
 ],
 "nbformat": 4,
 "nbformat_minor": 5,
 "metadata": {
  "kernelspec": {
   "display_name": "Python 3 (ipykernel)",
   "language": "python",
   "name": "python3"
  },
  "language_info": {
   "codemirror_mode": {
    "name": "ipython",
    "version": 3
   },
   "file_extension": ".py",
   "mimetype": "text/x-python",
   "name": "python",
   "nbconvert_exporter": "python",
   "pygments_lexer": "ipython3",
   "version": "3.9.12"
  },
  "toc": {
   "base_numbering": 1,
   "nav_menu": {},
   "number_sections": true,
   "sideBar": true,
   "skip_h1_title": false,
   "title_cell": "Table of Contents",
   "title_sidebar": "Contents",
   "toc_cell": false,
   "toc_position": {
    "height": "calc(100% - 180px)",
    "left": "10px",
    "top": "150px",
    "width": "312.398px"
   },
   "toc_section_display": true,
   "toc_window_display": true
  },
  "deepnote_notebook_id": "ea41a6cb-e1e2-4175-b354-a9ded46a3062",
  "deepnote": {},
  "deepnote_execution_queue": []
 }
}