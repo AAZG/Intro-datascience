{
 "cells": [
  {
   "cell_type": "code",
   "execution_count": 97,
   "id": "119fd39a",
   "metadata": {},
   "outputs": [],
   "source": [
    "import pandas as pd\n",
    "import numpy as np"
   ]
  },
  {
   "cell_type": "markdown",
   "id": "a5f828cc",
   "metadata": {},
   "source": [
    "# Creando un dataframe"
   ]
  },
  {
   "cell_type": "code",
   "execution_count": 98,
   "id": "e764bed3",
   "metadata": {
    "scrolled": true
   },
   "outputs": [],
   "source": [
    "df = pd.read_csv(r'mastermind-220421-143506.csv', \n",
    "                 index_col=[0])"
   ]
  },
  {
   "cell_type": "code",
   "execution_count": 99,
   "id": "bb005780",
   "metadata": {},
   "outputs": [
    {
     "data": {
      "text/html": [
       "<div>\n",
       "<style scoped>\n",
       "    .dataframe tbody tr th:only-of-type {\n",
       "        vertical-align: middle;\n",
       "    }\n",
       "\n",
       "    .dataframe tbody tr th {\n",
       "        vertical-align: top;\n",
       "    }\n",
       "\n",
       "    .dataframe thead th {\n",
       "        text-align: right;\n",
       "    }\n",
       "</style>\n",
       "<table border=\"1\" class=\"dataframe\">\n",
       "  <thead>\n",
       "    <tr style=\"text-align: right;\">\n",
       "      <th></th>\n",
       "      <th>nombre</th>\n",
       "      <th>especialidad</th>\n",
       "      <th>edad</th>\n",
       "      <th>visitas</th>\n",
       "      <th>sexo</th>\n",
       "    </tr>\n",
       "  </thead>\n",
       "  <tbody>\n",
       "    <tr>\n",
       "      <th>0</th>\n",
       "      <td>SFDX Show</td>\n",
       "      <td>Hardware</td>\n",
       "      <td>30</td>\n",
       "      <td>130855</td>\n",
       "      <td>H</td>\n",
       "    </tr>\n",
       "    <tr>\n",
       "      <th>1</th>\n",
       "      <td>Sara Nogark</td>\n",
       "      <td>Edición de vídeo</td>\n",
       "      <td>29</td>\n",
       "      <td>114175</td>\n",
       "      <td>M</td>\n",
       "    </tr>\n",
       "    <tr>\n",
       "      <th>2</th>\n",
       "      <td>Nate Gentile</td>\n",
       "      <td>Programación</td>\n",
       "      <td>31</td>\n",
       "      <td>142545</td>\n",
       "      <td>H</td>\n",
       "    </tr>\n",
       "    <tr>\n",
       "      <th>3</th>\n",
       "      <td>Bettatech</td>\n",
       "      <td>Programación</td>\n",
       "      <td>31</td>\n",
       "      <td>149462</td>\n",
       "      <td>H</td>\n",
       "    </tr>\n",
       "    <tr>\n",
       "      <th>4</th>\n",
       "      <td>Antonio Sarosi</td>\n",
       "      <td>Sistemas Operativos</td>\n",
       "      <td>28</td>\n",
       "      <td>132008</td>\n",
       "      <td>H</td>\n",
       "    </tr>\n",
       "    <tr>\n",
       "      <th>5</th>\n",
       "      <td>Edgar Pons</td>\n",
       "      <td>Robótica</td>\n",
       "      <td>29</td>\n",
       "      <td>143620</td>\n",
       "      <td>H</td>\n",
       "    </tr>\n",
       "    <tr>\n",
       "      <th>6</th>\n",
       "      <td>s4vitar</td>\n",
       "      <td>Hacking</td>\n",
       "      <td>28</td>\n",
       "      <td>132567</td>\n",
       "      <td>H</td>\n",
       "    </tr>\n",
       "  </tbody>\n",
       "</table>\n",
       "</div>"
      ],
      "text/plain": [
       "           nombre         especialidad  edad  visitas sexo\n",
       "0       SFDX Show             Hardware    30   130855    H\n",
       "1     Sara Nogark     Edición de vídeo    29   114175    M\n",
       "2    Nate Gentile         Programación    31   142545    H\n",
       "3       Bettatech         Programación    31   149462    H\n",
       "4  Antonio Sarosi  Sistemas Operativos    28   132008    H\n",
       "5      Edgar Pons             Robótica    29   143620    H\n",
       "6         s4vitar              Hacking    28   132567    H"
      ]
     },
     "execution_count": 99,
     "metadata": {},
     "output_type": "execute_result"
    }
   ],
   "source": [
    "df"
   ]
  },
  {
   "cell_type": "code",
   "execution_count": 100,
   "id": "868e0f83",
   "metadata": {},
   "outputs": [
    {
     "data": {
      "text/plain": [
       "['Hardware',\n",
       " 'Edición de vídeo',\n",
       " 'Programación',\n",
       " 'Programación',\n",
       " 'Sistemas Operativos',\n",
       " 'Robótica',\n",
       " 'Hacking']"
      ]
     },
     "execution_count": 100,
     "metadata": {},
     "output_type": "execute_result"
    }
   ],
   "source": [
    "list(df['especialidad'])"
   ]
  },
  {
   "cell_type": "markdown",
   "id": "efdce0d9",
   "metadata": {},
   "source": [
    "Desde un diccionario"
   ]
  },
  {
   "cell_type": "code",
   "execution_count": 101,
   "id": "87f9ba37",
   "metadata": {},
   "outputs": [],
   "source": [
    "datos = {'nombre':['SFDX Show', 'Sara Nogark', 'Nate Gentile', 'Bettatech', 'Antonio Sarosi', 'Edgar Pons', 's4vitar'],\n",
    "        'especialidad':list(df['especialidad']),\n",
    "        'edad':[np.random.randint(28, 31) for i in range(len(df['nombre']))],\n",
    "        'visitas':[np.random.randint(100000, 150000) for i in range(len(df['nombre']))]}"
   ]
  },
  {
   "cell_type": "code",
   "execution_count": 102,
   "id": "d021a425",
   "metadata": {},
   "outputs": [],
   "source": [
    "df_inventado = pd.DataFrame(datos)"
   ]
  },
  {
   "cell_type": "code",
   "execution_count": 103,
   "id": "e4e6e86b",
   "metadata": {},
   "outputs": [
    {
     "data": {
      "text/html": [
       "<div>\n",
       "<style scoped>\n",
       "    .dataframe tbody tr th:only-of-type {\n",
       "        vertical-align: middle;\n",
       "    }\n",
       "\n",
       "    .dataframe tbody tr th {\n",
       "        vertical-align: top;\n",
       "    }\n",
       "\n",
       "    .dataframe thead th {\n",
       "        text-align: right;\n",
       "    }\n",
       "</style>\n",
       "<table border=\"1\" class=\"dataframe\">\n",
       "  <thead>\n",
       "    <tr style=\"text-align: right;\">\n",
       "      <th></th>\n",
       "      <th>nombre</th>\n",
       "      <th>especialidad</th>\n",
       "      <th>edad</th>\n",
       "      <th>visitas</th>\n",
       "    </tr>\n",
       "  </thead>\n",
       "  <tbody>\n",
       "    <tr>\n",
       "      <th>0</th>\n",
       "      <td>SFDX Show</td>\n",
       "      <td>Hardware</td>\n",
       "      <td>30</td>\n",
       "      <td>102490</td>\n",
       "    </tr>\n",
       "    <tr>\n",
       "      <th>1</th>\n",
       "      <td>Sara Nogark</td>\n",
       "      <td>Edición de vídeo</td>\n",
       "      <td>28</td>\n",
       "      <td>100857</td>\n",
       "    </tr>\n",
       "    <tr>\n",
       "      <th>2</th>\n",
       "      <td>Nate Gentile</td>\n",
       "      <td>Programación</td>\n",
       "      <td>29</td>\n",
       "      <td>140522</td>\n",
       "    </tr>\n",
       "    <tr>\n",
       "      <th>3</th>\n",
       "      <td>Bettatech</td>\n",
       "      <td>Programación</td>\n",
       "      <td>28</td>\n",
       "      <td>148545</td>\n",
       "    </tr>\n",
       "    <tr>\n",
       "      <th>4</th>\n",
       "      <td>Antonio Sarosi</td>\n",
       "      <td>Sistemas Operativos</td>\n",
       "      <td>28</td>\n",
       "      <td>119988</td>\n",
       "    </tr>\n",
       "    <tr>\n",
       "      <th>5</th>\n",
       "      <td>Edgar Pons</td>\n",
       "      <td>Robótica</td>\n",
       "      <td>30</td>\n",
       "      <td>124745</td>\n",
       "    </tr>\n",
       "    <tr>\n",
       "      <th>6</th>\n",
       "      <td>s4vitar</td>\n",
       "      <td>Hacking</td>\n",
       "      <td>29</td>\n",
       "      <td>141636</td>\n",
       "    </tr>\n",
       "  </tbody>\n",
       "</table>\n",
       "</div>"
      ],
      "text/plain": [
       "           nombre         especialidad  edad  visitas\n",
       "0       SFDX Show             Hardware    30   102490\n",
       "1     Sara Nogark     Edición de vídeo    28   100857\n",
       "2    Nate Gentile         Programación    29   140522\n",
       "3       Bettatech         Programación    28   148545\n",
       "4  Antonio Sarosi  Sistemas Operativos    28   119988\n",
       "5      Edgar Pons             Robótica    30   124745\n",
       "6         s4vitar              Hacking    29   141636"
      ]
     },
     "execution_count": 103,
     "metadata": {},
     "output_type": "execute_result"
    }
   ],
   "source": [
    "df_inventado"
   ]
  },
  {
   "cell_type": "code",
   "execution_count": 104,
   "id": "81ffae58",
   "metadata": {},
   "outputs": [],
   "source": [
    "df_inventado['sexo'] = list(df['sexo'])"
   ]
  },
  {
   "cell_type": "code",
   "execution_count": 105,
   "id": "d67b3b8a",
   "metadata": {},
   "outputs": [
    {
     "data": {
      "text/html": [
       "<div>\n",
       "<style scoped>\n",
       "    .dataframe tbody tr th:only-of-type {\n",
       "        vertical-align: middle;\n",
       "    }\n",
       "\n",
       "    .dataframe tbody tr th {\n",
       "        vertical-align: top;\n",
       "    }\n",
       "\n",
       "    .dataframe thead th {\n",
       "        text-align: right;\n",
       "    }\n",
       "</style>\n",
       "<table border=\"1\" class=\"dataframe\">\n",
       "  <thead>\n",
       "    <tr style=\"text-align: right;\">\n",
       "      <th></th>\n",
       "      <th>nombre</th>\n",
       "      <th>especialidad</th>\n",
       "      <th>edad</th>\n",
       "      <th>visitas</th>\n",
       "      <th>sexo</th>\n",
       "    </tr>\n",
       "  </thead>\n",
       "  <tbody>\n",
       "    <tr>\n",
       "      <th>0</th>\n",
       "      <td>SFDX Show</td>\n",
       "      <td>Hardware</td>\n",
       "      <td>30</td>\n",
       "      <td>102490</td>\n",
       "      <td>H</td>\n",
       "    </tr>\n",
       "    <tr>\n",
       "      <th>1</th>\n",
       "      <td>Sara Nogark</td>\n",
       "      <td>Edición de vídeo</td>\n",
       "      <td>28</td>\n",
       "      <td>100857</td>\n",
       "      <td>M</td>\n",
       "    </tr>\n",
       "    <tr>\n",
       "      <th>2</th>\n",
       "      <td>Nate Gentile</td>\n",
       "      <td>Programación</td>\n",
       "      <td>29</td>\n",
       "      <td>140522</td>\n",
       "      <td>H</td>\n",
       "    </tr>\n",
       "    <tr>\n",
       "      <th>3</th>\n",
       "      <td>Bettatech</td>\n",
       "      <td>Programación</td>\n",
       "      <td>28</td>\n",
       "      <td>148545</td>\n",
       "      <td>H</td>\n",
       "    </tr>\n",
       "    <tr>\n",
       "      <th>4</th>\n",
       "      <td>Antonio Sarosi</td>\n",
       "      <td>Sistemas Operativos</td>\n",
       "      <td>28</td>\n",
       "      <td>119988</td>\n",
       "      <td>H</td>\n",
       "    </tr>\n",
       "    <tr>\n",
       "      <th>5</th>\n",
       "      <td>Edgar Pons</td>\n",
       "      <td>Robótica</td>\n",
       "      <td>30</td>\n",
       "      <td>124745</td>\n",
       "      <td>H</td>\n",
       "    </tr>\n",
       "    <tr>\n",
       "      <th>6</th>\n",
       "      <td>s4vitar</td>\n",
       "      <td>Hacking</td>\n",
       "      <td>29</td>\n",
       "      <td>141636</td>\n",
       "      <td>H</td>\n",
       "    </tr>\n",
       "  </tbody>\n",
       "</table>\n",
       "</div>"
      ],
      "text/plain": [
       "           nombre         especialidad  edad  visitas sexo\n",
       "0       SFDX Show             Hardware    30   102490    H\n",
       "1     Sara Nogark     Edición de vídeo    28   100857    M\n",
       "2    Nate Gentile         Programación    29   140522    H\n",
       "3       Bettatech         Programación    28   148545    H\n",
       "4  Antonio Sarosi  Sistemas Operativos    28   119988    H\n",
       "5      Edgar Pons             Robótica    30   124745    H\n",
       "6         s4vitar              Hacking    29   141636    H"
      ]
     },
     "execution_count": 105,
     "metadata": {},
     "output_type": "execute_result"
    }
   ],
   "source": [
    "df_inventado"
   ]
  },
  {
   "cell_type": "markdown",
   "id": "2f7c9732",
   "metadata": {},
   "source": [
    "# Explorando un dataframe"
   ]
  },
  {
   "cell_type": "code",
   "execution_count": 106,
   "id": "e046f8be",
   "metadata": {},
   "outputs": [
    {
     "data": {
      "text/html": [
       "<div>\n",
       "<style scoped>\n",
       "    .dataframe tbody tr th:only-of-type {\n",
       "        vertical-align: middle;\n",
       "    }\n",
       "\n",
       "    .dataframe tbody tr th {\n",
       "        vertical-align: top;\n",
       "    }\n",
       "\n",
       "    .dataframe thead th {\n",
       "        text-align: right;\n",
       "    }\n",
       "</style>\n",
       "<table border=\"1\" class=\"dataframe\">\n",
       "  <thead>\n",
       "    <tr style=\"text-align: right;\">\n",
       "      <th></th>\n",
       "      <th>nombre</th>\n",
       "      <th>especialidad</th>\n",
       "      <th>edad</th>\n",
       "      <th>visitas</th>\n",
       "      <th>sexo</th>\n",
       "    </tr>\n",
       "  </thead>\n",
       "  <tbody>\n",
       "    <tr>\n",
       "      <th>0</th>\n",
       "      <td>SFDX Show</td>\n",
       "      <td>Hardware</td>\n",
       "      <td>30</td>\n",
       "      <td>130855</td>\n",
       "      <td>H</td>\n",
       "    </tr>\n",
       "    <tr>\n",
       "      <th>1</th>\n",
       "      <td>Sara Nogark</td>\n",
       "      <td>Edición de vídeo</td>\n",
       "      <td>29</td>\n",
       "      <td>114175</td>\n",
       "      <td>M</td>\n",
       "    </tr>\n",
       "    <tr>\n",
       "      <th>2</th>\n",
       "      <td>Nate Gentile</td>\n",
       "      <td>Programación</td>\n",
       "      <td>31</td>\n",
       "      <td>142545</td>\n",
       "      <td>H</td>\n",
       "    </tr>\n",
       "    <tr>\n",
       "      <th>3</th>\n",
       "      <td>Bettatech</td>\n",
       "      <td>Programación</td>\n",
       "      <td>31</td>\n",
       "      <td>149462</td>\n",
       "      <td>H</td>\n",
       "    </tr>\n",
       "    <tr>\n",
       "      <th>4</th>\n",
       "      <td>Antonio Sarosi</td>\n",
       "      <td>Sistemas Operativos</td>\n",
       "      <td>28</td>\n",
       "      <td>132008</td>\n",
       "      <td>H</td>\n",
       "    </tr>\n",
       "    <tr>\n",
       "      <th>5</th>\n",
       "      <td>Edgar Pons</td>\n",
       "      <td>Robótica</td>\n",
       "      <td>29</td>\n",
       "      <td>143620</td>\n",
       "      <td>H</td>\n",
       "    </tr>\n",
       "    <tr>\n",
       "      <th>6</th>\n",
       "      <td>s4vitar</td>\n",
       "      <td>Hacking</td>\n",
       "      <td>28</td>\n",
       "      <td>132567</td>\n",
       "      <td>H</td>\n",
       "    </tr>\n",
       "  </tbody>\n",
       "</table>\n",
       "</div>"
      ],
      "text/plain": [
       "           nombre         especialidad  edad  visitas sexo\n",
       "0       SFDX Show             Hardware    30   130855    H\n",
       "1     Sara Nogark     Edición de vídeo    29   114175    M\n",
       "2    Nate Gentile         Programación    31   142545    H\n",
       "3       Bettatech         Programación    31   149462    H\n",
       "4  Antonio Sarosi  Sistemas Operativos    28   132008    H\n",
       "5      Edgar Pons             Robótica    29   143620    H\n",
       "6         s4vitar              Hacking    28   132567    H"
      ]
     },
     "execution_count": 106,
     "metadata": {},
     "output_type": "execute_result"
    }
   ],
   "source": [
    "df"
   ]
  },
  {
   "cell_type": "markdown",
   "id": "d2d2f562",
   "metadata": {},
   "source": [
    "## df.head()"
   ]
  },
  {
   "cell_type": "code",
   "execution_count": 107,
   "id": "fcfbd491",
   "metadata": {},
   "outputs": [
    {
     "data": {
      "text/html": [
       "<div>\n",
       "<style scoped>\n",
       "    .dataframe tbody tr th:only-of-type {\n",
       "        vertical-align: middle;\n",
       "    }\n",
       "\n",
       "    .dataframe tbody tr th {\n",
       "        vertical-align: top;\n",
       "    }\n",
       "\n",
       "    .dataframe thead th {\n",
       "        text-align: right;\n",
       "    }\n",
       "</style>\n",
       "<table border=\"1\" class=\"dataframe\">\n",
       "  <thead>\n",
       "    <tr style=\"text-align: right;\">\n",
       "      <th></th>\n",
       "      <th>nombre</th>\n",
       "      <th>especialidad</th>\n",
       "      <th>edad</th>\n",
       "      <th>visitas</th>\n",
       "      <th>sexo</th>\n",
       "    </tr>\n",
       "  </thead>\n",
       "  <tbody>\n",
       "    <tr>\n",
       "      <th>0</th>\n",
       "      <td>SFDX Show</td>\n",
       "      <td>Hardware</td>\n",
       "      <td>30</td>\n",
       "      <td>130855</td>\n",
       "      <td>H</td>\n",
       "    </tr>\n",
       "    <tr>\n",
       "      <th>1</th>\n",
       "      <td>Sara Nogark</td>\n",
       "      <td>Edición de vídeo</td>\n",
       "      <td>29</td>\n",
       "      <td>114175</td>\n",
       "      <td>M</td>\n",
       "    </tr>\n",
       "  </tbody>\n",
       "</table>\n",
       "</div>"
      ],
      "text/plain": [
       "        nombre      especialidad  edad  visitas sexo\n",
       "0    SFDX Show          Hardware    30   130855    H\n",
       "1  Sara Nogark  Edición de vídeo    29   114175    M"
      ]
     },
     "execution_count": 107,
     "metadata": {},
     "output_type": "execute_result"
    }
   ],
   "source": [
    "df.head(2)"
   ]
  },
  {
   "cell_type": "code",
   "execution_count": 108,
   "id": "09300283",
   "metadata": {
    "scrolled": true
   },
   "outputs": [
    {
     "data": {
      "text/html": [
       "<div>\n",
       "<style scoped>\n",
       "    .dataframe tbody tr th:only-of-type {\n",
       "        vertical-align: middle;\n",
       "    }\n",
       "\n",
       "    .dataframe tbody tr th {\n",
       "        vertical-align: top;\n",
       "    }\n",
       "\n",
       "    .dataframe thead th {\n",
       "        text-align: right;\n",
       "    }\n",
       "</style>\n",
       "<table border=\"1\" class=\"dataframe\">\n",
       "  <thead>\n",
       "    <tr style=\"text-align: right;\">\n",
       "      <th></th>\n",
       "      <th>nombre</th>\n",
       "      <th>especialidad</th>\n",
       "      <th>edad</th>\n",
       "      <th>visitas</th>\n",
       "      <th>sexo</th>\n",
       "    </tr>\n",
       "  </thead>\n",
       "  <tbody>\n",
       "    <tr>\n",
       "      <th>5</th>\n",
       "      <td>Edgar Pons</td>\n",
       "      <td>Robótica</td>\n",
       "      <td>29</td>\n",
       "      <td>143620</td>\n",
       "      <td>H</td>\n",
       "    </tr>\n",
       "    <tr>\n",
       "      <th>6</th>\n",
       "      <td>s4vitar</td>\n",
       "      <td>Hacking</td>\n",
       "      <td>28</td>\n",
       "      <td>132567</td>\n",
       "      <td>H</td>\n",
       "    </tr>\n",
       "  </tbody>\n",
       "</table>\n",
       "</div>"
      ],
      "text/plain": [
       "       nombre especialidad  edad  visitas sexo\n",
       "5  Edgar Pons     Robótica    29   143620    H\n",
       "6     s4vitar      Hacking    28   132567    H"
      ]
     },
     "execution_count": 108,
     "metadata": {},
     "output_type": "execute_result"
    }
   ],
   "source": [
    "df.tail(2)"
   ]
  },
  {
   "cell_type": "markdown",
   "id": "352d6101",
   "metadata": {},
   "source": [
    "## df.sample()"
   ]
  },
  {
   "cell_type": "code",
   "execution_count": 109,
   "id": "5c67171e",
   "metadata": {
    "scrolled": true
   },
   "outputs": [
    {
     "data": {
      "text/html": [
       "<div>\n",
       "<style scoped>\n",
       "    .dataframe tbody tr th:only-of-type {\n",
       "        vertical-align: middle;\n",
       "    }\n",
       "\n",
       "    .dataframe tbody tr th {\n",
       "        vertical-align: top;\n",
       "    }\n",
       "\n",
       "    .dataframe thead th {\n",
       "        text-align: right;\n",
       "    }\n",
       "</style>\n",
       "<table border=\"1\" class=\"dataframe\">\n",
       "  <thead>\n",
       "    <tr style=\"text-align: right;\">\n",
       "      <th></th>\n",
       "      <th>nombre</th>\n",
       "      <th>especialidad</th>\n",
       "      <th>edad</th>\n",
       "      <th>visitas</th>\n",
       "      <th>sexo</th>\n",
       "    </tr>\n",
       "  </thead>\n",
       "  <tbody>\n",
       "    <tr>\n",
       "      <th>3</th>\n",
       "      <td>Bettatech</td>\n",
       "      <td>Programación</td>\n",
       "      <td>31</td>\n",
       "      <td>149462</td>\n",
       "      <td>H</td>\n",
       "    </tr>\n",
       "    <tr>\n",
       "      <th>4</th>\n",
       "      <td>Antonio Sarosi</td>\n",
       "      <td>Sistemas Operativos</td>\n",
       "      <td>28</td>\n",
       "      <td>132008</td>\n",
       "      <td>H</td>\n",
       "    </tr>\n",
       "    <tr>\n",
       "      <th>1</th>\n",
       "      <td>Sara Nogark</td>\n",
       "      <td>Edición de vídeo</td>\n",
       "      <td>29</td>\n",
       "      <td>114175</td>\n",
       "      <td>M</td>\n",
       "    </tr>\n",
       "  </tbody>\n",
       "</table>\n",
       "</div>"
      ],
      "text/plain": [
       "           nombre         especialidad  edad  visitas sexo\n",
       "3       Bettatech         Programación    31   149462    H\n",
       "4  Antonio Sarosi  Sistemas Operativos    28   132008    H\n",
       "1     Sara Nogark     Edición de vídeo    29   114175    M"
      ]
     },
     "execution_count": 109,
     "metadata": {},
     "output_type": "execute_result"
    }
   ],
   "source": [
    "df.sample(3)"
   ]
  },
  {
   "cell_type": "markdown",
   "id": "c2193cac",
   "metadata": {},
   "source": [
    "## df.info()"
   ]
  },
  {
   "cell_type": "code",
   "execution_count": 110,
   "id": "3461c818",
   "metadata": {},
   "outputs": [
    {
     "name": "stdout",
     "output_type": "stream",
     "text": [
      "<class 'pandas.core.frame.DataFrame'>\n",
      "Int64Index: 7 entries, 0 to 6\n",
      "Data columns (total 5 columns):\n",
      " #   Column        Non-Null Count  Dtype \n",
      "---  ------        --------------  ----- \n",
      " 0   nombre        7 non-null      object\n",
      " 1   especialidad  7 non-null      object\n",
      " 2   edad          7 non-null      int64 \n",
      " 3   visitas       7 non-null      int64 \n",
      " 4   sexo          7 non-null      object\n",
      "dtypes: int64(2), object(3)\n",
      "memory usage: 336.0+ bytes\n"
     ]
    }
   ],
   "source": [
    "df.info()"
   ]
  },
  {
   "cell_type": "markdown",
   "id": "d865920d",
   "metadata": {},
   "source": [
    "## df.describe()"
   ]
  },
  {
   "cell_type": "code",
   "execution_count": 111,
   "id": "21eefebb",
   "metadata": {},
   "outputs": [
    {
     "data": {
      "text/html": [
       "<div>\n",
       "<style scoped>\n",
       "    .dataframe tbody tr th:only-of-type {\n",
       "        vertical-align: middle;\n",
       "    }\n",
       "\n",
       "    .dataframe tbody tr th {\n",
       "        vertical-align: top;\n",
       "    }\n",
       "\n",
       "    .dataframe thead th {\n",
       "        text-align: right;\n",
       "    }\n",
       "</style>\n",
       "<table border=\"1\" class=\"dataframe\">\n",
       "  <thead>\n",
       "    <tr style=\"text-align: right;\">\n",
       "      <th></th>\n",
       "      <th>edad</th>\n",
       "      <th>visitas</th>\n",
       "    </tr>\n",
       "  </thead>\n",
       "  <tbody>\n",
       "    <tr>\n",
       "      <th>count</th>\n",
       "      <td>7.000000</td>\n",
       "      <td>7.000000</td>\n",
       "    </tr>\n",
       "    <tr>\n",
       "      <th>mean</th>\n",
       "      <td>29.428571</td>\n",
       "      <td>135033.142857</td>\n",
       "    </tr>\n",
       "    <tr>\n",
       "      <th>std</th>\n",
       "      <td>1.272418</td>\n",
       "      <td>11590.990631</td>\n",
       "    </tr>\n",
       "    <tr>\n",
       "      <th>min</th>\n",
       "      <td>28.000000</td>\n",
       "      <td>114175.000000</td>\n",
       "    </tr>\n",
       "    <tr>\n",
       "      <th>25%</th>\n",
       "      <td>28.500000</td>\n",
       "      <td>131431.500000</td>\n",
       "    </tr>\n",
       "    <tr>\n",
       "      <th>50%</th>\n",
       "      <td>29.000000</td>\n",
       "      <td>132567.000000</td>\n",
       "    </tr>\n",
       "    <tr>\n",
       "      <th>75%</th>\n",
       "      <td>30.500000</td>\n",
       "      <td>143082.500000</td>\n",
       "    </tr>\n",
       "    <tr>\n",
       "      <th>max</th>\n",
       "      <td>31.000000</td>\n",
       "      <td>149462.000000</td>\n",
       "    </tr>\n",
       "  </tbody>\n",
       "</table>\n",
       "</div>"
      ],
      "text/plain": [
       "            edad        visitas\n",
       "count   7.000000       7.000000\n",
       "mean   29.428571  135033.142857\n",
       "std     1.272418   11590.990631\n",
       "min    28.000000  114175.000000\n",
       "25%    28.500000  131431.500000\n",
       "50%    29.000000  132567.000000\n",
       "75%    30.500000  143082.500000\n",
       "max    31.000000  149462.000000"
      ]
     },
     "execution_count": 111,
     "metadata": {},
     "output_type": "execute_result"
    }
   ],
   "source": [
    "df.describe()"
   ]
  },
  {
   "cell_type": "code",
   "execution_count": 112,
   "id": "7cd413db",
   "metadata": {},
   "outputs": [
    {
     "data": {
      "text/plain": [
       "31.0"
      ]
     },
     "execution_count": 112,
     "metadata": {},
     "output_type": "execute_result"
    }
   ],
   "source": [
    "df.describe()['edad']['max']"
   ]
  },
  {
   "cell_type": "markdown",
   "id": "a493e682",
   "metadata": {},
   "source": [
    "## df.shape()"
   ]
  },
  {
   "cell_type": "code",
   "execution_count": 113,
   "id": "e1b95409",
   "metadata": {},
   "outputs": [
    {
     "data": {
      "text/plain": [
       "(7, 5)"
      ]
     },
     "execution_count": 113,
     "metadata": {},
     "output_type": "execute_result"
    }
   ],
   "source": [
    "df.shape"
   ]
  },
  {
   "cell_type": "markdown",
   "id": "8a1eae03",
   "metadata": {},
   "source": [
    "## df.columns"
   ]
  },
  {
   "cell_type": "code",
   "execution_count": 114,
   "id": "277572e0",
   "metadata": {},
   "outputs": [
    {
     "data": {
      "text/plain": [
       "Index(['nombre', 'especialidad', 'edad', 'visitas', 'sexo'], dtype='object')"
      ]
     },
     "execution_count": 114,
     "metadata": {},
     "output_type": "execute_result"
    }
   ],
   "source": [
    "df.columns"
   ]
  },
  {
   "cell_type": "code",
   "execution_count": 115,
   "id": "a2ecbd8b",
   "metadata": {},
   "outputs": [],
   "source": [
    "df.columns = ['nombre', 'especialidad', 'edad', 'visitas', 'sexo'] # podemos cambiar  los nombres de las columnas"
   ]
  },
  {
   "cell_type": "code",
   "execution_count": 116,
   "id": "de4ceabf",
   "metadata": {},
   "outputs": [
    {
     "data": {
      "text/html": [
       "<div>\n",
       "<style scoped>\n",
       "    .dataframe tbody tr th:only-of-type {\n",
       "        vertical-align: middle;\n",
       "    }\n",
       "\n",
       "    .dataframe tbody tr th {\n",
       "        vertical-align: top;\n",
       "    }\n",
       "\n",
       "    .dataframe thead th {\n",
       "        text-align: right;\n",
       "    }\n",
       "</style>\n",
       "<table border=\"1\" class=\"dataframe\">\n",
       "  <thead>\n",
       "    <tr style=\"text-align: right;\">\n",
       "      <th></th>\n",
       "      <th>nombre</th>\n",
       "      <th>especialidad</th>\n",
       "      <th>edad</th>\n",
       "      <th>visitas</th>\n",
       "      <th>sexo</th>\n",
       "    </tr>\n",
       "  </thead>\n",
       "  <tbody>\n",
       "    <tr>\n",
       "      <th>0</th>\n",
       "      <td>SFDX Show</td>\n",
       "      <td>Hardware</td>\n",
       "      <td>30</td>\n",
       "      <td>130855</td>\n",
       "      <td>H</td>\n",
       "    </tr>\n",
       "    <tr>\n",
       "      <th>1</th>\n",
       "      <td>Sara Nogark</td>\n",
       "      <td>Edición de vídeo</td>\n",
       "      <td>29</td>\n",
       "      <td>114175</td>\n",
       "      <td>M</td>\n",
       "    </tr>\n",
       "    <tr>\n",
       "      <th>2</th>\n",
       "      <td>Nate Gentile</td>\n",
       "      <td>Programación</td>\n",
       "      <td>31</td>\n",
       "      <td>142545</td>\n",
       "      <td>H</td>\n",
       "    </tr>\n",
       "    <tr>\n",
       "      <th>3</th>\n",
       "      <td>Bettatech</td>\n",
       "      <td>Programación</td>\n",
       "      <td>31</td>\n",
       "      <td>149462</td>\n",
       "      <td>H</td>\n",
       "    </tr>\n",
       "    <tr>\n",
       "      <th>4</th>\n",
       "      <td>Antonio Sarosi</td>\n",
       "      <td>Sistemas Operativos</td>\n",
       "      <td>28</td>\n",
       "      <td>132008</td>\n",
       "      <td>H</td>\n",
       "    </tr>\n",
       "    <tr>\n",
       "      <th>5</th>\n",
       "      <td>Edgar Pons</td>\n",
       "      <td>Robótica</td>\n",
       "      <td>29</td>\n",
       "      <td>143620</td>\n",
       "      <td>H</td>\n",
       "    </tr>\n",
       "    <tr>\n",
       "      <th>6</th>\n",
       "      <td>s4vitar</td>\n",
       "      <td>Hacking</td>\n",
       "      <td>28</td>\n",
       "      <td>132567</td>\n",
       "      <td>H</td>\n",
       "    </tr>\n",
       "  </tbody>\n",
       "</table>\n",
       "</div>"
      ],
      "text/plain": [
       "           nombre         especialidad  edad  visitas sexo\n",
       "0       SFDX Show             Hardware    30   130855    H\n",
       "1     Sara Nogark     Edición de vídeo    29   114175    M\n",
       "2    Nate Gentile         Programación    31   142545    H\n",
       "3       Bettatech         Programación    31   149462    H\n",
       "4  Antonio Sarosi  Sistemas Operativos    28   132008    H\n",
       "5      Edgar Pons             Robótica    29   143620    H\n",
       "6         s4vitar              Hacking    28   132567    H"
      ]
     },
     "execution_count": 116,
     "metadata": {},
     "output_type": "execute_result"
    }
   ],
   "source": [
    "df"
   ]
  },
  {
   "cell_type": "markdown",
   "id": "bd08b903",
   "metadata": {},
   "source": [
    "## df.index"
   ]
  },
  {
   "cell_type": "code",
   "execution_count": 117,
   "id": "06a349b2",
   "metadata": {},
   "outputs": [
    {
     "data": {
      "text/plain": [
       "Int64Index([0, 1, 2, 3, 4, 5, 6], dtype='int64')"
      ]
     },
     "execution_count": 117,
     "metadata": {},
     "output_type": "execute_result"
    }
   ],
   "source": [
    "df.index"
   ]
  },
  {
   "cell_type": "markdown",
   "id": "5999e39e",
   "metadata": {},
   "source": [
    "# eleccion de elementos (subset)"
   ]
  },
  {
   "cell_type": "markdown",
   "id": "99b1c606",
   "metadata": {},
   "source": [
    "## acceso mediante etiquetas"
   ]
  },
  {
   "cell_type": "markdown",
   "id": "1c1209b0",
   "metadata": {},
   "source": [
    "df[columna][fila]"
   ]
  },
  {
   "cell_type": "code",
   "execution_count": 118,
   "id": "c64864a3",
   "metadata": {},
   "outputs": [
    {
     "data": {
      "text/plain": [
       "'Programación'"
      ]
     },
     "execution_count": 118,
     "metadata": {},
     "output_type": "execute_result"
    }
   ],
   "source": [
    "df['especialidad'][2]"
   ]
  },
  {
   "cell_type": "code",
   "execution_count": 119,
   "id": "28a6c175",
   "metadata": {
    "scrolled": true
   },
   "outputs": [
    {
     "data": {
      "text/plain": [
       "0    False\n",
       "1    False\n",
       "2     True\n",
       "3    False\n",
       "4    False\n",
       "5    False\n",
       "6    False\n",
       "Name: nombre, dtype: bool"
      ]
     },
     "execution_count": 119,
     "metadata": {},
     "output_type": "execute_result"
    }
   ],
   "source": [
    "df['nombre'] == 'Nate Gentile'"
   ]
  },
  {
   "cell_type": "code",
   "execution_count": 120,
   "id": "82d63870",
   "metadata": {},
   "outputs": [
    {
     "data": {
      "text/html": [
       "<div>\n",
       "<style scoped>\n",
       "    .dataframe tbody tr th:only-of-type {\n",
       "        vertical-align: middle;\n",
       "    }\n",
       "\n",
       "    .dataframe tbody tr th {\n",
       "        vertical-align: top;\n",
       "    }\n",
       "\n",
       "    .dataframe thead th {\n",
       "        text-align: right;\n",
       "    }\n",
       "</style>\n",
       "<table border=\"1\" class=\"dataframe\">\n",
       "  <thead>\n",
       "    <tr style=\"text-align: right;\">\n",
       "      <th></th>\n",
       "      <th>nombre</th>\n",
       "      <th>especialidad</th>\n",
       "      <th>edad</th>\n",
       "      <th>visitas</th>\n",
       "      <th>sexo</th>\n",
       "    </tr>\n",
       "  </thead>\n",
       "  <tbody>\n",
       "    <tr>\n",
       "      <th>2</th>\n",
       "      <td>Nate Gentile</td>\n",
       "      <td>Programación</td>\n",
       "      <td>31</td>\n",
       "      <td>142545</td>\n",
       "      <td>H</td>\n",
       "    </tr>\n",
       "  </tbody>\n",
       "</table>\n",
       "</div>"
      ],
      "text/plain": [
       "         nombre  especialidad  edad  visitas sexo\n",
       "2  Nate Gentile  Programación    31   142545    H"
      ]
     },
     "execution_count": 120,
     "metadata": {},
     "output_type": "execute_result"
    }
   ],
   "source": [
    "df[df['nombre'] == 'Nate Gentile']"
   ]
  },
  {
   "cell_type": "code",
   "execution_count": 121,
   "id": "48edc858",
   "metadata": {},
   "outputs": [
    {
     "data": {
      "text/plain": [
       "2    Programación\n",
       "Name: especialidad, dtype: object"
      ]
     },
     "execution_count": 121,
     "metadata": {},
     "output_type": "execute_result"
    }
   ],
   "source": [
    "df[df['nombre'] == 'Nate Gentile']['especialidad']"
   ]
  },
  {
   "cell_type": "code",
   "execution_count": 122,
   "id": "572c39bb",
   "metadata": {},
   "outputs": [],
   "source": [
    "mas_viejos = df[df['edad'] == 30]['nombre']"
   ]
  },
  {
   "cell_type": "code",
   "execution_count": 123,
   "id": "2d05de63",
   "metadata": {},
   "outputs": [
    {
     "data": {
      "text/plain": [
       "0    SFDX Show\n",
       "Name: nombre, dtype: object"
      ]
     },
     "execution_count": 123,
     "metadata": {},
     "output_type": "execute_result"
    }
   ],
   "source": [
    "mas_viejos"
   ]
  },
  {
   "cell_type": "markdown",
   "id": "7cf2f0ef",
   "metadata": {},
   "source": [
    "## df.iloc[]"
   ]
  },
  {
   "cell_type": "markdown",
   "id": "cdb15fbb",
   "metadata": {},
   "source": [
    "df.iloc[indice fila, indice columna]"
   ]
  },
  {
   "cell_type": "code",
   "execution_count": 124,
   "id": "6d4448a9",
   "metadata": {},
   "outputs": [
    {
     "data": {
      "text/plain": [
       "nombre          Nate Gentile\n",
       "especialidad    Programación\n",
       "Name: 2, dtype: object"
      ]
     },
     "execution_count": 124,
     "metadata": {},
     "output_type": "execute_result"
    }
   ],
   "source": [
    "df.iloc[2,0:2]"
   ]
  },
  {
   "cell_type": "markdown",
   "id": "0c8d697e",
   "metadata": {},
   "source": [
    "## df.loc"
   ]
  },
  {
   "cell_type": "markdown",
   "id": "083e1356",
   "metadata": {},
   "source": [
    "df.loc[etiqueta indice, etiqueta columna]"
   ]
  },
  {
   "cell_type": "code",
   "execution_count": 125,
   "id": "8e1f6c32",
   "metadata": {},
   "outputs": [
    {
     "data": {
      "text/plain": [
       "'Programación'"
      ]
     },
     "execution_count": 125,
     "metadata": {},
     "output_type": "execute_result"
    }
   ],
   "source": [
    "df.loc[2, 'especialidad']"
   ]
  },
  {
   "cell_type": "code",
   "execution_count": 126,
   "id": "10d8b294",
   "metadata": {},
   "outputs": [
    {
     "data": {
      "text/plain": [
       "nombre          Nate Gentile\n",
       "especialidad    Programación\n",
       "edad                      31\n",
       "Name: 2, dtype: object"
      ]
     },
     "execution_count": 126,
     "metadata": {},
     "output_type": "execute_result"
    }
   ],
   "source": [
    "df.loc[2, :'edad']"
   ]
  },
  {
   "cell_type": "code",
   "execution_count": 127,
   "id": "a3dbe549",
   "metadata": {},
   "outputs": [
    {
     "data": {
      "text/plain": [
       "nombre          True\n",
       "especialidad    True\n",
       "Name: 2, dtype: bool"
      ]
     },
     "execution_count": 127,
     "metadata": {},
     "output_type": "execute_result"
    }
   ],
   "source": [
    "df.iloc[2,0:2] == df.loc[2, 'nombre':'especialidad']"
   ]
  },
  {
   "cell_type": "markdown",
   "id": "a2786938",
   "metadata": {},
   "source": [
    "# Manipulacion de datos"
   ]
  },
  {
   "cell_type": "markdown",
   "id": "ec264c4d",
   "metadata": {},
   "source": [
    "## Cambiar indice"
   ]
  },
  {
   "cell_type": "markdown",
   "id": "6124974c",
   "metadata": {},
   "source": [
    "### df.set_index()"
   ]
  },
  {
   "cell_type": "code",
   "execution_count": 128,
   "id": "192a0485",
   "metadata": {},
   "outputs": [
    {
     "data": {
      "text/html": [
       "<div>\n",
       "<style scoped>\n",
       "    .dataframe tbody tr th:only-of-type {\n",
       "        vertical-align: middle;\n",
       "    }\n",
       "\n",
       "    .dataframe tbody tr th {\n",
       "        vertical-align: top;\n",
       "    }\n",
       "\n",
       "    .dataframe thead th {\n",
       "        text-align: right;\n",
       "    }\n",
       "</style>\n",
       "<table border=\"1\" class=\"dataframe\">\n",
       "  <thead>\n",
       "    <tr style=\"text-align: right;\">\n",
       "      <th></th>\n",
       "      <th>nombre</th>\n",
       "      <th>especialidad</th>\n",
       "      <th>edad</th>\n",
       "      <th>visitas</th>\n",
       "      <th>sexo</th>\n",
       "    </tr>\n",
       "  </thead>\n",
       "  <tbody>\n",
       "    <tr>\n",
       "      <th>0</th>\n",
       "      <td>SFDX Show</td>\n",
       "      <td>Hardware</td>\n",
       "      <td>30</td>\n",
       "      <td>130855</td>\n",
       "      <td>H</td>\n",
       "    </tr>\n",
       "    <tr>\n",
       "      <th>1</th>\n",
       "      <td>Sara Nogark</td>\n",
       "      <td>Edición de vídeo</td>\n",
       "      <td>29</td>\n",
       "      <td>114175</td>\n",
       "      <td>M</td>\n",
       "    </tr>\n",
       "    <tr>\n",
       "      <th>2</th>\n",
       "      <td>Nate Gentile</td>\n",
       "      <td>Programación</td>\n",
       "      <td>31</td>\n",
       "      <td>142545</td>\n",
       "      <td>H</td>\n",
       "    </tr>\n",
       "    <tr>\n",
       "      <th>3</th>\n",
       "      <td>Bettatech</td>\n",
       "      <td>Programación</td>\n",
       "      <td>31</td>\n",
       "      <td>149462</td>\n",
       "      <td>H</td>\n",
       "    </tr>\n",
       "    <tr>\n",
       "      <th>4</th>\n",
       "      <td>Antonio Sarosi</td>\n",
       "      <td>Sistemas Operativos</td>\n",
       "      <td>28</td>\n",
       "      <td>132008</td>\n",
       "      <td>H</td>\n",
       "    </tr>\n",
       "    <tr>\n",
       "      <th>5</th>\n",
       "      <td>Edgar Pons</td>\n",
       "      <td>Robótica</td>\n",
       "      <td>29</td>\n",
       "      <td>143620</td>\n",
       "      <td>H</td>\n",
       "    </tr>\n",
       "    <tr>\n",
       "      <th>6</th>\n",
       "      <td>s4vitar</td>\n",
       "      <td>Hacking</td>\n",
       "      <td>28</td>\n",
       "      <td>132567</td>\n",
       "      <td>H</td>\n",
       "    </tr>\n",
       "  </tbody>\n",
       "</table>\n",
       "</div>"
      ],
      "text/plain": [
       "           nombre         especialidad  edad  visitas sexo\n",
       "0       SFDX Show             Hardware    30   130855    H\n",
       "1     Sara Nogark     Edición de vídeo    29   114175    M\n",
       "2    Nate Gentile         Programación    31   142545    H\n",
       "3       Bettatech         Programación    31   149462    H\n",
       "4  Antonio Sarosi  Sistemas Operativos    28   132008    H\n",
       "5      Edgar Pons             Robótica    29   143620    H\n",
       "6         s4vitar              Hacking    28   132567    H"
      ]
     },
     "execution_count": 128,
     "metadata": {},
     "output_type": "execute_result"
    }
   ],
   "source": [
    "df"
   ]
  },
  {
   "cell_type": "code",
   "execution_count": 129,
   "id": "b869143a",
   "metadata": {
    "scrolled": true
   },
   "outputs": [],
   "source": [
    "df_nuevo = df.set_index('nombre')"
   ]
  },
  {
   "cell_type": "code",
   "execution_count": 130,
   "id": "f00ab507",
   "metadata": {},
   "outputs": [
    {
     "data": {
      "text/html": [
       "<div>\n",
       "<style scoped>\n",
       "    .dataframe tbody tr th:only-of-type {\n",
       "        vertical-align: middle;\n",
       "    }\n",
       "\n",
       "    .dataframe tbody tr th {\n",
       "        vertical-align: top;\n",
       "    }\n",
       "\n",
       "    .dataframe thead th {\n",
       "        text-align: right;\n",
       "    }\n",
       "</style>\n",
       "<table border=\"1\" class=\"dataframe\">\n",
       "  <thead>\n",
       "    <tr style=\"text-align: right;\">\n",
       "      <th></th>\n",
       "      <th>especialidad</th>\n",
       "      <th>edad</th>\n",
       "      <th>visitas</th>\n",
       "      <th>sexo</th>\n",
       "    </tr>\n",
       "    <tr>\n",
       "      <th>nombre</th>\n",
       "      <th></th>\n",
       "      <th></th>\n",
       "      <th></th>\n",
       "      <th></th>\n",
       "    </tr>\n",
       "  </thead>\n",
       "  <tbody>\n",
       "    <tr>\n",
       "      <th>SFDX Show</th>\n",
       "      <td>Hardware</td>\n",
       "      <td>30</td>\n",
       "      <td>130855</td>\n",
       "      <td>H</td>\n",
       "    </tr>\n",
       "    <tr>\n",
       "      <th>Sara Nogark</th>\n",
       "      <td>Edición de vídeo</td>\n",
       "      <td>29</td>\n",
       "      <td>114175</td>\n",
       "      <td>M</td>\n",
       "    </tr>\n",
       "    <tr>\n",
       "      <th>Nate Gentile</th>\n",
       "      <td>Programación</td>\n",
       "      <td>31</td>\n",
       "      <td>142545</td>\n",
       "      <td>H</td>\n",
       "    </tr>\n",
       "    <tr>\n",
       "      <th>Bettatech</th>\n",
       "      <td>Programación</td>\n",
       "      <td>31</td>\n",
       "      <td>149462</td>\n",
       "      <td>H</td>\n",
       "    </tr>\n",
       "    <tr>\n",
       "      <th>Antonio Sarosi</th>\n",
       "      <td>Sistemas Operativos</td>\n",
       "      <td>28</td>\n",
       "      <td>132008</td>\n",
       "      <td>H</td>\n",
       "    </tr>\n",
       "    <tr>\n",
       "      <th>Edgar Pons</th>\n",
       "      <td>Robótica</td>\n",
       "      <td>29</td>\n",
       "      <td>143620</td>\n",
       "      <td>H</td>\n",
       "    </tr>\n",
       "    <tr>\n",
       "      <th>s4vitar</th>\n",
       "      <td>Hacking</td>\n",
       "      <td>28</td>\n",
       "      <td>132567</td>\n",
       "      <td>H</td>\n",
       "    </tr>\n",
       "  </tbody>\n",
       "</table>\n",
       "</div>"
      ],
      "text/plain": [
       "                       especialidad  edad  visitas sexo\n",
       "nombre                                                 \n",
       "SFDX Show                  Hardware    30   130855    H\n",
       "Sara Nogark        Edición de vídeo    29   114175    M\n",
       "Nate Gentile           Programación    31   142545    H\n",
       "Bettatech              Programación    31   149462    H\n",
       "Antonio Sarosi  Sistemas Operativos    28   132008    H\n",
       "Edgar Pons                 Robótica    29   143620    H\n",
       "s4vitar                     Hacking    28   132567    H"
      ]
     },
     "execution_count": 130,
     "metadata": {},
     "output_type": "execute_result"
    }
   ],
   "source": [
    "df_nuevo"
   ]
  },
  {
   "cell_type": "code",
   "execution_count": 131,
   "id": "d461496e",
   "metadata": {},
   "outputs": [],
   "source": [
    "df.set_index('nombre', \n",
    "             inplace=True)"
   ]
  },
  {
   "cell_type": "code",
   "execution_count": 132,
   "id": "5f5cd7f6",
   "metadata": {},
   "outputs": [
    {
     "data": {
      "text/html": [
       "<div>\n",
       "<style scoped>\n",
       "    .dataframe tbody tr th:only-of-type {\n",
       "        vertical-align: middle;\n",
       "    }\n",
       "\n",
       "    .dataframe tbody tr th {\n",
       "        vertical-align: top;\n",
       "    }\n",
       "\n",
       "    .dataframe thead th {\n",
       "        text-align: right;\n",
       "    }\n",
       "</style>\n",
       "<table border=\"1\" class=\"dataframe\">\n",
       "  <thead>\n",
       "    <tr style=\"text-align: right;\">\n",
       "      <th></th>\n",
       "      <th>especialidad</th>\n",
       "      <th>edad</th>\n",
       "      <th>visitas</th>\n",
       "      <th>sexo</th>\n",
       "    </tr>\n",
       "    <tr>\n",
       "      <th>nombre</th>\n",
       "      <th></th>\n",
       "      <th></th>\n",
       "      <th></th>\n",
       "      <th></th>\n",
       "    </tr>\n",
       "  </thead>\n",
       "  <tbody>\n",
       "    <tr>\n",
       "      <th>SFDX Show</th>\n",
       "      <td>Hardware</td>\n",
       "      <td>30</td>\n",
       "      <td>130855</td>\n",
       "      <td>H</td>\n",
       "    </tr>\n",
       "    <tr>\n",
       "      <th>Sara Nogark</th>\n",
       "      <td>Edición de vídeo</td>\n",
       "      <td>29</td>\n",
       "      <td>114175</td>\n",
       "      <td>M</td>\n",
       "    </tr>\n",
       "    <tr>\n",
       "      <th>Nate Gentile</th>\n",
       "      <td>Programación</td>\n",
       "      <td>31</td>\n",
       "      <td>142545</td>\n",
       "      <td>H</td>\n",
       "    </tr>\n",
       "    <tr>\n",
       "      <th>Bettatech</th>\n",
       "      <td>Programación</td>\n",
       "      <td>31</td>\n",
       "      <td>149462</td>\n",
       "      <td>H</td>\n",
       "    </tr>\n",
       "    <tr>\n",
       "      <th>Antonio Sarosi</th>\n",
       "      <td>Sistemas Operativos</td>\n",
       "      <td>28</td>\n",
       "      <td>132008</td>\n",
       "      <td>H</td>\n",
       "    </tr>\n",
       "    <tr>\n",
       "      <th>Edgar Pons</th>\n",
       "      <td>Robótica</td>\n",
       "      <td>29</td>\n",
       "      <td>143620</td>\n",
       "      <td>H</td>\n",
       "    </tr>\n",
       "    <tr>\n",
       "      <th>s4vitar</th>\n",
       "      <td>Hacking</td>\n",
       "      <td>28</td>\n",
       "      <td>132567</td>\n",
       "      <td>H</td>\n",
       "    </tr>\n",
       "  </tbody>\n",
       "</table>\n",
       "</div>"
      ],
      "text/plain": [
       "                       especialidad  edad  visitas sexo\n",
       "nombre                                                 \n",
       "SFDX Show                  Hardware    30   130855    H\n",
       "Sara Nogark        Edición de vídeo    29   114175    M\n",
       "Nate Gentile           Programación    31   142545    H\n",
       "Bettatech              Programación    31   149462    H\n",
       "Antonio Sarosi  Sistemas Operativos    28   132008    H\n",
       "Edgar Pons                 Robótica    29   143620    H\n",
       "s4vitar                     Hacking    28   132567    H"
      ]
     },
     "execution_count": 132,
     "metadata": {},
     "output_type": "execute_result"
    }
   ],
   "source": [
    "df"
   ]
  },
  {
   "cell_type": "code",
   "execution_count": 133,
   "id": "e6309ab4",
   "metadata": {},
   "outputs": [
    {
     "data": {
      "text/html": [
       "<div>\n",
       "<style scoped>\n",
       "    .dataframe tbody tr th:only-of-type {\n",
       "        vertical-align: middle;\n",
       "    }\n",
       "\n",
       "    .dataframe tbody tr th {\n",
       "        vertical-align: top;\n",
       "    }\n",
       "\n",
       "    .dataframe thead th {\n",
       "        text-align: right;\n",
       "    }\n",
       "</style>\n",
       "<table border=\"1\" class=\"dataframe\">\n",
       "  <thead>\n",
       "    <tr style=\"text-align: right;\">\n",
       "      <th></th>\n",
       "      <th>nombre</th>\n",
       "      <th>especialidad</th>\n",
       "      <th>edad</th>\n",
       "      <th>visitas</th>\n",
       "      <th>sexo</th>\n",
       "    </tr>\n",
       "  </thead>\n",
       "  <tbody>\n",
       "    <tr>\n",
       "      <th>0</th>\n",
       "      <td>SFDX Show</td>\n",
       "      <td>Hardware</td>\n",
       "      <td>30</td>\n",
       "      <td>130855</td>\n",
       "      <td>H</td>\n",
       "    </tr>\n",
       "    <tr>\n",
       "      <th>1</th>\n",
       "      <td>Sara Nogark</td>\n",
       "      <td>Edición de vídeo</td>\n",
       "      <td>29</td>\n",
       "      <td>114175</td>\n",
       "      <td>M</td>\n",
       "    </tr>\n",
       "    <tr>\n",
       "      <th>2</th>\n",
       "      <td>Nate Gentile</td>\n",
       "      <td>Programación</td>\n",
       "      <td>31</td>\n",
       "      <td>142545</td>\n",
       "      <td>H</td>\n",
       "    </tr>\n",
       "    <tr>\n",
       "      <th>3</th>\n",
       "      <td>Bettatech</td>\n",
       "      <td>Programación</td>\n",
       "      <td>31</td>\n",
       "      <td>149462</td>\n",
       "      <td>H</td>\n",
       "    </tr>\n",
       "    <tr>\n",
       "      <th>4</th>\n",
       "      <td>Antonio Sarosi</td>\n",
       "      <td>Sistemas Operativos</td>\n",
       "      <td>28</td>\n",
       "      <td>132008</td>\n",
       "      <td>H</td>\n",
       "    </tr>\n",
       "    <tr>\n",
       "      <th>5</th>\n",
       "      <td>Edgar Pons</td>\n",
       "      <td>Robótica</td>\n",
       "      <td>29</td>\n",
       "      <td>143620</td>\n",
       "      <td>H</td>\n",
       "    </tr>\n",
       "    <tr>\n",
       "      <th>6</th>\n",
       "      <td>s4vitar</td>\n",
       "      <td>Hacking</td>\n",
       "      <td>28</td>\n",
       "      <td>132567</td>\n",
       "      <td>H</td>\n",
       "    </tr>\n",
       "  </tbody>\n",
       "</table>\n",
       "</div>"
      ],
      "text/plain": [
       "           nombre         especialidad  edad  visitas sexo\n",
       "0       SFDX Show             Hardware    30   130855    H\n",
       "1     Sara Nogark     Edición de vídeo    29   114175    M\n",
       "2    Nate Gentile         Programación    31   142545    H\n",
       "3       Bettatech         Programación    31   149462    H\n",
       "4  Antonio Sarosi  Sistemas Operativos    28   132008    H\n",
       "5      Edgar Pons             Robótica    29   143620    H\n",
       "6         s4vitar              Hacking    28   132567    H"
      ]
     },
     "execution_count": 133,
     "metadata": {},
     "output_type": "execute_result"
    }
   ],
   "source": [
    "df.reset_index()"
   ]
  },
  {
   "cell_type": "code",
   "execution_count": 134,
   "id": "dccb94b1",
   "metadata": {},
   "outputs": [
    {
     "data": {
      "text/html": [
       "<div>\n",
       "<style scoped>\n",
       "    .dataframe tbody tr th:only-of-type {\n",
       "        vertical-align: middle;\n",
       "    }\n",
       "\n",
       "    .dataframe tbody tr th {\n",
       "        vertical-align: top;\n",
       "    }\n",
       "\n",
       "    .dataframe thead th {\n",
       "        text-align: right;\n",
       "    }\n",
       "</style>\n",
       "<table border=\"1\" class=\"dataframe\">\n",
       "  <thead>\n",
       "    <tr style=\"text-align: right;\">\n",
       "      <th></th>\n",
       "      <th>especialidad</th>\n",
       "      <th>edad</th>\n",
       "      <th>visitas</th>\n",
       "      <th>sexo</th>\n",
       "    </tr>\n",
       "    <tr>\n",
       "      <th>nombre</th>\n",
       "      <th></th>\n",
       "      <th></th>\n",
       "      <th></th>\n",
       "      <th></th>\n",
       "    </tr>\n",
       "  </thead>\n",
       "  <tbody>\n",
       "    <tr>\n",
       "      <th>SFDX Show</th>\n",
       "      <td>Hardware</td>\n",
       "      <td>30</td>\n",
       "      <td>130855</td>\n",
       "      <td>H</td>\n",
       "    </tr>\n",
       "    <tr>\n",
       "      <th>Sara Nogark</th>\n",
       "      <td>Edición de vídeo</td>\n",
       "      <td>29</td>\n",
       "      <td>114175</td>\n",
       "      <td>M</td>\n",
       "    </tr>\n",
       "    <tr>\n",
       "      <th>Nate Gentile</th>\n",
       "      <td>Programación</td>\n",
       "      <td>31</td>\n",
       "      <td>142545</td>\n",
       "      <td>H</td>\n",
       "    </tr>\n",
       "    <tr>\n",
       "      <th>Bettatech</th>\n",
       "      <td>Programación</td>\n",
       "      <td>31</td>\n",
       "      <td>149462</td>\n",
       "      <td>H</td>\n",
       "    </tr>\n",
       "    <tr>\n",
       "      <th>Antonio Sarosi</th>\n",
       "      <td>Sistemas Operativos</td>\n",
       "      <td>28</td>\n",
       "      <td>132008</td>\n",
       "      <td>H</td>\n",
       "    </tr>\n",
       "    <tr>\n",
       "      <th>Edgar Pons</th>\n",
       "      <td>Robótica</td>\n",
       "      <td>29</td>\n",
       "      <td>143620</td>\n",
       "      <td>H</td>\n",
       "    </tr>\n",
       "    <tr>\n",
       "      <th>s4vitar</th>\n",
       "      <td>Hacking</td>\n",
       "      <td>28</td>\n",
       "      <td>132567</td>\n",
       "      <td>H</td>\n",
       "    </tr>\n",
       "  </tbody>\n",
       "</table>\n",
       "</div>"
      ],
      "text/plain": [
       "                       especialidad  edad  visitas sexo\n",
       "nombre                                                 \n",
       "SFDX Show                  Hardware    30   130855    H\n",
       "Sara Nogark        Edición de vídeo    29   114175    M\n",
       "Nate Gentile           Programación    31   142545    H\n",
       "Bettatech              Programación    31   149462    H\n",
       "Antonio Sarosi  Sistemas Operativos    28   132008    H\n",
       "Edgar Pons                 Robótica    29   143620    H\n",
       "s4vitar                     Hacking    28   132567    H"
      ]
     },
     "execution_count": 134,
     "metadata": {},
     "output_type": "execute_result"
    }
   ],
   "source": [
    "df"
   ]
  },
  {
   "cell_type": "code",
   "execution_count": 135,
   "id": "930806b3",
   "metadata": {},
   "outputs": [
    {
     "data": {
      "text/html": [
       "<div>\n",
       "<style scoped>\n",
       "    .dataframe tbody tr th:only-of-type {\n",
       "        vertical-align: middle;\n",
       "    }\n",
       "\n",
       "    .dataframe tbody tr th {\n",
       "        vertical-align: top;\n",
       "    }\n",
       "\n",
       "    .dataframe thead th {\n",
       "        text-align: right;\n",
       "    }\n",
       "</style>\n",
       "<table border=\"1\" class=\"dataframe\">\n",
       "  <thead>\n",
       "    <tr style=\"text-align: right;\">\n",
       "      <th></th>\n",
       "      <th>especialidad</th>\n",
       "      <th>edad</th>\n",
       "      <th>visitas</th>\n",
       "      <th>sexo</th>\n",
       "    </tr>\n",
       "    <tr>\n",
       "      <th>nombre</th>\n",
       "      <th></th>\n",
       "      <th></th>\n",
       "      <th></th>\n",
       "      <th></th>\n",
       "    </tr>\n",
       "  </thead>\n",
       "  <tbody>\n",
       "    <tr>\n",
       "      <th>SFDX Show</th>\n",
       "      <td>Hardware</td>\n",
       "      <td>30</td>\n",
       "      <td>130855</td>\n",
       "      <td>H</td>\n",
       "    </tr>\n",
       "    <tr>\n",
       "      <th>Sara Nogark</th>\n",
       "      <td>Edición de vídeo</td>\n",
       "      <td>29</td>\n",
       "      <td>114175</td>\n",
       "      <td>M</td>\n",
       "    </tr>\n",
       "    <tr>\n",
       "      <th>Nate Gentile</th>\n",
       "      <td>Programación</td>\n",
       "      <td>31</td>\n",
       "      <td>142545</td>\n",
       "      <td>H</td>\n",
       "    </tr>\n",
       "    <tr>\n",
       "      <th>Bettatech</th>\n",
       "      <td>Programación</td>\n",
       "      <td>31</td>\n",
       "      <td>149462</td>\n",
       "      <td>H</td>\n",
       "    </tr>\n",
       "    <tr>\n",
       "      <th>Antonio Sarosi</th>\n",
       "      <td>Sistemas Operativos</td>\n",
       "      <td>28</td>\n",
       "      <td>132008</td>\n",
       "      <td>H</td>\n",
       "    </tr>\n",
       "  </tbody>\n",
       "</table>\n",
       "</div>"
      ],
      "text/plain": [
       "                       especialidad  edad  visitas sexo\n",
       "nombre                                                 \n",
       "SFDX Show                  Hardware    30   130855    H\n",
       "Sara Nogark        Edición de vídeo    29   114175    M\n",
       "Nate Gentile           Programación    31   142545    H\n",
       "Bettatech              Programación    31   149462    H\n",
       "Antonio Sarosi  Sistemas Operativos    28   132008    H"
      ]
     },
     "execution_count": 135,
     "metadata": {},
     "output_type": "execute_result"
    }
   ],
   "source": [
    "df_nuevo.head()"
   ]
  },
  {
   "cell_type": "code",
   "execution_count": 136,
   "id": "45335eb1",
   "metadata": {},
   "outputs": [
    {
     "data": {
      "text/html": [
       "<div>\n",
       "<style scoped>\n",
       "    .dataframe tbody tr th:only-of-type {\n",
       "        vertical-align: middle;\n",
       "    }\n",
       "\n",
       "    .dataframe tbody tr th {\n",
       "        vertical-align: top;\n",
       "    }\n",
       "\n",
       "    .dataframe thead th {\n",
       "        text-align: right;\n",
       "    }\n",
       "</style>\n",
       "<table border=\"1\" class=\"dataframe\">\n",
       "  <thead>\n",
       "    <tr style=\"text-align: right;\">\n",
       "      <th></th>\n",
       "      <th>visitas</th>\n",
       "      <th>edad</th>\n",
       "    </tr>\n",
       "    <tr>\n",
       "      <th>nombre</th>\n",
       "      <th></th>\n",
       "      <th></th>\n",
       "    </tr>\n",
       "  </thead>\n",
       "  <tbody>\n",
       "    <tr>\n",
       "      <th>Nate Gentile</th>\n",
       "      <td>142545</td>\n",
       "      <td>31</td>\n",
       "    </tr>\n",
       "    <tr>\n",
       "      <th>s4vitar</th>\n",
       "      <td>132567</td>\n",
       "      <td>28</td>\n",
       "    </tr>\n",
       "  </tbody>\n",
       "</table>\n",
       "</div>"
      ],
      "text/plain": [
       "              visitas  edad\n",
       "nombre                     \n",
       "Nate Gentile   142545    31\n",
       "s4vitar        132567    28"
      ]
     },
     "execution_count": 136,
     "metadata": {},
     "output_type": "execute_result"
    }
   ],
   "source": [
    "df_nuevo.loc[['Nate Gentile', 's4vitar'], ['visitas', 'edad']]"
   ]
  },
  {
   "cell_type": "markdown",
   "id": "a92eeafc",
   "metadata": {},
   "source": [
    "## df.apply()"
   ]
  },
  {
   "cell_type": "code",
   "execution_count": 137,
   "id": "09925c97",
   "metadata": {
    "scrolled": true
   },
   "outputs": [
    {
     "data": {
      "text/html": [
       "<div>\n",
       "<style scoped>\n",
       "    .dataframe tbody tr th:only-of-type {\n",
       "        vertical-align: middle;\n",
       "    }\n",
       "\n",
       "    .dataframe tbody tr th {\n",
       "        vertical-align: top;\n",
       "    }\n",
       "\n",
       "    .dataframe thead th {\n",
       "        text-align: right;\n",
       "    }\n",
       "</style>\n",
       "<table border=\"1\" class=\"dataframe\">\n",
       "  <thead>\n",
       "    <tr style=\"text-align: right;\">\n",
       "      <th></th>\n",
       "      <th>especialidad</th>\n",
       "      <th>edad</th>\n",
       "      <th>visitas</th>\n",
       "      <th>sexo</th>\n",
       "    </tr>\n",
       "    <tr>\n",
       "      <th>nombre</th>\n",
       "      <th></th>\n",
       "      <th></th>\n",
       "      <th></th>\n",
       "      <th></th>\n",
       "    </tr>\n",
       "  </thead>\n",
       "  <tbody>\n",
       "    <tr>\n",
       "      <th>SFDX Show</th>\n",
       "      <td>Hardware</td>\n",
       "      <td>30</td>\n",
       "      <td>130855</td>\n",
       "      <td>H</td>\n",
       "    </tr>\n",
       "    <tr>\n",
       "      <th>Sara Nogark</th>\n",
       "      <td>Edición de vídeo</td>\n",
       "      <td>29</td>\n",
       "      <td>114175</td>\n",
       "      <td>M</td>\n",
       "    </tr>\n",
       "    <tr>\n",
       "      <th>Nate Gentile</th>\n",
       "      <td>Programación</td>\n",
       "      <td>31</td>\n",
       "      <td>142545</td>\n",
       "      <td>H</td>\n",
       "    </tr>\n",
       "    <tr>\n",
       "      <th>Bettatech</th>\n",
       "      <td>Programación</td>\n",
       "      <td>31</td>\n",
       "      <td>149462</td>\n",
       "      <td>H</td>\n",
       "    </tr>\n",
       "    <tr>\n",
       "      <th>Antonio Sarosi</th>\n",
       "      <td>Sistemas Operativos</td>\n",
       "      <td>28</td>\n",
       "      <td>132008</td>\n",
       "      <td>H</td>\n",
       "    </tr>\n",
       "    <tr>\n",
       "      <th>Edgar Pons</th>\n",
       "      <td>Robótica</td>\n",
       "      <td>29</td>\n",
       "      <td>143620</td>\n",
       "      <td>H</td>\n",
       "    </tr>\n",
       "    <tr>\n",
       "      <th>s4vitar</th>\n",
       "      <td>Hacking</td>\n",
       "      <td>28</td>\n",
       "      <td>132567</td>\n",
       "      <td>H</td>\n",
       "    </tr>\n",
       "  </tbody>\n",
       "</table>\n",
       "</div>"
      ],
      "text/plain": [
       "                       especialidad  edad  visitas sexo\n",
       "nombre                                                 \n",
       "SFDX Show                  Hardware    30   130855    H\n",
       "Sara Nogark        Edición de vídeo    29   114175    M\n",
       "Nate Gentile           Programación    31   142545    H\n",
       "Bettatech              Programación    31   149462    H\n",
       "Antonio Sarosi  Sistemas Operativos    28   132008    H\n",
       "Edgar Pons                 Robótica    29   143620    H\n",
       "s4vitar                     Hacking    28   132567    H"
      ]
     },
     "execution_count": 137,
     "metadata": {},
     "output_type": "execute_result"
    }
   ],
   "source": [
    "df"
   ]
  },
  {
   "cell_type": "code",
   "execution_count": 138,
   "id": "aedad9a2",
   "metadata": {
    "scrolled": true
   },
   "outputs": [
    {
     "data": {
      "text/html": [
       "<div>\n",
       "<style scoped>\n",
       "    .dataframe tbody tr th:only-of-type {\n",
       "        vertical-align: middle;\n",
       "    }\n",
       "\n",
       "    .dataframe tbody tr th {\n",
       "        vertical-align: top;\n",
       "    }\n",
       "\n",
       "    .dataframe thead th {\n",
       "        text-align: right;\n",
       "    }\n",
       "</style>\n",
       "<table border=\"1\" class=\"dataframe\">\n",
       "  <thead>\n",
       "    <tr style=\"text-align: right;\">\n",
       "      <th></th>\n",
       "      <th>edad</th>\n",
       "      <th>visitas</th>\n",
       "    </tr>\n",
       "    <tr>\n",
       "      <th>nombre</th>\n",
       "      <th></th>\n",
       "      <th></th>\n",
       "    </tr>\n",
       "  </thead>\n",
       "  <tbody>\n",
       "    <tr>\n",
       "      <th>SFDX Show</th>\n",
       "      <td>30</td>\n",
       "      <td>130855</td>\n",
       "    </tr>\n",
       "    <tr>\n",
       "      <th>Sara Nogark</th>\n",
       "      <td>29</td>\n",
       "      <td>114175</td>\n",
       "    </tr>\n",
       "    <tr>\n",
       "      <th>Nate Gentile</th>\n",
       "      <td>31</td>\n",
       "      <td>142545</td>\n",
       "    </tr>\n",
       "    <tr>\n",
       "      <th>Bettatech</th>\n",
       "      <td>31</td>\n",
       "      <td>149462</td>\n",
       "    </tr>\n",
       "    <tr>\n",
       "      <th>Antonio Sarosi</th>\n",
       "      <td>28</td>\n",
       "      <td>132008</td>\n",
       "    </tr>\n",
       "    <tr>\n",
       "      <th>Edgar Pons</th>\n",
       "      <td>29</td>\n",
       "      <td>143620</td>\n",
       "    </tr>\n",
       "    <tr>\n",
       "      <th>s4vitar</th>\n",
       "      <td>28</td>\n",
       "      <td>132567</td>\n",
       "    </tr>\n",
       "  </tbody>\n",
       "</table>\n",
       "</div>"
      ],
      "text/plain": [
       "                edad  visitas\n",
       "nombre                       \n",
       "SFDX Show         30   130855\n",
       "Sara Nogark       29   114175\n",
       "Nate Gentile      31   142545\n",
       "Bettatech         31   149462\n",
       "Antonio Sarosi    28   132008\n",
       "Edgar Pons        29   143620\n",
       "s4vitar           28   132567"
      ]
     },
     "execution_count": 138,
     "metadata": {},
     "output_type": "execute_result"
    }
   ],
   "source": [
    "df.select_dtypes(include='int64')"
   ]
  },
  {
   "cell_type": "code",
   "execution_count": 139,
   "id": "6b843a09",
   "metadata": {},
   "outputs": [
    {
     "data": {
      "text/html": [
       "<div>\n",
       "<style scoped>\n",
       "    .dataframe tbody tr th:only-of-type {\n",
       "        vertical-align: middle;\n",
       "    }\n",
       "\n",
       "    .dataframe tbody tr th {\n",
       "        vertical-align: top;\n",
       "    }\n",
       "\n",
       "    .dataframe thead th {\n",
       "        text-align: right;\n",
       "    }\n",
       "</style>\n",
       "<table border=\"1\" class=\"dataframe\">\n",
       "  <thead>\n",
       "    <tr style=\"text-align: right;\">\n",
       "      <th></th>\n",
       "      <th>edad</th>\n",
       "      <th>visitas</th>\n",
       "    </tr>\n",
       "    <tr>\n",
       "      <th>nombre</th>\n",
       "      <th></th>\n",
       "      <th></th>\n",
       "    </tr>\n",
       "  </thead>\n",
       "  <tbody>\n",
       "    <tr>\n",
       "      <th>SFDX Show</th>\n",
       "      <td>5.477226</td>\n",
       "      <td>361.738856</td>\n",
       "    </tr>\n",
       "    <tr>\n",
       "      <th>Sara Nogark</th>\n",
       "      <td>5.385165</td>\n",
       "      <td>337.897914</td>\n",
       "    </tr>\n",
       "    <tr>\n",
       "      <th>Nate Gentile</th>\n",
       "      <td>5.567764</td>\n",
       "      <td>377.551321</td>\n",
       "    </tr>\n",
       "    <tr>\n",
       "      <th>Bettatech</th>\n",
       "      <td>5.567764</td>\n",
       "      <td>386.603156</td>\n",
       "    </tr>\n",
       "    <tr>\n",
       "      <th>Antonio Sarosi</th>\n",
       "      <td>5.291503</td>\n",
       "      <td>363.329052</td>\n",
       "    </tr>\n",
       "    <tr>\n",
       "      <th>Edgar Pons</th>\n",
       "      <td>5.385165</td>\n",
       "      <td>378.972295</td>\n",
       "    </tr>\n",
       "    <tr>\n",
       "      <th>s4vitar</th>\n",
       "      <td>5.291503</td>\n",
       "      <td>364.097514</td>\n",
       "    </tr>\n",
       "  </tbody>\n",
       "</table>\n",
       "</div>"
      ],
      "text/plain": [
       "                    edad     visitas\n",
       "nombre                              \n",
       "SFDX Show       5.477226  361.738856\n",
       "Sara Nogark     5.385165  337.897914\n",
       "Nate Gentile    5.567764  377.551321\n",
       "Bettatech       5.567764  386.603156\n",
       "Antonio Sarosi  5.291503  363.329052\n",
       "Edgar Pons      5.385165  378.972295\n",
       "s4vitar         5.291503  364.097514"
      ]
     },
     "execution_count": 139,
     "metadata": {},
     "output_type": "execute_result"
    }
   ],
   "source": [
    "df.select_dtypes(include='int64').apply(np.sqrt)"
   ]
  },
  {
   "cell_type": "code",
   "execution_count": 140,
   "id": "8e0734cd",
   "metadata": {},
   "outputs": [],
   "source": [
    "df['especialidad mayus'] = df['especialidad'].apply(lambda x: x.upper())"
   ]
  },
  {
   "cell_type": "code",
   "execution_count": 141,
   "id": "b5555708",
   "metadata": {
    "scrolled": true
   },
   "outputs": [],
   "source": [
    "n = np.array(list(range(5)))"
   ]
  },
  {
   "cell_type": "code",
   "execution_count": 142,
   "id": "8ccac724",
   "metadata": {},
   "outputs": [
    {
     "data": {
      "text/plain": [
       "array([0, 1, 2, 3, 4])"
      ]
     },
     "execution_count": 142,
     "metadata": {},
     "output_type": "execute_result"
    }
   ],
   "source": [
    "n"
   ]
  },
  {
   "cell_type": "code",
   "execution_count": 143,
   "id": "7458ee7b",
   "metadata": {},
   "outputs": [],
   "source": [
    "mas_1 = lambda x: x + 1"
   ]
  },
  {
   "cell_type": "code",
   "execution_count": 144,
   "id": "07e512a9",
   "metadata": {},
   "outputs": [
    {
     "data": {
      "text/plain": [
       "array([1, 2, 3, 4, 5])"
      ]
     },
     "execution_count": 144,
     "metadata": {},
     "output_type": "execute_result"
    }
   ],
   "source": [
    "mas_1(n)"
   ]
  },
  {
   "cell_type": "code",
   "execution_count": 145,
   "id": "50e5dcdc",
   "metadata": {},
   "outputs": [
    {
     "data": {
      "text/html": [
       "<div>\n",
       "<style scoped>\n",
       "    .dataframe tbody tr th:only-of-type {\n",
       "        vertical-align: middle;\n",
       "    }\n",
       "\n",
       "    .dataframe tbody tr th {\n",
       "        vertical-align: top;\n",
       "    }\n",
       "\n",
       "    .dataframe thead th {\n",
       "        text-align: right;\n",
       "    }\n",
       "</style>\n",
       "<table border=\"1\" class=\"dataframe\">\n",
       "  <thead>\n",
       "    <tr style=\"text-align: right;\">\n",
       "      <th></th>\n",
       "      <th>especialidad</th>\n",
       "      <th>edad</th>\n",
       "      <th>visitas</th>\n",
       "      <th>sexo</th>\n",
       "      <th>especialidad mayus</th>\n",
       "    </tr>\n",
       "    <tr>\n",
       "      <th>nombre</th>\n",
       "      <th></th>\n",
       "      <th></th>\n",
       "      <th></th>\n",
       "      <th></th>\n",
       "      <th></th>\n",
       "    </tr>\n",
       "  </thead>\n",
       "  <tbody>\n",
       "    <tr>\n",
       "      <th>SFDX Show</th>\n",
       "      <td>Hardware</td>\n",
       "      <td>30</td>\n",
       "      <td>130855</td>\n",
       "      <td>H</td>\n",
       "      <td>HARDWARE</td>\n",
       "    </tr>\n",
       "    <tr>\n",
       "      <th>Sara Nogark</th>\n",
       "      <td>Edición de vídeo</td>\n",
       "      <td>29</td>\n",
       "      <td>114175</td>\n",
       "      <td>M</td>\n",
       "      <td>EDICIÓN DE VÍDEO</td>\n",
       "    </tr>\n",
       "    <tr>\n",
       "      <th>Nate Gentile</th>\n",
       "      <td>Programación</td>\n",
       "      <td>31</td>\n",
       "      <td>142545</td>\n",
       "      <td>H</td>\n",
       "      <td>PROGRAMACIÓN</td>\n",
       "    </tr>\n",
       "    <tr>\n",
       "      <th>Bettatech</th>\n",
       "      <td>Programación</td>\n",
       "      <td>31</td>\n",
       "      <td>149462</td>\n",
       "      <td>H</td>\n",
       "      <td>PROGRAMACIÓN</td>\n",
       "    </tr>\n",
       "    <tr>\n",
       "      <th>Antonio Sarosi</th>\n",
       "      <td>Sistemas Operativos</td>\n",
       "      <td>28</td>\n",
       "      <td>132008</td>\n",
       "      <td>H</td>\n",
       "      <td>SISTEMAS OPERATIVOS</td>\n",
       "    </tr>\n",
       "    <tr>\n",
       "      <th>Edgar Pons</th>\n",
       "      <td>Robótica</td>\n",
       "      <td>29</td>\n",
       "      <td>143620</td>\n",
       "      <td>H</td>\n",
       "      <td>ROBÓTICA</td>\n",
       "    </tr>\n",
       "    <tr>\n",
       "      <th>s4vitar</th>\n",
       "      <td>Hacking</td>\n",
       "      <td>28</td>\n",
       "      <td>132567</td>\n",
       "      <td>H</td>\n",
       "      <td>HACKING</td>\n",
       "    </tr>\n",
       "  </tbody>\n",
       "</table>\n",
       "</div>"
      ],
      "text/plain": [
       "                       especialidad  edad  visitas sexo   especialidad mayus\n",
       "nombre                                                                      \n",
       "SFDX Show                  Hardware    30   130855    H             HARDWARE\n",
       "Sara Nogark        Edición de vídeo    29   114175    M     EDICIÓN DE VÍDEO\n",
       "Nate Gentile           Programación    31   142545    H         PROGRAMACIÓN\n",
       "Bettatech              Programación    31   149462    H         PROGRAMACIÓN\n",
       "Antonio Sarosi  Sistemas Operativos    28   132008    H  SISTEMAS OPERATIVOS\n",
       "Edgar Pons                 Robótica    29   143620    H             ROBÓTICA\n",
       "s4vitar                     Hacking    28   132567    H              HACKING"
      ]
     },
     "execution_count": 145,
     "metadata": {},
     "output_type": "execute_result"
    }
   ],
   "source": [
    "df"
   ]
  },
  {
   "cell_type": "code",
   "execution_count": 146,
   "id": "5aec01a9",
   "metadata": {},
   "outputs": [],
   "source": [
    "df['especialidad'] = df['especialidad'].apply(lambda x: x.title())"
   ]
  },
  {
   "cell_type": "code",
   "execution_count": 147,
   "id": "63e0be33",
   "metadata": {},
   "outputs": [
    {
     "data": {
      "text/html": [
       "<div>\n",
       "<style scoped>\n",
       "    .dataframe tbody tr th:only-of-type {\n",
       "        vertical-align: middle;\n",
       "    }\n",
       "\n",
       "    .dataframe tbody tr th {\n",
       "        vertical-align: top;\n",
       "    }\n",
       "\n",
       "    .dataframe thead th {\n",
       "        text-align: right;\n",
       "    }\n",
       "</style>\n",
       "<table border=\"1\" class=\"dataframe\">\n",
       "  <thead>\n",
       "    <tr style=\"text-align: right;\">\n",
       "      <th></th>\n",
       "      <th>especialidad</th>\n",
       "      <th>edad</th>\n",
       "      <th>visitas</th>\n",
       "      <th>sexo</th>\n",
       "      <th>especialidad mayus</th>\n",
       "    </tr>\n",
       "    <tr>\n",
       "      <th>nombre</th>\n",
       "      <th></th>\n",
       "      <th></th>\n",
       "      <th></th>\n",
       "      <th></th>\n",
       "      <th></th>\n",
       "    </tr>\n",
       "  </thead>\n",
       "  <tbody>\n",
       "    <tr>\n",
       "      <th>SFDX Show</th>\n",
       "      <td>Hardware</td>\n",
       "      <td>30</td>\n",
       "      <td>130855</td>\n",
       "      <td>H</td>\n",
       "      <td>HARDWARE</td>\n",
       "    </tr>\n",
       "    <tr>\n",
       "      <th>Sara Nogark</th>\n",
       "      <td>Edición De Vídeo</td>\n",
       "      <td>29</td>\n",
       "      <td>114175</td>\n",
       "      <td>M</td>\n",
       "      <td>EDICIÓN DE VÍDEO</td>\n",
       "    </tr>\n",
       "    <tr>\n",
       "      <th>Nate Gentile</th>\n",
       "      <td>Programación</td>\n",
       "      <td>31</td>\n",
       "      <td>142545</td>\n",
       "      <td>H</td>\n",
       "      <td>PROGRAMACIÓN</td>\n",
       "    </tr>\n",
       "    <tr>\n",
       "      <th>Bettatech</th>\n",
       "      <td>Programación</td>\n",
       "      <td>31</td>\n",
       "      <td>149462</td>\n",
       "      <td>H</td>\n",
       "      <td>PROGRAMACIÓN</td>\n",
       "    </tr>\n",
       "    <tr>\n",
       "      <th>Antonio Sarosi</th>\n",
       "      <td>Sistemas Operativos</td>\n",
       "      <td>28</td>\n",
       "      <td>132008</td>\n",
       "      <td>H</td>\n",
       "      <td>SISTEMAS OPERATIVOS</td>\n",
       "    </tr>\n",
       "    <tr>\n",
       "      <th>Edgar Pons</th>\n",
       "      <td>Robótica</td>\n",
       "      <td>29</td>\n",
       "      <td>143620</td>\n",
       "      <td>H</td>\n",
       "      <td>ROBÓTICA</td>\n",
       "    </tr>\n",
       "    <tr>\n",
       "      <th>s4vitar</th>\n",
       "      <td>Hacking</td>\n",
       "      <td>28</td>\n",
       "      <td>132567</td>\n",
       "      <td>H</td>\n",
       "      <td>HACKING</td>\n",
       "    </tr>\n",
       "  </tbody>\n",
       "</table>\n",
       "</div>"
      ],
      "text/plain": [
       "                       especialidad  edad  visitas sexo   especialidad mayus\n",
       "nombre                                                                      \n",
       "SFDX Show                  Hardware    30   130855    H             HARDWARE\n",
       "Sara Nogark        Edición De Vídeo    29   114175    M     EDICIÓN DE VÍDEO\n",
       "Nate Gentile           Programación    31   142545    H         PROGRAMACIÓN\n",
       "Bettatech              Programación    31   149462    H         PROGRAMACIÓN\n",
       "Antonio Sarosi  Sistemas Operativos    28   132008    H  SISTEMAS OPERATIVOS\n",
       "Edgar Pons                 Robótica    29   143620    H             ROBÓTICA\n",
       "s4vitar                     Hacking    28   132567    H              HACKING"
      ]
     },
     "execution_count": 147,
     "metadata": {},
     "output_type": "execute_result"
    }
   ],
   "source": [
    "df"
   ]
  },
  {
   "cell_type": "markdown",
   "id": "0901b428",
   "metadata": {},
   "source": [
    "## df.drop()"
   ]
  },
  {
   "cell_type": "code",
   "execution_count": 148,
   "id": "be8af71e",
   "metadata": {
    "scrolled": true
   },
   "outputs": [],
   "source": [
    "df.drop('especialidad mayus', \n",
    "        inplace=True, \n",
    "        axis=1)"
   ]
  },
  {
   "cell_type": "code",
   "execution_count": 149,
   "id": "37d32075",
   "metadata": {},
   "outputs": [
    {
     "data": {
      "text/html": [
       "<div>\n",
       "<style scoped>\n",
       "    .dataframe tbody tr th:only-of-type {\n",
       "        vertical-align: middle;\n",
       "    }\n",
       "\n",
       "    .dataframe tbody tr th {\n",
       "        vertical-align: top;\n",
       "    }\n",
       "\n",
       "    .dataframe thead th {\n",
       "        text-align: right;\n",
       "    }\n",
       "</style>\n",
       "<table border=\"1\" class=\"dataframe\">\n",
       "  <thead>\n",
       "    <tr style=\"text-align: right;\">\n",
       "      <th></th>\n",
       "      <th>especialidad</th>\n",
       "      <th>edad</th>\n",
       "      <th>visitas</th>\n",
       "      <th>sexo</th>\n",
       "    </tr>\n",
       "    <tr>\n",
       "      <th>nombre</th>\n",
       "      <th></th>\n",
       "      <th></th>\n",
       "      <th></th>\n",
       "      <th></th>\n",
       "    </tr>\n",
       "  </thead>\n",
       "  <tbody>\n",
       "    <tr>\n",
       "      <th>SFDX Show</th>\n",
       "      <td>Hardware</td>\n",
       "      <td>30</td>\n",
       "      <td>130855</td>\n",
       "      <td>H</td>\n",
       "    </tr>\n",
       "    <tr>\n",
       "      <th>Sara Nogark</th>\n",
       "      <td>Edición De Vídeo</td>\n",
       "      <td>29</td>\n",
       "      <td>114175</td>\n",
       "      <td>M</td>\n",
       "    </tr>\n",
       "    <tr>\n",
       "      <th>Nate Gentile</th>\n",
       "      <td>Programación</td>\n",
       "      <td>31</td>\n",
       "      <td>142545</td>\n",
       "      <td>H</td>\n",
       "    </tr>\n",
       "    <tr>\n",
       "      <th>Bettatech</th>\n",
       "      <td>Programación</td>\n",
       "      <td>31</td>\n",
       "      <td>149462</td>\n",
       "      <td>H</td>\n",
       "    </tr>\n",
       "    <tr>\n",
       "      <th>Antonio Sarosi</th>\n",
       "      <td>Sistemas Operativos</td>\n",
       "      <td>28</td>\n",
       "      <td>132008</td>\n",
       "      <td>H</td>\n",
       "    </tr>\n",
       "    <tr>\n",
       "      <th>Edgar Pons</th>\n",
       "      <td>Robótica</td>\n",
       "      <td>29</td>\n",
       "      <td>143620</td>\n",
       "      <td>H</td>\n",
       "    </tr>\n",
       "    <tr>\n",
       "      <th>s4vitar</th>\n",
       "      <td>Hacking</td>\n",
       "      <td>28</td>\n",
       "      <td>132567</td>\n",
       "      <td>H</td>\n",
       "    </tr>\n",
       "  </tbody>\n",
       "</table>\n",
       "</div>"
      ],
      "text/plain": [
       "                       especialidad  edad  visitas sexo\n",
       "nombre                                                 \n",
       "SFDX Show                  Hardware    30   130855    H\n",
       "Sara Nogark        Edición De Vídeo    29   114175    M\n",
       "Nate Gentile           Programación    31   142545    H\n",
       "Bettatech              Programación    31   149462    H\n",
       "Antonio Sarosi  Sistemas Operativos    28   132008    H\n",
       "Edgar Pons                 Robótica    29   143620    H\n",
       "s4vitar                     Hacking    28   132567    H"
      ]
     },
     "execution_count": 149,
     "metadata": {},
     "output_type": "execute_result"
    }
   ],
   "source": [
    "df"
   ]
  },
  {
   "cell_type": "markdown",
   "id": "c7ab5e60",
   "metadata": {},
   "source": [
    "## df.drop_duplicates()"
   ]
  },
  {
   "cell_type": "code",
   "execution_count": 150,
   "id": "5db6b677",
   "metadata": {},
   "outputs": [],
   "source": [
    "new_df = df.copy()"
   ]
  },
  {
   "cell_type": "code",
   "execution_count": 151,
   "id": "d0b504a0",
   "metadata": {},
   "outputs": [
    {
     "data": {
      "text/html": [
       "<div>\n",
       "<style scoped>\n",
       "    .dataframe tbody tr th:only-of-type {\n",
       "        vertical-align: middle;\n",
       "    }\n",
       "\n",
       "    .dataframe tbody tr th {\n",
       "        vertical-align: top;\n",
       "    }\n",
       "\n",
       "    .dataframe thead th {\n",
       "        text-align: right;\n",
       "    }\n",
       "</style>\n",
       "<table border=\"1\" class=\"dataframe\">\n",
       "  <thead>\n",
       "    <tr style=\"text-align: right;\">\n",
       "      <th></th>\n",
       "      <th>especialidad</th>\n",
       "      <th>edad</th>\n",
       "      <th>visitas</th>\n",
       "      <th>sexo</th>\n",
       "    </tr>\n",
       "    <tr>\n",
       "      <th>nombre</th>\n",
       "      <th></th>\n",
       "      <th></th>\n",
       "      <th></th>\n",
       "      <th></th>\n",
       "    </tr>\n",
       "  </thead>\n",
       "  <tbody>\n",
       "    <tr>\n",
       "      <th>SFDX Show</th>\n",
       "      <td>Hardware</td>\n",
       "      <td>30</td>\n",
       "      <td>130855</td>\n",
       "      <td>H</td>\n",
       "    </tr>\n",
       "    <tr>\n",
       "      <th>Bettatech</th>\n",
       "      <td>Programación</td>\n",
       "      <td>31</td>\n",
       "      <td>149462</td>\n",
       "      <td>H</td>\n",
       "    </tr>\n",
       "    <tr>\n",
       "      <th>Edgar Pons</th>\n",
       "      <td>Robótica</td>\n",
       "      <td>29</td>\n",
       "      <td>143620</td>\n",
       "      <td>H</td>\n",
       "    </tr>\n",
       "    <tr>\n",
       "      <th>s4vitar</th>\n",
       "      <td>Hacking</td>\n",
       "      <td>28</td>\n",
       "      <td>132567</td>\n",
       "      <td>H</td>\n",
       "    </tr>\n",
       "  </tbody>\n",
       "</table>\n",
       "</div>"
      ],
      "text/plain": [
       "            especialidad  edad  visitas sexo\n",
       "nombre                                      \n",
       "SFDX Show       Hardware    30   130855    H\n",
       "Bettatech   Programación    31   149462    H\n",
       "Edgar Pons      Robótica    29   143620    H\n",
       "s4vitar          Hacking    28   132567    H"
      ]
     },
     "execution_count": 151,
     "metadata": {},
     "output_type": "execute_result"
    }
   ],
   "source": [
    "new_df.drop_duplicates('edad', \n",
    "                       keep='last')"
   ]
  },
  {
   "cell_type": "markdown",
   "id": "c7c68c3c",
   "metadata": {},
   "source": [
    "## df.nlargest()"
   ]
  },
  {
   "cell_type": "code",
   "execution_count": 152,
   "id": "975bcdd7",
   "metadata": {},
   "outputs": [
    {
     "data": {
      "text/html": [
       "<div>\n",
       "<style scoped>\n",
       "    .dataframe tbody tr th:only-of-type {\n",
       "        vertical-align: middle;\n",
       "    }\n",
       "\n",
       "    .dataframe tbody tr th {\n",
       "        vertical-align: top;\n",
       "    }\n",
       "\n",
       "    .dataframe thead th {\n",
       "        text-align: right;\n",
       "    }\n",
       "</style>\n",
       "<table border=\"1\" class=\"dataframe\">\n",
       "  <thead>\n",
       "    <tr style=\"text-align: right;\">\n",
       "      <th></th>\n",
       "      <th>especialidad</th>\n",
       "      <th>edad</th>\n",
       "      <th>visitas</th>\n",
       "      <th>sexo</th>\n",
       "    </tr>\n",
       "    <tr>\n",
       "      <th>nombre</th>\n",
       "      <th></th>\n",
       "      <th></th>\n",
       "      <th></th>\n",
       "      <th></th>\n",
       "    </tr>\n",
       "  </thead>\n",
       "  <tbody>\n",
       "    <tr>\n",
       "      <th>Bettatech</th>\n",
       "      <td>Programación</td>\n",
       "      <td>31</td>\n",
       "      <td>149462</td>\n",
       "      <td>H</td>\n",
       "    </tr>\n",
       "    <tr>\n",
       "      <th>Edgar Pons</th>\n",
       "      <td>Robótica</td>\n",
       "      <td>29</td>\n",
       "      <td>143620</td>\n",
       "      <td>H</td>\n",
       "    </tr>\n",
       "    <tr>\n",
       "      <th>Nate Gentile</th>\n",
       "      <td>Programación</td>\n",
       "      <td>31</td>\n",
       "      <td>142545</td>\n",
       "      <td>H</td>\n",
       "    </tr>\n",
       "  </tbody>\n",
       "</table>\n",
       "</div>"
      ],
      "text/plain": [
       "              especialidad  edad  visitas sexo\n",
       "nombre                                        \n",
       "Bettatech     Programación    31   149462    H\n",
       "Edgar Pons        Robótica    29   143620    H\n",
       "Nate Gentile  Programación    31   142545    H"
      ]
     },
     "execution_count": 152,
     "metadata": {},
     "output_type": "execute_result"
    }
   ],
   "source": [
    "df.nlargest(3, 'visitas')"
   ]
  },
  {
   "cell_type": "markdown",
   "id": "c776f382",
   "metadata": {},
   "source": [
    "### df.sort_values"
   ]
  },
  {
   "cell_type": "code",
   "execution_count": 153,
   "id": "56bf5ca5",
   "metadata": {},
   "outputs": [
    {
     "data": {
      "text/html": [
       "<div>\n",
       "<style scoped>\n",
       "    .dataframe tbody tr th:only-of-type {\n",
       "        vertical-align: middle;\n",
       "    }\n",
       "\n",
       "    .dataframe tbody tr th {\n",
       "        vertical-align: top;\n",
       "    }\n",
       "\n",
       "    .dataframe thead th {\n",
       "        text-align: right;\n",
       "    }\n",
       "</style>\n",
       "<table border=\"1\" class=\"dataframe\">\n",
       "  <thead>\n",
       "    <tr style=\"text-align: right;\">\n",
       "      <th></th>\n",
       "      <th>especialidad</th>\n",
       "      <th>edad</th>\n",
       "      <th>visitas</th>\n",
       "      <th>sexo</th>\n",
       "    </tr>\n",
       "    <tr>\n",
       "      <th>nombre</th>\n",
       "      <th></th>\n",
       "      <th></th>\n",
       "      <th></th>\n",
       "      <th></th>\n",
       "    </tr>\n",
       "  </thead>\n",
       "  <tbody>\n",
       "    <tr>\n",
       "      <th>Bettatech</th>\n",
       "      <td>Programación</td>\n",
       "      <td>31</td>\n",
       "      <td>149462</td>\n",
       "      <td>H</td>\n",
       "    </tr>\n",
       "    <tr>\n",
       "      <th>Edgar Pons</th>\n",
       "      <td>Robótica</td>\n",
       "      <td>29</td>\n",
       "      <td>143620</td>\n",
       "      <td>H</td>\n",
       "    </tr>\n",
       "    <tr>\n",
       "      <th>Nate Gentile</th>\n",
       "      <td>Programación</td>\n",
       "      <td>31</td>\n",
       "      <td>142545</td>\n",
       "      <td>H</td>\n",
       "    </tr>\n",
       "    <tr>\n",
       "      <th>s4vitar</th>\n",
       "      <td>Hacking</td>\n",
       "      <td>28</td>\n",
       "      <td>132567</td>\n",
       "      <td>H</td>\n",
       "    </tr>\n",
       "    <tr>\n",
       "      <th>Antonio Sarosi</th>\n",
       "      <td>Sistemas Operativos</td>\n",
       "      <td>28</td>\n",
       "      <td>132008</td>\n",
       "      <td>H</td>\n",
       "    </tr>\n",
       "    <tr>\n",
       "      <th>SFDX Show</th>\n",
       "      <td>Hardware</td>\n",
       "      <td>30</td>\n",
       "      <td>130855</td>\n",
       "      <td>H</td>\n",
       "    </tr>\n",
       "    <tr>\n",
       "      <th>Sara Nogark</th>\n",
       "      <td>Edición De Vídeo</td>\n",
       "      <td>29</td>\n",
       "      <td>114175</td>\n",
       "      <td>M</td>\n",
       "    </tr>\n",
       "  </tbody>\n",
       "</table>\n",
       "</div>"
      ],
      "text/plain": [
       "                       especialidad  edad  visitas sexo\n",
       "nombre                                                 \n",
       "Bettatech              Programación    31   149462    H\n",
       "Edgar Pons                 Robótica    29   143620    H\n",
       "Nate Gentile           Programación    31   142545    H\n",
       "s4vitar                     Hacking    28   132567    H\n",
       "Antonio Sarosi  Sistemas Operativos    28   132008    H\n",
       "SFDX Show                  Hardware    30   130855    H\n",
       "Sara Nogark        Edición De Vídeo    29   114175    M"
      ]
     },
     "execution_count": 153,
     "metadata": {},
     "output_type": "execute_result"
    }
   ],
   "source": [
    "df.sort_values(by='visitas', \n",
    "               ascending=False)"
   ]
  },
  {
   "cell_type": "markdown",
   "id": "be0ba882",
   "metadata": {},
   "source": [
    "## df.nsmallest()"
   ]
  },
  {
   "cell_type": "code",
   "execution_count": 154,
   "id": "e2646472",
   "metadata": {
    "scrolled": true
   },
   "outputs": [
    {
     "data": {
      "text/html": [
       "<div>\n",
       "<style scoped>\n",
       "    .dataframe tbody tr th:only-of-type {\n",
       "        vertical-align: middle;\n",
       "    }\n",
       "\n",
       "    .dataframe tbody tr th {\n",
       "        vertical-align: top;\n",
       "    }\n",
       "\n",
       "    .dataframe thead th {\n",
       "        text-align: right;\n",
       "    }\n",
       "</style>\n",
       "<table border=\"1\" class=\"dataframe\">\n",
       "  <thead>\n",
       "    <tr style=\"text-align: right;\">\n",
       "      <th></th>\n",
       "      <th>especialidad</th>\n",
       "      <th>edad</th>\n",
       "      <th>visitas</th>\n",
       "      <th>sexo</th>\n",
       "    </tr>\n",
       "    <tr>\n",
       "      <th>nombre</th>\n",
       "      <th></th>\n",
       "      <th></th>\n",
       "      <th></th>\n",
       "      <th></th>\n",
       "    </tr>\n",
       "  </thead>\n",
       "  <tbody>\n",
       "    <tr>\n",
       "      <th>Sara Nogark</th>\n",
       "      <td>Edición De Vídeo</td>\n",
       "      <td>29</td>\n",
       "      <td>114175</td>\n",
       "      <td>M</td>\n",
       "    </tr>\n",
       "    <tr>\n",
       "      <th>SFDX Show</th>\n",
       "      <td>Hardware</td>\n",
       "      <td>30</td>\n",
       "      <td>130855</td>\n",
       "      <td>H</td>\n",
       "    </tr>\n",
       "    <tr>\n",
       "      <th>Antonio Sarosi</th>\n",
       "      <td>Sistemas Operativos</td>\n",
       "      <td>28</td>\n",
       "      <td>132008</td>\n",
       "      <td>H</td>\n",
       "    </tr>\n",
       "    <tr>\n",
       "      <th>s4vitar</th>\n",
       "      <td>Hacking</td>\n",
       "      <td>28</td>\n",
       "      <td>132567</td>\n",
       "      <td>H</td>\n",
       "    </tr>\n",
       "    <tr>\n",
       "      <th>Nate Gentile</th>\n",
       "      <td>Programación</td>\n",
       "      <td>31</td>\n",
       "      <td>142545</td>\n",
       "      <td>H</td>\n",
       "    </tr>\n",
       "    <tr>\n",
       "      <th>Edgar Pons</th>\n",
       "      <td>Robótica</td>\n",
       "      <td>29</td>\n",
       "      <td>143620</td>\n",
       "      <td>H</td>\n",
       "    </tr>\n",
       "    <tr>\n",
       "      <th>Bettatech</th>\n",
       "      <td>Programación</td>\n",
       "      <td>31</td>\n",
       "      <td>149462</td>\n",
       "      <td>H</td>\n",
       "    </tr>\n",
       "  </tbody>\n",
       "</table>\n",
       "</div>"
      ],
      "text/plain": [
       "                       especialidad  edad  visitas sexo\n",
       "nombre                                                 \n",
       "Sara Nogark        Edición De Vídeo    29   114175    M\n",
       "SFDX Show                  Hardware    30   130855    H\n",
       "Antonio Sarosi  Sistemas Operativos    28   132008    H\n",
       "s4vitar                     Hacking    28   132567    H\n",
       "Nate Gentile           Programación    31   142545    H\n",
       "Edgar Pons                 Robótica    29   143620    H\n",
       "Bettatech              Programación    31   149462    H"
      ]
     },
     "execution_count": 154,
     "metadata": {},
     "output_type": "execute_result"
    }
   ],
   "source": [
    "df.nsmallest(len(df), 'visitas')"
   ]
  },
  {
   "cell_type": "code",
   "execution_count": 155,
   "id": "ad33da84",
   "metadata": {},
   "outputs": [
    {
     "data": {
      "text/html": [
       "<div>\n",
       "<style scoped>\n",
       "    .dataframe tbody tr th:only-of-type {\n",
       "        vertical-align: middle;\n",
       "    }\n",
       "\n",
       "    .dataframe tbody tr th {\n",
       "        vertical-align: top;\n",
       "    }\n",
       "\n",
       "    .dataframe thead th {\n",
       "        text-align: right;\n",
       "    }\n",
       "</style>\n",
       "<table border=\"1\" class=\"dataframe\">\n",
       "  <thead>\n",
       "    <tr style=\"text-align: right;\">\n",
       "      <th></th>\n",
       "      <th>especialidad</th>\n",
       "      <th>edad</th>\n",
       "      <th>visitas</th>\n",
       "      <th>sexo</th>\n",
       "    </tr>\n",
       "    <tr>\n",
       "      <th>nombre</th>\n",
       "      <th></th>\n",
       "      <th></th>\n",
       "      <th></th>\n",
       "      <th></th>\n",
       "    </tr>\n",
       "  </thead>\n",
       "  <tbody>\n",
       "    <tr>\n",
       "      <th>Sara Nogark</th>\n",
       "      <td>True</td>\n",
       "      <td>True</td>\n",
       "      <td>True</td>\n",
       "      <td>True</td>\n",
       "    </tr>\n",
       "    <tr>\n",
       "      <th>SFDX Show</th>\n",
       "      <td>True</td>\n",
       "      <td>True</td>\n",
       "      <td>True</td>\n",
       "      <td>True</td>\n",
       "    </tr>\n",
       "    <tr>\n",
       "      <th>Antonio Sarosi</th>\n",
       "      <td>True</td>\n",
       "      <td>True</td>\n",
       "      <td>True</td>\n",
       "      <td>True</td>\n",
       "    </tr>\n",
       "    <tr>\n",
       "      <th>s4vitar</th>\n",
       "      <td>True</td>\n",
       "      <td>True</td>\n",
       "      <td>True</td>\n",
       "      <td>True</td>\n",
       "    </tr>\n",
       "    <tr>\n",
       "      <th>Nate Gentile</th>\n",
       "      <td>True</td>\n",
       "      <td>True</td>\n",
       "      <td>True</td>\n",
       "      <td>True</td>\n",
       "    </tr>\n",
       "    <tr>\n",
       "      <th>Edgar Pons</th>\n",
       "      <td>True</td>\n",
       "      <td>True</td>\n",
       "      <td>True</td>\n",
       "      <td>True</td>\n",
       "    </tr>\n",
       "    <tr>\n",
       "      <th>Bettatech</th>\n",
       "      <td>True</td>\n",
       "      <td>True</td>\n",
       "      <td>True</td>\n",
       "      <td>True</td>\n",
       "    </tr>\n",
       "  </tbody>\n",
       "</table>\n",
       "</div>"
      ],
      "text/plain": [
       "                especialidad  edad  visitas  sexo\n",
       "nombre                                           \n",
       "Sara Nogark             True  True     True  True\n",
       "SFDX Show               True  True     True  True\n",
       "Antonio Sarosi          True  True     True  True\n",
       "s4vitar                 True  True     True  True\n",
       "Nate Gentile            True  True     True  True\n",
       "Edgar Pons              True  True     True  True\n",
       "Bettatech               True  True     True  True"
      ]
     },
     "execution_count": 155,
     "metadata": {},
     "output_type": "execute_result"
    }
   ],
   "source": [
    "df.nsmallest(len(df), 'visitas') == df.sort_values(by='visitas')"
   ]
  },
  {
   "cell_type": "code",
   "execution_count": 156,
   "id": "0213fe1c",
   "metadata": {},
   "outputs": [
    {
     "data": {
      "text/html": [
       "<div>\n",
       "<style scoped>\n",
       "    .dataframe tbody tr th:only-of-type {\n",
       "        vertical-align: middle;\n",
       "    }\n",
       "\n",
       "    .dataframe tbody tr th {\n",
       "        vertical-align: top;\n",
       "    }\n",
       "\n",
       "    .dataframe thead th {\n",
       "        text-align: right;\n",
       "    }\n",
       "</style>\n",
       "<table border=\"1\" class=\"dataframe\">\n",
       "  <thead>\n",
       "    <tr style=\"text-align: right;\">\n",
       "      <th></th>\n",
       "      <th>especialidad</th>\n",
       "      <th>edad</th>\n",
       "      <th>visitas</th>\n",
       "      <th>sexo</th>\n",
       "    </tr>\n",
       "    <tr>\n",
       "      <th>nombre</th>\n",
       "      <th></th>\n",
       "      <th></th>\n",
       "      <th></th>\n",
       "      <th></th>\n",
       "    </tr>\n",
       "  </thead>\n",
       "  <tbody>\n",
       "    <tr>\n",
       "      <th>Bettatech</th>\n",
       "      <td>Programación</td>\n",
       "      <td>31</td>\n",
       "      <td>149462</td>\n",
       "      <td>H</td>\n",
       "    </tr>\n",
       "    <tr>\n",
       "      <th>Nate Gentile</th>\n",
       "      <td>Programación</td>\n",
       "      <td>31</td>\n",
       "      <td>142545</td>\n",
       "      <td>H</td>\n",
       "    </tr>\n",
       "    <tr>\n",
       "      <th>SFDX Show</th>\n",
       "      <td>Hardware</td>\n",
       "      <td>30</td>\n",
       "      <td>130855</td>\n",
       "      <td>H</td>\n",
       "    </tr>\n",
       "    <tr>\n",
       "      <th>Edgar Pons</th>\n",
       "      <td>Robótica</td>\n",
       "      <td>29</td>\n",
       "      <td>143620</td>\n",
       "      <td>H</td>\n",
       "    </tr>\n",
       "    <tr>\n",
       "      <th>Sara Nogark</th>\n",
       "      <td>Edición De Vídeo</td>\n",
       "      <td>29</td>\n",
       "      <td>114175</td>\n",
       "      <td>M</td>\n",
       "    </tr>\n",
       "    <tr>\n",
       "      <th>s4vitar</th>\n",
       "      <td>Hacking</td>\n",
       "      <td>28</td>\n",
       "      <td>132567</td>\n",
       "      <td>H</td>\n",
       "    </tr>\n",
       "    <tr>\n",
       "      <th>Antonio Sarosi</th>\n",
       "      <td>Sistemas Operativos</td>\n",
       "      <td>28</td>\n",
       "      <td>132008</td>\n",
       "      <td>H</td>\n",
       "    </tr>\n",
       "  </tbody>\n",
       "</table>\n",
       "</div>"
      ],
      "text/plain": [
       "                       especialidad  edad  visitas sexo\n",
       "nombre                                                 \n",
       "Bettatech              Programación    31   149462    H\n",
       "Nate Gentile           Programación    31   142545    H\n",
       "SFDX Show                  Hardware    30   130855    H\n",
       "Edgar Pons                 Robótica    29   143620    H\n",
       "Sara Nogark        Edición De Vídeo    29   114175    M\n",
       "s4vitar                     Hacking    28   132567    H\n",
       "Antonio Sarosi  Sistemas Operativos    28   132008    H"
      ]
     },
     "execution_count": 156,
     "metadata": {},
     "output_type": "execute_result"
    }
   ],
   "source": [
    "df.sort_values(by=['edad', 'visitas'], \n",
    "               ascending=False)"
   ]
  },
  {
   "cell_type": "markdown",
   "id": "b70e9ec2",
   "metadata": {},
   "source": [
    "## df.values_counts()"
   ]
  },
  {
   "cell_type": "code",
   "execution_count": 157,
   "id": "5fbaef2e",
   "metadata": {},
   "outputs": [
    {
     "data": {
      "text/plain": [
       "edad\n",
       "28    2\n",
       "29    2\n",
       "31    2\n",
       "30    1\n",
       "dtype: int64"
      ]
     },
     "execution_count": 157,
     "metadata": {},
     "output_type": "execute_result"
    }
   ],
   "source": [
    "df.value_counts('edad')"
   ]
  },
  {
   "cell_type": "markdown",
   "id": "fcc534df",
   "metadata": {},
   "source": [
    "## df.rename()"
   ]
  },
  {
   "cell_type": "code",
   "execution_count": 158,
   "id": "d1ff5d96",
   "metadata": {},
   "outputs": [
    {
     "data": {
      "text/html": [
       "<div>\n",
       "<style scoped>\n",
       "    .dataframe tbody tr th:only-of-type {\n",
       "        vertical-align: middle;\n",
       "    }\n",
       "\n",
       "    .dataframe tbody tr th {\n",
       "        vertical-align: top;\n",
       "    }\n",
       "\n",
       "    .dataframe thead th {\n",
       "        text-align: right;\n",
       "    }\n",
       "</style>\n",
       "<table border=\"1\" class=\"dataframe\">\n",
       "  <thead>\n",
       "    <tr style=\"text-align: right;\">\n",
       "      <th></th>\n",
       "      <th>especialidad</th>\n",
       "      <th>viejo</th>\n",
       "      <th>visitas</th>\n",
       "      <th>sexo</th>\n",
       "    </tr>\n",
       "    <tr>\n",
       "      <th>nombre</th>\n",
       "      <th></th>\n",
       "      <th></th>\n",
       "      <th></th>\n",
       "      <th></th>\n",
       "    </tr>\n",
       "  </thead>\n",
       "  <tbody>\n",
       "    <tr>\n",
       "      <th>SFDX Show</th>\n",
       "      <td>Hardware</td>\n",
       "      <td>30</td>\n",
       "      <td>130855</td>\n",
       "      <td>H</td>\n",
       "    </tr>\n",
       "    <tr>\n",
       "      <th>Sara Nogark</th>\n",
       "      <td>Edición De Vídeo</td>\n",
       "      <td>29</td>\n",
       "      <td>114175</td>\n",
       "      <td>M</td>\n",
       "    </tr>\n",
       "    <tr>\n",
       "      <th>Nate Gentile</th>\n",
       "      <td>Programación</td>\n",
       "      <td>31</td>\n",
       "      <td>142545</td>\n",
       "      <td>H</td>\n",
       "    </tr>\n",
       "    <tr>\n",
       "      <th>Bettatech</th>\n",
       "      <td>Programación</td>\n",
       "      <td>31</td>\n",
       "      <td>149462</td>\n",
       "      <td>H</td>\n",
       "    </tr>\n",
       "    <tr>\n",
       "      <th>Antonio Sarosi</th>\n",
       "      <td>Sistemas Operativos</td>\n",
       "      <td>28</td>\n",
       "      <td>132008</td>\n",
       "      <td>H</td>\n",
       "    </tr>\n",
       "    <tr>\n",
       "      <th>Edgar Pons</th>\n",
       "      <td>Robótica</td>\n",
       "      <td>29</td>\n",
       "      <td>143620</td>\n",
       "      <td>H</td>\n",
       "    </tr>\n",
       "    <tr>\n",
       "      <th>s4vitar</th>\n",
       "      <td>Hacking</td>\n",
       "      <td>28</td>\n",
       "      <td>132567</td>\n",
       "      <td>H</td>\n",
       "    </tr>\n",
       "  </tbody>\n",
       "</table>\n",
       "</div>"
      ],
      "text/plain": [
       "                       especialidad  viejo  visitas sexo\n",
       "nombre                                                  \n",
       "SFDX Show                  Hardware     30   130855    H\n",
       "Sara Nogark        Edición De Vídeo     29   114175    M\n",
       "Nate Gentile           Programación     31   142545    H\n",
       "Bettatech              Programación     31   149462    H\n",
       "Antonio Sarosi  Sistemas Operativos     28   132008    H\n",
       "Edgar Pons                 Robótica     29   143620    H\n",
       "s4vitar                     Hacking     28   132567    H"
      ]
     },
     "execution_count": 158,
     "metadata": {},
     "output_type": "execute_result"
    }
   ],
   "source": [
    "df.rename(columns={'edad':'viejo'})"
   ]
  },
  {
   "cell_type": "markdown",
   "id": "05c87eec",
   "metadata": {},
   "source": [
    "# Funciones avanzadas"
   ]
  },
  {
   "cell_type": "code",
   "execution_count": 159,
   "id": "4c821e24",
   "metadata": {
    "scrolled": true
   },
   "outputs": [],
   "source": [
    "df.reset_index(inplace=True)"
   ]
  },
  {
   "cell_type": "code",
   "execution_count": 160,
   "id": "8efd33e3",
   "metadata": {},
   "outputs": [
    {
     "data": {
      "text/html": [
       "<div>\n",
       "<style scoped>\n",
       "    .dataframe tbody tr th:only-of-type {\n",
       "        vertical-align: middle;\n",
       "    }\n",
       "\n",
       "    .dataframe tbody tr th {\n",
       "        vertical-align: top;\n",
       "    }\n",
       "\n",
       "    .dataframe thead th {\n",
       "        text-align: right;\n",
       "    }\n",
       "</style>\n",
       "<table border=\"1\" class=\"dataframe\">\n",
       "  <thead>\n",
       "    <tr style=\"text-align: right;\">\n",
       "      <th></th>\n",
       "      <th>nombre</th>\n",
       "      <th>especialidad</th>\n",
       "      <th>edad</th>\n",
       "      <th>visitas</th>\n",
       "      <th>sexo</th>\n",
       "    </tr>\n",
       "  </thead>\n",
       "  <tbody>\n",
       "    <tr>\n",
       "      <th>0</th>\n",
       "      <td>SFDX Show</td>\n",
       "      <td>Hardware</td>\n",
       "      <td>30</td>\n",
       "      <td>130855</td>\n",
       "      <td>H</td>\n",
       "    </tr>\n",
       "    <tr>\n",
       "      <th>1</th>\n",
       "      <td>Sara Nogark</td>\n",
       "      <td>Edición De Vídeo</td>\n",
       "      <td>29</td>\n",
       "      <td>114175</td>\n",
       "      <td>M</td>\n",
       "    </tr>\n",
       "    <tr>\n",
       "      <th>2</th>\n",
       "      <td>Nate Gentile</td>\n",
       "      <td>Programación</td>\n",
       "      <td>31</td>\n",
       "      <td>142545</td>\n",
       "      <td>H</td>\n",
       "    </tr>\n",
       "    <tr>\n",
       "      <th>3</th>\n",
       "      <td>Bettatech</td>\n",
       "      <td>Programación</td>\n",
       "      <td>31</td>\n",
       "      <td>149462</td>\n",
       "      <td>H</td>\n",
       "    </tr>\n",
       "    <tr>\n",
       "      <th>4</th>\n",
       "      <td>Antonio Sarosi</td>\n",
       "      <td>Sistemas Operativos</td>\n",
       "      <td>28</td>\n",
       "      <td>132008</td>\n",
       "      <td>H</td>\n",
       "    </tr>\n",
       "    <tr>\n",
       "      <th>5</th>\n",
       "      <td>Edgar Pons</td>\n",
       "      <td>Robótica</td>\n",
       "      <td>29</td>\n",
       "      <td>143620</td>\n",
       "      <td>H</td>\n",
       "    </tr>\n",
       "    <tr>\n",
       "      <th>6</th>\n",
       "      <td>s4vitar</td>\n",
       "      <td>Hacking</td>\n",
       "      <td>28</td>\n",
       "      <td>132567</td>\n",
       "      <td>H</td>\n",
       "    </tr>\n",
       "  </tbody>\n",
       "</table>\n",
       "</div>"
      ],
      "text/plain": [
       "           nombre         especialidad  edad  visitas sexo\n",
       "0       SFDX Show             Hardware    30   130855    H\n",
       "1     Sara Nogark     Edición De Vídeo    29   114175    M\n",
       "2    Nate Gentile         Programación    31   142545    H\n",
       "3       Bettatech         Programación    31   149462    H\n",
       "4  Antonio Sarosi  Sistemas Operativos    28   132008    H\n",
       "5      Edgar Pons             Robótica    29   143620    H\n",
       "6         s4vitar              Hacking    28   132567    H"
      ]
     },
     "execution_count": 160,
     "metadata": {},
     "output_type": "execute_result"
    }
   ],
   "source": [
    "df"
   ]
  },
  {
   "cell_type": "code",
   "execution_count": 161,
   "id": "1c070f04",
   "metadata": {},
   "outputs": [],
   "source": [
    "df_nuevo = df.copy()"
   ]
  },
  {
   "cell_type": "markdown",
   "id": "ca59e719",
   "metadata": {},
   "source": [
    "## pd.concat()"
   ]
  },
  {
   "cell_type": "code",
   "execution_count": 162,
   "id": "a88faebe",
   "metadata": {
    "scrolled": true
   },
   "outputs": [
    {
     "data": {
      "text/html": [
       "<div>\n",
       "<style scoped>\n",
       "    .dataframe tbody tr th:only-of-type {\n",
       "        vertical-align: middle;\n",
       "    }\n",
       "\n",
       "    .dataframe tbody tr th {\n",
       "        vertical-align: top;\n",
       "    }\n",
       "\n",
       "    .dataframe thead th {\n",
       "        text-align: right;\n",
       "    }\n",
       "</style>\n",
       "<table border=\"1\" class=\"dataframe\">\n",
       "  <thead>\n",
       "    <tr style=\"text-align: right;\">\n",
       "      <th></th>\n",
       "      <th>nombre</th>\n",
       "      <th>especialidad</th>\n",
       "      <th>edad</th>\n",
       "      <th>visitas</th>\n",
       "      <th>sexo</th>\n",
       "    </tr>\n",
       "  </thead>\n",
       "  <tbody>\n",
       "    <tr>\n",
       "      <th>0</th>\n",
       "      <td>SFDX Show</td>\n",
       "      <td>Hardware</td>\n",
       "      <td>30</td>\n",
       "      <td>130855</td>\n",
       "      <td>H</td>\n",
       "    </tr>\n",
       "    <tr>\n",
       "      <th>1</th>\n",
       "      <td>Sara Nogark</td>\n",
       "      <td>Edición De Vídeo</td>\n",
       "      <td>29</td>\n",
       "      <td>114175</td>\n",
       "      <td>M</td>\n",
       "    </tr>\n",
       "    <tr>\n",
       "      <th>2</th>\n",
       "      <td>Nate Gentile</td>\n",
       "      <td>Programación</td>\n",
       "      <td>31</td>\n",
       "      <td>142545</td>\n",
       "      <td>H</td>\n",
       "    </tr>\n",
       "    <tr>\n",
       "      <th>3</th>\n",
       "      <td>Bettatech</td>\n",
       "      <td>Programación</td>\n",
       "      <td>31</td>\n",
       "      <td>149462</td>\n",
       "      <td>H</td>\n",
       "    </tr>\n",
       "    <tr>\n",
       "      <th>4</th>\n",
       "      <td>Antonio Sarosi</td>\n",
       "      <td>Sistemas Operativos</td>\n",
       "      <td>28</td>\n",
       "      <td>132008</td>\n",
       "      <td>H</td>\n",
       "    </tr>\n",
       "    <tr>\n",
       "      <th>5</th>\n",
       "      <td>Edgar Pons</td>\n",
       "      <td>Robótica</td>\n",
       "      <td>29</td>\n",
       "      <td>143620</td>\n",
       "      <td>H</td>\n",
       "    </tr>\n",
       "    <tr>\n",
       "      <th>6</th>\n",
       "      <td>s4vitar</td>\n",
       "      <td>Hacking</td>\n",
       "      <td>28</td>\n",
       "      <td>132567</td>\n",
       "      <td>H</td>\n",
       "    </tr>\n",
       "  </tbody>\n",
       "</table>\n",
       "</div>"
      ],
      "text/plain": [
       "           nombre         especialidad  edad  visitas sexo\n",
       "0       SFDX Show             Hardware    30   130855    H\n",
       "1     Sara Nogark     Edición De Vídeo    29   114175    M\n",
       "2    Nate Gentile         Programación    31   142545    H\n",
       "3       Bettatech         Programación    31   149462    H\n",
       "4  Antonio Sarosi  Sistemas Operativos    28   132008    H\n",
       "5      Edgar Pons             Robótica    29   143620    H\n",
       "6         s4vitar              Hacking    28   132567    H"
      ]
     },
     "execution_count": 162,
     "metadata": {},
     "output_type": "execute_result"
    }
   ],
   "source": [
    "df"
   ]
  },
  {
   "cell_type": "code",
   "execution_count": 163,
   "id": "07701f84",
   "metadata": {
    "scrolled": true
   },
   "outputs": [
    {
     "data": {
      "text/html": [
       "<div>\n",
       "<style scoped>\n",
       "    .dataframe tbody tr th:only-of-type {\n",
       "        vertical-align: middle;\n",
       "    }\n",
       "\n",
       "    .dataframe tbody tr th {\n",
       "        vertical-align: top;\n",
       "    }\n",
       "\n",
       "    .dataframe thead th {\n",
       "        text-align: right;\n",
       "    }\n",
       "</style>\n",
       "<table border=\"1\" class=\"dataframe\">\n",
       "  <thead>\n",
       "    <tr style=\"text-align: right;\">\n",
       "      <th></th>\n",
       "      <th>nombre</th>\n",
       "      <th>especialidad</th>\n",
       "      <th>edad</th>\n",
       "      <th>visitas</th>\n",
       "      <th>sexo</th>\n",
       "    </tr>\n",
       "  </thead>\n",
       "  <tbody>\n",
       "    <tr>\n",
       "      <th>0</th>\n",
       "      <td>SFDX Show</td>\n",
       "      <td>Hardware</td>\n",
       "      <td>30</td>\n",
       "      <td>130855</td>\n",
       "      <td>H</td>\n",
       "    </tr>\n",
       "    <tr>\n",
       "      <th>1</th>\n",
       "      <td>Sara Nogark</td>\n",
       "      <td>Edición De Vídeo</td>\n",
       "      <td>29</td>\n",
       "      <td>114175</td>\n",
       "      <td>M</td>\n",
       "    </tr>\n",
       "    <tr>\n",
       "      <th>2</th>\n",
       "      <td>Nate Gentile</td>\n",
       "      <td>Programación</td>\n",
       "      <td>31</td>\n",
       "      <td>142545</td>\n",
       "      <td>H</td>\n",
       "    </tr>\n",
       "    <tr>\n",
       "      <th>3</th>\n",
       "      <td>Bettatech</td>\n",
       "      <td>Programación</td>\n",
       "      <td>31</td>\n",
       "      <td>149462</td>\n",
       "      <td>H</td>\n",
       "    </tr>\n",
       "    <tr>\n",
       "      <th>4</th>\n",
       "      <td>Antonio Sarosi</td>\n",
       "      <td>Sistemas Operativos</td>\n",
       "      <td>28</td>\n",
       "      <td>132008</td>\n",
       "      <td>H</td>\n",
       "    </tr>\n",
       "    <tr>\n",
       "      <th>5</th>\n",
       "      <td>Edgar Pons</td>\n",
       "      <td>Robótica</td>\n",
       "      <td>29</td>\n",
       "      <td>143620</td>\n",
       "      <td>H</td>\n",
       "    </tr>\n",
       "    <tr>\n",
       "      <th>6</th>\n",
       "      <td>s4vitar</td>\n",
       "      <td>Hacking</td>\n",
       "      <td>28</td>\n",
       "      <td>132567</td>\n",
       "      <td>H</td>\n",
       "    </tr>\n",
       "  </tbody>\n",
       "</table>\n",
       "</div>"
      ],
      "text/plain": [
       "           nombre         especialidad  edad  visitas sexo\n",
       "0       SFDX Show             Hardware    30   130855    H\n",
       "1     Sara Nogark     Edición De Vídeo    29   114175    M\n",
       "2    Nate Gentile         Programación    31   142545    H\n",
       "3       Bettatech         Programación    31   149462    H\n",
       "4  Antonio Sarosi  Sistemas Operativos    28   132008    H\n",
       "5      Edgar Pons             Robótica    29   143620    H\n",
       "6         s4vitar              Hacking    28   132567    H"
      ]
     },
     "execution_count": 163,
     "metadata": {},
     "output_type": "execute_result"
    }
   ],
   "source": [
    "df_nuevo"
   ]
  },
  {
   "cell_type": "code",
   "execution_count": 164,
   "id": "3ccd4efa",
   "metadata": {},
   "outputs": [],
   "source": [
    "df_nuevo['nombre'] = ['batman', 'spiderman', 'superman', 'thor', 'aironman', 'hulk', 'loki']"
   ]
  },
  {
   "cell_type": "code",
   "execution_count": 165,
   "id": "28bb34ac",
   "metadata": {
    "scrolled": true
   },
   "outputs": [
    {
     "data": {
      "text/html": [
       "<div>\n",
       "<style scoped>\n",
       "    .dataframe tbody tr th:only-of-type {\n",
       "        vertical-align: middle;\n",
       "    }\n",
       "\n",
       "    .dataframe tbody tr th {\n",
       "        vertical-align: top;\n",
       "    }\n",
       "\n",
       "    .dataframe thead th {\n",
       "        text-align: right;\n",
       "    }\n",
       "</style>\n",
       "<table border=\"1\" class=\"dataframe\">\n",
       "  <thead>\n",
       "    <tr style=\"text-align: right;\">\n",
       "      <th></th>\n",
       "      <th>nombre</th>\n",
       "      <th>especialidad</th>\n",
       "      <th>edad</th>\n",
       "      <th>visitas</th>\n",
       "      <th>sexo</th>\n",
       "    </tr>\n",
       "  </thead>\n",
       "  <tbody>\n",
       "    <tr>\n",
       "      <th>0</th>\n",
       "      <td>batman</td>\n",
       "      <td>Hardware</td>\n",
       "      <td>30</td>\n",
       "      <td>130855</td>\n",
       "      <td>H</td>\n",
       "    </tr>\n",
       "    <tr>\n",
       "      <th>1</th>\n",
       "      <td>spiderman</td>\n",
       "      <td>Edición De Vídeo</td>\n",
       "      <td>29</td>\n",
       "      <td>114175</td>\n",
       "      <td>M</td>\n",
       "    </tr>\n",
       "    <tr>\n",
       "      <th>2</th>\n",
       "      <td>superman</td>\n",
       "      <td>Programación</td>\n",
       "      <td>31</td>\n",
       "      <td>142545</td>\n",
       "      <td>H</td>\n",
       "    </tr>\n",
       "    <tr>\n",
       "      <th>3</th>\n",
       "      <td>thor</td>\n",
       "      <td>Programación</td>\n",
       "      <td>31</td>\n",
       "      <td>149462</td>\n",
       "      <td>H</td>\n",
       "    </tr>\n",
       "    <tr>\n",
       "      <th>4</th>\n",
       "      <td>aironman</td>\n",
       "      <td>Sistemas Operativos</td>\n",
       "      <td>28</td>\n",
       "      <td>132008</td>\n",
       "      <td>H</td>\n",
       "    </tr>\n",
       "    <tr>\n",
       "      <th>5</th>\n",
       "      <td>hulk</td>\n",
       "      <td>Robótica</td>\n",
       "      <td>29</td>\n",
       "      <td>143620</td>\n",
       "      <td>H</td>\n",
       "    </tr>\n",
       "    <tr>\n",
       "      <th>6</th>\n",
       "      <td>loki</td>\n",
       "      <td>Hacking</td>\n",
       "      <td>28</td>\n",
       "      <td>132567</td>\n",
       "      <td>H</td>\n",
       "    </tr>\n",
       "  </tbody>\n",
       "</table>\n",
       "</div>"
      ],
      "text/plain": [
       "      nombre         especialidad  edad  visitas sexo\n",
       "0     batman             Hardware    30   130855    H\n",
       "1  spiderman     Edición De Vídeo    29   114175    M\n",
       "2   superman         Programación    31   142545    H\n",
       "3       thor         Programación    31   149462    H\n",
       "4   aironman  Sistemas Operativos    28   132008    H\n",
       "5       hulk             Robótica    29   143620    H\n",
       "6       loki              Hacking    28   132567    H"
      ]
     },
     "execution_count": 165,
     "metadata": {},
     "output_type": "execute_result"
    }
   ],
   "source": [
    "df_nuevo"
   ]
  },
  {
   "cell_type": "code",
   "execution_count": 166,
   "id": "474d4b43",
   "metadata": {
    "scrolled": true
   },
   "outputs": [
    {
     "data": {
      "text/html": [
       "<div>\n",
       "<style scoped>\n",
       "    .dataframe tbody tr th:only-of-type {\n",
       "        vertical-align: middle;\n",
       "    }\n",
       "\n",
       "    .dataframe tbody tr th {\n",
       "        vertical-align: top;\n",
       "    }\n",
       "\n",
       "    .dataframe thead th {\n",
       "        text-align: right;\n",
       "    }\n",
       "</style>\n",
       "<table border=\"1\" class=\"dataframe\">\n",
       "  <thead>\n",
       "    <tr style=\"text-align: right;\">\n",
       "      <th></th>\n",
       "      <th>nombre</th>\n",
       "      <th>especialidad</th>\n",
       "      <th>edad</th>\n",
       "      <th>visitas</th>\n",
       "      <th>sexo</th>\n",
       "    </tr>\n",
       "  </thead>\n",
       "  <tbody>\n",
       "    <tr>\n",
       "      <th>0</th>\n",
       "      <td>SFDX Show</td>\n",
       "      <td>Hardware</td>\n",
       "      <td>30</td>\n",
       "      <td>130855</td>\n",
       "      <td>H</td>\n",
       "    </tr>\n",
       "    <tr>\n",
       "      <th>1</th>\n",
       "      <td>Sara Nogark</td>\n",
       "      <td>Edición De Vídeo</td>\n",
       "      <td>29</td>\n",
       "      <td>114175</td>\n",
       "      <td>M</td>\n",
       "    </tr>\n",
       "    <tr>\n",
       "      <th>2</th>\n",
       "      <td>Nate Gentile</td>\n",
       "      <td>Programación</td>\n",
       "      <td>31</td>\n",
       "      <td>142545</td>\n",
       "      <td>H</td>\n",
       "    </tr>\n",
       "    <tr>\n",
       "      <th>3</th>\n",
       "      <td>Bettatech</td>\n",
       "      <td>Programación</td>\n",
       "      <td>31</td>\n",
       "      <td>149462</td>\n",
       "      <td>H</td>\n",
       "    </tr>\n",
       "    <tr>\n",
       "      <th>4</th>\n",
       "      <td>Antonio Sarosi</td>\n",
       "      <td>Sistemas Operativos</td>\n",
       "      <td>28</td>\n",
       "      <td>132008</td>\n",
       "      <td>H</td>\n",
       "    </tr>\n",
       "    <tr>\n",
       "      <th>5</th>\n",
       "      <td>Edgar Pons</td>\n",
       "      <td>Robótica</td>\n",
       "      <td>29</td>\n",
       "      <td>143620</td>\n",
       "      <td>H</td>\n",
       "    </tr>\n",
       "    <tr>\n",
       "      <th>6</th>\n",
       "      <td>s4vitar</td>\n",
       "      <td>Hacking</td>\n",
       "      <td>28</td>\n",
       "      <td>132567</td>\n",
       "      <td>H</td>\n",
       "    </tr>\n",
       "    <tr>\n",
       "      <th>7</th>\n",
       "      <td>batman</td>\n",
       "      <td>Hardware</td>\n",
       "      <td>30</td>\n",
       "      <td>130855</td>\n",
       "      <td>H</td>\n",
       "    </tr>\n",
       "    <tr>\n",
       "      <th>8</th>\n",
       "      <td>spiderman</td>\n",
       "      <td>Edición De Vídeo</td>\n",
       "      <td>29</td>\n",
       "      <td>114175</td>\n",
       "      <td>M</td>\n",
       "    </tr>\n",
       "    <tr>\n",
       "      <th>9</th>\n",
       "      <td>superman</td>\n",
       "      <td>Programación</td>\n",
       "      <td>31</td>\n",
       "      <td>142545</td>\n",
       "      <td>H</td>\n",
       "    </tr>\n",
       "    <tr>\n",
       "      <th>10</th>\n",
       "      <td>thor</td>\n",
       "      <td>Programación</td>\n",
       "      <td>31</td>\n",
       "      <td>149462</td>\n",
       "      <td>H</td>\n",
       "    </tr>\n",
       "    <tr>\n",
       "      <th>11</th>\n",
       "      <td>aironman</td>\n",
       "      <td>Sistemas Operativos</td>\n",
       "      <td>28</td>\n",
       "      <td>132008</td>\n",
       "      <td>H</td>\n",
       "    </tr>\n",
       "    <tr>\n",
       "      <th>12</th>\n",
       "      <td>hulk</td>\n",
       "      <td>Robótica</td>\n",
       "      <td>29</td>\n",
       "      <td>143620</td>\n",
       "      <td>H</td>\n",
       "    </tr>\n",
       "    <tr>\n",
       "      <th>13</th>\n",
       "      <td>loki</td>\n",
       "      <td>Hacking</td>\n",
       "      <td>28</td>\n",
       "      <td>132567</td>\n",
       "      <td>H</td>\n",
       "    </tr>\n",
       "  </tbody>\n",
       "</table>\n",
       "</div>"
      ],
      "text/plain": [
       "            nombre         especialidad  edad  visitas sexo\n",
       "0        SFDX Show             Hardware    30   130855    H\n",
       "1      Sara Nogark     Edición De Vídeo    29   114175    M\n",
       "2     Nate Gentile         Programación    31   142545    H\n",
       "3        Bettatech         Programación    31   149462    H\n",
       "4   Antonio Sarosi  Sistemas Operativos    28   132008    H\n",
       "5       Edgar Pons             Robótica    29   143620    H\n",
       "6          s4vitar              Hacking    28   132567    H\n",
       "7           batman             Hardware    30   130855    H\n",
       "8        spiderman     Edición De Vídeo    29   114175    M\n",
       "9         superman         Programación    31   142545    H\n",
       "10            thor         Programación    31   149462    H\n",
       "11        aironman  Sistemas Operativos    28   132008    H\n",
       "12            hulk             Robótica    29   143620    H\n",
       "13            loki              Hacking    28   132567    H"
      ]
     },
     "execution_count": 166,
     "metadata": {},
     "output_type": "execute_result"
    }
   ],
   "source": [
    "pd.concat([df, df_nuevo]).reset_index(drop=True)"
   ]
  },
  {
   "cell_type": "markdown",
   "id": "8a48d5aa",
   "metadata": {},
   "source": [
    "## df.where()"
   ]
  },
  {
   "cell_type": "code",
   "execution_count": 167,
   "id": "f9855311",
   "metadata": {},
   "outputs": [],
   "source": [
    "filtro1 = df['especialidad'] == 'Programación'\n",
    "filtro2 = df['visitas'] > 145000"
   ]
  },
  {
   "cell_type": "code",
   "execution_count": 168,
   "id": "f2e4e0ff",
   "metadata": {},
   "outputs": [
    {
     "data": {
      "text/html": [
       "<div>\n",
       "<style scoped>\n",
       "    .dataframe tbody tr th:only-of-type {\n",
       "        vertical-align: middle;\n",
       "    }\n",
       "\n",
       "    .dataframe tbody tr th {\n",
       "        vertical-align: top;\n",
       "    }\n",
       "\n",
       "    .dataframe thead th {\n",
       "        text-align: right;\n",
       "    }\n",
       "</style>\n",
       "<table border=\"1\" class=\"dataframe\">\n",
       "  <thead>\n",
       "    <tr style=\"text-align: right;\">\n",
       "      <th></th>\n",
       "      <th>nombre</th>\n",
       "      <th>especialidad</th>\n",
       "      <th>edad</th>\n",
       "      <th>visitas</th>\n",
       "      <th>sexo</th>\n",
       "    </tr>\n",
       "  </thead>\n",
       "  <tbody>\n",
       "    <tr>\n",
       "      <th>0</th>\n",
       "      <td>NaN</td>\n",
       "      <td>NaN</td>\n",
       "      <td>NaN</td>\n",
       "      <td>NaN</td>\n",
       "      <td>NaN</td>\n",
       "    </tr>\n",
       "    <tr>\n",
       "      <th>1</th>\n",
       "      <td>NaN</td>\n",
       "      <td>NaN</td>\n",
       "      <td>NaN</td>\n",
       "      <td>NaN</td>\n",
       "      <td>NaN</td>\n",
       "    </tr>\n",
       "    <tr>\n",
       "      <th>2</th>\n",
       "      <td>NaN</td>\n",
       "      <td>NaN</td>\n",
       "      <td>NaN</td>\n",
       "      <td>NaN</td>\n",
       "      <td>NaN</td>\n",
       "    </tr>\n",
       "    <tr>\n",
       "      <th>3</th>\n",
       "      <td>Bettatech</td>\n",
       "      <td>Programación</td>\n",
       "      <td>31.0</td>\n",
       "      <td>149462.0</td>\n",
       "      <td>H</td>\n",
       "    </tr>\n",
       "    <tr>\n",
       "      <th>4</th>\n",
       "      <td>NaN</td>\n",
       "      <td>NaN</td>\n",
       "      <td>NaN</td>\n",
       "      <td>NaN</td>\n",
       "      <td>NaN</td>\n",
       "    </tr>\n",
       "    <tr>\n",
       "      <th>5</th>\n",
       "      <td>NaN</td>\n",
       "      <td>NaN</td>\n",
       "      <td>NaN</td>\n",
       "      <td>NaN</td>\n",
       "      <td>NaN</td>\n",
       "    </tr>\n",
       "    <tr>\n",
       "      <th>6</th>\n",
       "      <td>NaN</td>\n",
       "      <td>NaN</td>\n",
       "      <td>NaN</td>\n",
       "      <td>NaN</td>\n",
       "      <td>NaN</td>\n",
       "    </tr>\n",
       "  </tbody>\n",
       "</table>\n",
       "</div>"
      ],
      "text/plain": [
       "      nombre  especialidad  edad   visitas sexo\n",
       "0        NaN           NaN   NaN       NaN  NaN\n",
       "1        NaN           NaN   NaN       NaN  NaN\n",
       "2        NaN           NaN   NaN       NaN  NaN\n",
       "3  Bettatech  Programación  31.0  149462.0    H\n",
       "4        NaN           NaN   NaN       NaN  NaN\n",
       "5        NaN           NaN   NaN       NaN  NaN\n",
       "6        NaN           NaN   NaN       NaN  NaN"
      ]
     },
     "execution_count": 168,
     "metadata": {},
     "output_type": "execute_result"
    }
   ],
   "source": [
    "df.where(filtro1 & filtro2)"
   ]
  },
  {
   "cell_type": "code",
   "execution_count": 169,
   "id": "525db2c0",
   "metadata": {},
   "outputs": [
    {
     "data": {
      "text/plain": [
       "3    Bettatech\n",
       "Name: nombre, dtype: object"
      ]
     },
     "execution_count": 169,
     "metadata": {},
     "output_type": "execute_result"
    }
   ],
   "source": [
    "df.where(filtro1 & filtro2).dropna().loc[:, 'nombre']"
   ]
  },
  {
   "cell_type": "markdown",
   "id": "2852e3db",
   "metadata": {},
   "source": [
    "## df.groupby()"
   ]
  },
  {
   "cell_type": "code",
   "execution_count": 170,
   "id": "f559761b",
   "metadata": {},
   "outputs": [
    {
     "data": {
      "text/html": [
       "<div>\n",
       "<style scoped>\n",
       "    .dataframe tbody tr th:only-of-type {\n",
       "        vertical-align: middle;\n",
       "    }\n",
       "\n",
       "    .dataframe tbody tr th {\n",
       "        vertical-align: top;\n",
       "    }\n",
       "\n",
       "    .dataframe thead th {\n",
       "        text-align: right;\n",
       "    }\n",
       "</style>\n",
       "<table border=\"1\" class=\"dataframe\">\n",
       "  <thead>\n",
       "    <tr style=\"text-align: right;\">\n",
       "      <th></th>\n",
       "      <th>nombre</th>\n",
       "      <th>especialidad</th>\n",
       "      <th>edad</th>\n",
       "      <th>visitas</th>\n",
       "      <th>sexo</th>\n",
       "    </tr>\n",
       "  </thead>\n",
       "  <tbody>\n",
       "    <tr>\n",
       "      <th>0</th>\n",
       "      <td>SFDX Show</td>\n",
       "      <td>Hardware</td>\n",
       "      <td>30</td>\n",
       "      <td>130855</td>\n",
       "      <td>H</td>\n",
       "    </tr>\n",
       "    <tr>\n",
       "      <th>1</th>\n",
       "      <td>Sara Nogark</td>\n",
       "      <td>Edición De Vídeo</td>\n",
       "      <td>29</td>\n",
       "      <td>114175</td>\n",
       "      <td>M</td>\n",
       "    </tr>\n",
       "    <tr>\n",
       "      <th>2</th>\n",
       "      <td>Nate Gentile</td>\n",
       "      <td>Programación</td>\n",
       "      <td>31</td>\n",
       "      <td>142545</td>\n",
       "      <td>H</td>\n",
       "    </tr>\n",
       "    <tr>\n",
       "      <th>3</th>\n",
       "      <td>Bettatech</td>\n",
       "      <td>Programación</td>\n",
       "      <td>31</td>\n",
       "      <td>149462</td>\n",
       "      <td>H</td>\n",
       "    </tr>\n",
       "    <tr>\n",
       "      <th>4</th>\n",
       "      <td>Antonio Sarosi</td>\n",
       "      <td>Sistemas Operativos</td>\n",
       "      <td>28</td>\n",
       "      <td>132008</td>\n",
       "      <td>H</td>\n",
       "    </tr>\n",
       "    <tr>\n",
       "      <th>5</th>\n",
       "      <td>Edgar Pons</td>\n",
       "      <td>Robótica</td>\n",
       "      <td>29</td>\n",
       "      <td>143620</td>\n",
       "      <td>H</td>\n",
       "    </tr>\n",
       "    <tr>\n",
       "      <th>6</th>\n",
       "      <td>s4vitar</td>\n",
       "      <td>Hacking</td>\n",
       "      <td>28</td>\n",
       "      <td>132567</td>\n",
       "      <td>H</td>\n",
       "    </tr>\n",
       "  </tbody>\n",
       "</table>\n",
       "</div>"
      ],
      "text/plain": [
       "           nombre         especialidad  edad  visitas sexo\n",
       "0       SFDX Show             Hardware    30   130855    H\n",
       "1     Sara Nogark     Edición De Vídeo    29   114175    M\n",
       "2    Nate Gentile         Programación    31   142545    H\n",
       "3       Bettatech         Programación    31   149462    H\n",
       "4  Antonio Sarosi  Sistemas Operativos    28   132008    H\n",
       "5      Edgar Pons             Robótica    29   143620    H\n",
       "6         s4vitar              Hacking    28   132567    H"
      ]
     },
     "execution_count": 170,
     "metadata": {},
     "output_type": "execute_result"
    }
   ],
   "source": [
    "df"
   ]
  },
  {
   "cell_type": "code",
   "execution_count": 171,
   "id": "bc42689e",
   "metadata": {},
   "outputs": [
    {
     "data": {
      "text/html": [
       "<div>\n",
       "<style scoped>\n",
       "    .dataframe tbody tr th:only-of-type {\n",
       "        vertical-align: middle;\n",
       "    }\n",
       "\n",
       "    .dataframe tbody tr th {\n",
       "        vertical-align: top;\n",
       "    }\n",
       "\n",
       "    .dataframe thead th {\n",
       "        text-align: right;\n",
       "    }\n",
       "</style>\n",
       "<table border=\"1\" class=\"dataframe\">\n",
       "  <thead>\n",
       "    <tr style=\"text-align: right;\">\n",
       "      <th></th>\n",
       "      <th>edad</th>\n",
       "      <th>visitas</th>\n",
       "    </tr>\n",
       "    <tr>\n",
       "      <th>especialidad</th>\n",
       "      <th></th>\n",
       "      <th></th>\n",
       "    </tr>\n",
       "  </thead>\n",
       "  <tbody>\n",
       "    <tr>\n",
       "      <th>Edición De Vídeo</th>\n",
       "      <td>29</td>\n",
       "      <td>114175</td>\n",
       "    </tr>\n",
       "    <tr>\n",
       "      <th>Hacking</th>\n",
       "      <td>28</td>\n",
       "      <td>132567</td>\n",
       "    </tr>\n",
       "    <tr>\n",
       "      <th>Hardware</th>\n",
       "      <td>30</td>\n",
       "      <td>130855</td>\n",
       "    </tr>\n",
       "    <tr>\n",
       "      <th>Programación</th>\n",
       "      <td>62</td>\n",
       "      <td>292007</td>\n",
       "    </tr>\n",
       "    <tr>\n",
       "      <th>Robótica</th>\n",
       "      <td>29</td>\n",
       "      <td>143620</td>\n",
       "    </tr>\n",
       "    <tr>\n",
       "      <th>Sistemas Operativos</th>\n",
       "      <td>28</td>\n",
       "      <td>132008</td>\n",
       "    </tr>\n",
       "  </tbody>\n",
       "</table>\n",
       "</div>"
      ],
      "text/plain": [
       "                     edad  visitas\n",
       "especialidad                      \n",
       "Edición De Vídeo       29   114175\n",
       "Hacking                28   132567\n",
       "Hardware               30   130855\n",
       "Programación           62   292007\n",
       "Robótica               29   143620\n",
       "Sistemas Operativos    28   132008"
      ]
     },
     "execution_count": 171,
     "metadata": {},
     "output_type": "execute_result"
    }
   ],
   "source": [
    "df.groupby('especialidad').sum()"
   ]
  },
  {
   "cell_type": "code",
   "execution_count": 172,
   "id": "0015de96",
   "metadata": {},
   "outputs": [
    {
     "data": {
      "text/html": [
       "<div>\n",
       "<style scoped>\n",
       "    .dataframe tbody tr th:only-of-type {\n",
       "        vertical-align: middle;\n",
       "    }\n",
       "\n",
       "    .dataframe tbody tr th {\n",
       "        vertical-align: top;\n",
       "    }\n",
       "\n",
       "    .dataframe thead th {\n",
       "        text-align: right;\n",
       "    }\n",
       "</style>\n",
       "<table border=\"1\" class=\"dataframe\">\n",
       "  <thead>\n",
       "    <tr style=\"text-align: right;\">\n",
       "      <th></th>\n",
       "      <th>nombre</th>\n",
       "      <th>especialidad</th>\n",
       "      <th>edad</th>\n",
       "      <th>visitas</th>\n",
       "    </tr>\n",
       "    <tr>\n",
       "      <th>sexo</th>\n",
       "      <th></th>\n",
       "      <th></th>\n",
       "      <th></th>\n",
       "      <th></th>\n",
       "    </tr>\n",
       "  </thead>\n",
       "  <tbody>\n",
       "    <tr>\n",
       "      <th>H</th>\n",
       "      <td>s4vitar</td>\n",
       "      <td>Sistemas Operativos</td>\n",
       "      <td>31</td>\n",
       "      <td>149462</td>\n",
       "    </tr>\n",
       "    <tr>\n",
       "      <th>M</th>\n",
       "      <td>Sara Nogark</td>\n",
       "      <td>Edición De Vídeo</td>\n",
       "      <td>29</td>\n",
       "      <td>114175</td>\n",
       "    </tr>\n",
       "  </tbody>\n",
       "</table>\n",
       "</div>"
      ],
      "text/plain": [
       "           nombre         especialidad  edad  visitas\n",
       "sexo                                                 \n",
       "H         s4vitar  Sistemas Operativos    31   149462\n",
       "M     Sara Nogark     Edición De Vídeo    29   114175"
      ]
     },
     "execution_count": 172,
     "metadata": {},
     "output_type": "execute_result"
    }
   ],
   "source": [
    "df.groupby('sexo').max()"
   ]
  },
  {
   "cell_type": "code",
   "execution_count": 173,
   "id": "37fbd772",
   "metadata": {},
   "outputs": [
    {
     "data": {
      "text/html": [
       "<div>\n",
       "<style scoped>\n",
       "    .dataframe tbody tr th:only-of-type {\n",
       "        vertical-align: middle;\n",
       "    }\n",
       "\n",
       "    .dataframe tbody tr th {\n",
       "        vertical-align: top;\n",
       "    }\n",
       "\n",
       "    .dataframe thead th {\n",
       "        text-align: right;\n",
       "    }\n",
       "</style>\n",
       "<table border=\"1\" class=\"dataframe\">\n",
       "  <thead>\n",
       "    <tr style=\"text-align: right;\">\n",
       "      <th></th>\n",
       "      <th></th>\n",
       "      <th>nombre</th>\n",
       "      <th>edad</th>\n",
       "      <th>visitas</th>\n",
       "    </tr>\n",
       "    <tr>\n",
       "      <th>sexo</th>\n",
       "      <th>especialidad</th>\n",
       "      <th></th>\n",
       "      <th></th>\n",
       "      <th></th>\n",
       "    </tr>\n",
       "  </thead>\n",
       "  <tbody>\n",
       "    <tr>\n",
       "      <th rowspan=\"5\" valign=\"top\">H</th>\n",
       "      <th>Hacking</th>\n",
       "      <td>s4vitar</td>\n",
       "      <td>28</td>\n",
       "      <td>132567</td>\n",
       "    </tr>\n",
       "    <tr>\n",
       "      <th>Hardware</th>\n",
       "      <td>SFDX Show</td>\n",
       "      <td>30</td>\n",
       "      <td>130855</td>\n",
       "    </tr>\n",
       "    <tr>\n",
       "      <th>Programación</th>\n",
       "      <td>Nate Gentile</td>\n",
       "      <td>31</td>\n",
       "      <td>149462</td>\n",
       "    </tr>\n",
       "    <tr>\n",
       "      <th>Robótica</th>\n",
       "      <td>Edgar Pons</td>\n",
       "      <td>29</td>\n",
       "      <td>143620</td>\n",
       "    </tr>\n",
       "    <tr>\n",
       "      <th>Sistemas Operativos</th>\n",
       "      <td>Antonio Sarosi</td>\n",
       "      <td>28</td>\n",
       "      <td>132008</td>\n",
       "    </tr>\n",
       "    <tr>\n",
       "      <th>M</th>\n",
       "      <th>Edición De Vídeo</th>\n",
       "      <td>Sara Nogark</td>\n",
       "      <td>29</td>\n",
       "      <td>114175</td>\n",
       "    </tr>\n",
       "  </tbody>\n",
       "</table>\n",
       "</div>"
      ],
      "text/plain": [
       "                                  nombre  edad  visitas\n",
       "sexo especialidad                                      \n",
       "H    Hacking                     s4vitar    28   132567\n",
       "     Hardware                  SFDX Show    30   130855\n",
       "     Programación           Nate Gentile    31   149462\n",
       "     Robótica                 Edgar Pons    29   143620\n",
       "     Sistemas Operativos  Antonio Sarosi    28   132008\n",
       "M    Edición De Vídeo        Sara Nogark    29   114175"
      ]
     },
     "execution_count": 173,
     "metadata": {},
     "output_type": "execute_result"
    }
   ],
   "source": [
    "df.groupby(['sexo', 'especialidad']).max()"
   ]
  },
  {
   "cell_type": "markdown",
   "id": "811b2237",
   "metadata": {},
   "source": [
    "## pd.pivot_table()"
   ]
  },
  {
   "cell_type": "code",
   "execution_count": 174,
   "id": "6d34885b",
   "metadata": {},
   "outputs": [
    {
     "data": {
      "text/html": [
       "<div>\n",
       "<style scoped>\n",
       "    .dataframe tbody tr th:only-of-type {\n",
       "        vertical-align: middle;\n",
       "    }\n",
       "\n",
       "    .dataframe tbody tr th {\n",
       "        vertical-align: top;\n",
       "    }\n",
       "\n",
       "    .dataframe thead tr th {\n",
       "        text-align: left;\n",
       "    }\n",
       "\n",
       "    .dataframe thead tr:last-of-type th {\n",
       "        text-align: right;\n",
       "    }\n",
       "</style>\n",
       "<table border=\"1\" class=\"dataframe\">\n",
       "  <thead>\n",
       "    <tr>\n",
       "      <th></th>\n",
       "      <th colspan=\"4\" halign=\"left\">visitas</th>\n",
       "    </tr>\n",
       "    <tr>\n",
       "      <th>edad</th>\n",
       "      <th>28</th>\n",
       "      <th>29</th>\n",
       "      <th>30</th>\n",
       "      <th>31</th>\n",
       "    </tr>\n",
       "    <tr>\n",
       "      <th>sexo</th>\n",
       "      <th></th>\n",
       "      <th></th>\n",
       "      <th></th>\n",
       "      <th></th>\n",
       "    </tr>\n",
       "  </thead>\n",
       "  <tbody>\n",
       "    <tr>\n",
       "      <th>H</th>\n",
       "      <td>132287.5</td>\n",
       "      <td>143620.0</td>\n",
       "      <td>130855.0</td>\n",
       "      <td>146003.5</td>\n",
       "    </tr>\n",
       "    <tr>\n",
       "      <th>M</th>\n",
       "      <td>NaN</td>\n",
       "      <td>114175.0</td>\n",
       "      <td>NaN</td>\n",
       "      <td>NaN</td>\n",
       "    </tr>\n",
       "  </tbody>\n",
       "</table>\n",
       "</div>"
      ],
      "text/plain": [
       "       visitas                              \n",
       "edad        28        29        30        31\n",
       "sexo                                        \n",
       "H     132287.5  143620.0  130855.0  146003.5\n",
       "M          NaN  114175.0       NaN       NaN"
      ]
     },
     "execution_count": 174,
     "metadata": {},
     "output_type": "execute_result"
    }
   ],
   "source": [
    "pd.pivot_table(df, \n",
    "               index='sexo', \n",
    "               columns='edad')"
   ]
  },
  {
   "cell_type": "code",
   "execution_count": 175,
   "id": "224b39c4",
   "metadata": {},
   "outputs": [
    {
     "data": {
      "text/html": [
       "<div>\n",
       "<style scoped>\n",
       "    .dataframe tbody tr th:only-of-type {\n",
       "        vertical-align: middle;\n",
       "    }\n",
       "\n",
       "    .dataframe tbody tr th {\n",
       "        vertical-align: top;\n",
       "    }\n",
       "\n",
       "    .dataframe thead tr th {\n",
       "        text-align: left;\n",
       "    }\n",
       "\n",
       "    .dataframe thead tr:last-of-type th {\n",
       "        text-align: right;\n",
       "    }\n",
       "</style>\n",
       "<table border=\"1\" class=\"dataframe\">\n",
       "  <thead>\n",
       "    <tr>\n",
       "      <th></th>\n",
       "      <th colspan=\"4\" halign=\"left\">visitas</th>\n",
       "    </tr>\n",
       "    <tr>\n",
       "      <th>edad</th>\n",
       "      <th>28</th>\n",
       "      <th>29</th>\n",
       "      <th>30</th>\n",
       "      <th>31</th>\n",
       "    </tr>\n",
       "    <tr>\n",
       "      <th>sexo</th>\n",
       "      <th></th>\n",
       "      <th></th>\n",
       "      <th></th>\n",
       "      <th></th>\n",
       "    </tr>\n",
       "  </thead>\n",
       "  <tbody>\n",
       "    <tr>\n",
       "      <th>H</th>\n",
       "      <td>264575.0</td>\n",
       "      <td>143620.0</td>\n",
       "      <td>130855.0</td>\n",
       "      <td>292007.0</td>\n",
       "    </tr>\n",
       "    <tr>\n",
       "      <th>M</th>\n",
       "      <td>NaN</td>\n",
       "      <td>114175.0</td>\n",
       "      <td>NaN</td>\n",
       "      <td>NaN</td>\n",
       "    </tr>\n",
       "  </tbody>\n",
       "</table>\n",
       "</div>"
      ],
      "text/plain": [
       "       visitas                              \n",
       "edad        28        29        30        31\n",
       "sexo                                        \n",
       "H     264575.0  143620.0  130855.0  292007.0\n",
       "M          NaN  114175.0       NaN       NaN"
      ]
     },
     "execution_count": 175,
     "metadata": {},
     "output_type": "execute_result"
    }
   ],
   "source": [
    "pd.pivot_table(df, \n",
    "               index='sexo', \n",
    "               columns='edad', \n",
    "               aggfunc=np.sum)"
   ]
  },
  {
   "cell_type": "code",
   "execution_count": 176,
   "id": "e41f8f2f",
   "metadata": {},
   "outputs": [
    {
     "data": {
      "text/html": [
       "<div>\n",
       "<style scoped>\n",
       "    .dataframe tbody tr th:only-of-type {\n",
       "        vertical-align: middle;\n",
       "    }\n",
       "\n",
       "    .dataframe tbody tr th {\n",
       "        vertical-align: top;\n",
       "    }\n",
       "\n",
       "    .dataframe thead tr th {\n",
       "        text-align: left;\n",
       "    }\n",
       "\n",
       "    .dataframe thead tr:last-of-type th {\n",
       "        text-align: right;\n",
       "    }\n",
       "</style>\n",
       "<table border=\"1\" class=\"dataframe\">\n",
       "  <thead>\n",
       "    <tr>\n",
       "      <th></th>\n",
       "      <th colspan=\"6\" halign=\"left\">nombre</th>\n",
       "    </tr>\n",
       "    <tr>\n",
       "      <th>especialidad</th>\n",
       "      <th>Edición De Vídeo</th>\n",
       "      <th>Hacking</th>\n",
       "      <th>Hardware</th>\n",
       "      <th>Programación</th>\n",
       "      <th>Robótica</th>\n",
       "      <th>Sistemas Operativos</th>\n",
       "    </tr>\n",
       "    <tr>\n",
       "      <th>sexo</th>\n",
       "      <th></th>\n",
       "      <th></th>\n",
       "      <th></th>\n",
       "      <th></th>\n",
       "      <th></th>\n",
       "      <th></th>\n",
       "    </tr>\n",
       "  </thead>\n",
       "  <tbody>\n",
       "    <tr>\n",
       "      <th>H</th>\n",
       "      <td>NaN</td>\n",
       "      <td>s4vitar</td>\n",
       "      <td>SFDX Show</td>\n",
       "      <td>Nate Gentile</td>\n",
       "      <td>Edgar Pons</td>\n",
       "      <td>Antonio Sarosi</td>\n",
       "    </tr>\n",
       "    <tr>\n",
       "      <th>M</th>\n",
       "      <td>Sara Nogark</td>\n",
       "      <td>NaN</td>\n",
       "      <td>NaN</td>\n",
       "      <td>NaN</td>\n",
       "      <td>NaN</td>\n",
       "      <td>NaN</td>\n",
       "    </tr>\n",
       "  </tbody>\n",
       "</table>\n",
       "</div>"
      ],
      "text/plain": [
       "                       nombre                                                \\\n",
       "especialidad Edición De Vídeo  Hacking   Hardware  Programación    Robótica   \n",
       "sexo                                                                          \n",
       "H                         NaN  s4vitar  SFDX Show  Nate Gentile  Edgar Pons   \n",
       "M                 Sara Nogark      NaN        NaN           NaN         NaN   \n",
       "\n",
       "                                  \n",
       "especialidad Sistemas Operativos  \n",
       "sexo                              \n",
       "H                 Antonio Sarosi  \n",
       "M                            NaN  "
      ]
     },
     "execution_count": 176,
     "metadata": {},
     "output_type": "execute_result"
    }
   ],
   "source": [
    "pd.pivot_table(df, \n",
    "               index=['sexo'], \n",
    "               values=['nombre'], \n",
    "               columns=['especialidad'], \n",
    "               aggfunc=np.max)"
   ]
  },
  {
   "cell_type": "markdown",
   "id": "dd0500a7",
   "metadata": {},
   "source": [
    "# Fechas"
   ]
  },
  {
   "cell_type": "markdown",
   "id": "d492888d",
   "metadata": {},
   "source": [
    "## Creando fechas"
   ]
  },
  {
   "cell_type": "code",
   "execution_count": 177,
   "id": "63527d60",
   "metadata": {},
   "outputs": [
    {
     "data": {
      "text/html": [
       "<div>\n",
       "<style scoped>\n",
       "    .dataframe tbody tr th:only-of-type {\n",
       "        vertical-align: middle;\n",
       "    }\n",
       "\n",
       "    .dataframe tbody tr th {\n",
       "        vertical-align: top;\n",
       "    }\n",
       "\n",
       "    .dataframe thead th {\n",
       "        text-align: right;\n",
       "    }\n",
       "</style>\n",
       "<table border=\"1\" class=\"dataframe\">\n",
       "  <thead>\n",
       "    <tr style=\"text-align: right;\">\n",
       "      <th></th>\n",
       "      <th>nombre</th>\n",
       "      <th>especialidad</th>\n",
       "      <th>edad</th>\n",
       "      <th>visitas</th>\n",
       "      <th>sexo</th>\n",
       "    </tr>\n",
       "  </thead>\n",
       "  <tbody>\n",
       "    <tr>\n",
       "      <th>0</th>\n",
       "      <td>SFDX Show</td>\n",
       "      <td>Hardware</td>\n",
       "      <td>30</td>\n",
       "      <td>130855</td>\n",
       "      <td>H</td>\n",
       "    </tr>\n",
       "    <tr>\n",
       "      <th>1</th>\n",
       "      <td>Sara Nogark</td>\n",
       "      <td>Edición De Vídeo</td>\n",
       "      <td>29</td>\n",
       "      <td>114175</td>\n",
       "      <td>M</td>\n",
       "    </tr>\n",
       "    <tr>\n",
       "      <th>2</th>\n",
       "      <td>Nate Gentile</td>\n",
       "      <td>Programación</td>\n",
       "      <td>31</td>\n",
       "      <td>142545</td>\n",
       "      <td>H</td>\n",
       "    </tr>\n",
       "    <tr>\n",
       "      <th>3</th>\n",
       "      <td>Bettatech</td>\n",
       "      <td>Programación</td>\n",
       "      <td>31</td>\n",
       "      <td>149462</td>\n",
       "      <td>H</td>\n",
       "    </tr>\n",
       "    <tr>\n",
       "      <th>4</th>\n",
       "      <td>Antonio Sarosi</td>\n",
       "      <td>Sistemas Operativos</td>\n",
       "      <td>28</td>\n",
       "      <td>132008</td>\n",
       "      <td>H</td>\n",
       "    </tr>\n",
       "    <tr>\n",
       "      <th>5</th>\n",
       "      <td>Edgar Pons</td>\n",
       "      <td>Robótica</td>\n",
       "      <td>29</td>\n",
       "      <td>143620</td>\n",
       "      <td>H</td>\n",
       "    </tr>\n",
       "    <tr>\n",
       "      <th>6</th>\n",
       "      <td>s4vitar</td>\n",
       "      <td>Hacking</td>\n",
       "      <td>28</td>\n",
       "      <td>132567</td>\n",
       "      <td>H</td>\n",
       "    </tr>\n",
       "  </tbody>\n",
       "</table>\n",
       "</div>"
      ],
      "text/plain": [
       "           nombre         especialidad  edad  visitas sexo\n",
       "0       SFDX Show             Hardware    30   130855    H\n",
       "1     Sara Nogark     Edición De Vídeo    29   114175    M\n",
       "2    Nate Gentile         Programación    31   142545    H\n",
       "3       Bettatech         Programación    31   149462    H\n",
       "4  Antonio Sarosi  Sistemas Operativos    28   132008    H\n",
       "5      Edgar Pons             Robótica    29   143620    H\n",
       "6         s4vitar              Hacking    28   132567    H"
      ]
     },
     "execution_count": 177,
     "metadata": {},
     "output_type": "execute_result"
    }
   ],
   "source": [
    "df"
   ]
  },
  {
   "cell_type": "code",
   "execution_count": 178,
   "id": "e288752e",
   "metadata": {},
   "outputs": [
    {
     "data": {
      "text/plain": [
       "7"
      ]
     },
     "execution_count": 178,
     "metadata": {},
     "output_type": "execute_result"
    }
   ],
   "source": [
    "len(df)"
   ]
  },
  {
   "cell_type": "code",
   "execution_count": 179,
   "id": "7a47ca47",
   "metadata": {},
   "outputs": [],
   "source": [
    "fecha = pd.date_range(start= '1 January 2021', \n",
    "                      end= '1 July 2021', \n",
    "                      freq= 'MS')"
   ]
  },
  {
   "cell_type": "code",
   "execution_count": 180,
   "id": "18af0d70",
   "metadata": {},
   "outputs": [
    {
     "data": {
      "text/plain": [
       "False"
      ]
     },
     "execution_count": 180,
     "metadata": {},
     "output_type": "execute_result"
    }
   ],
   "source": [
    "'2021/01/01' == fecha[0]"
   ]
  },
  {
   "cell_type": "code",
   "execution_count": 181,
   "id": "9baeb572",
   "metadata": {},
   "outputs": [
    {
     "data": {
      "text/plain": [
       "Timestamp('2021-01-01 00:00:00', freq='MS')"
      ]
     },
     "execution_count": 181,
     "metadata": {},
     "output_type": "execute_result"
    }
   ],
   "source": [
    "fecha[0]"
   ]
  },
  {
   "cell_type": "code",
   "execution_count": 182,
   "id": "20960ed6",
   "metadata": {
    "scrolled": true
   },
   "outputs": [
    {
     "data": {
      "text/plain": [
       "DatetimeIndex(['2021-01-01', '2021-02-01', '2021-03-01', '2021-04-01',\n",
       "               '2021-05-01', '2021-06-01', '2021-07-01'],\n",
       "              dtype='datetime64[ns]', freq='MS')"
      ]
     },
     "execution_count": 182,
     "metadata": {},
     "output_type": "execute_result"
    }
   ],
   "source": [
    "fecha"
   ]
  },
  {
   "cell_type": "code",
   "execution_count": 183,
   "id": "02b61471",
   "metadata": {},
   "outputs": [],
   "source": [
    "df.set_index(pd.DatetimeIndex(fecha), \n",
    "             inplace=True)"
   ]
  },
  {
   "cell_type": "code",
   "execution_count": 184,
   "id": "2177bd66",
   "metadata": {},
   "outputs": [
    {
     "name": "stdout",
     "output_type": "stream",
     "text": [
      "<class 'pandas.core.frame.DataFrame'>\n",
      "DatetimeIndex: 7 entries, 2021-01-01 to 2021-07-01\n",
      "Freq: MS\n",
      "Data columns (total 5 columns):\n",
      " #   Column        Non-Null Count  Dtype \n",
      "---  ------        --------------  ----- \n",
      " 0   nombre        7 non-null      object\n",
      " 1   especialidad  7 non-null      object\n",
      " 2   edad          7 non-null      int64 \n",
      " 3   visitas       7 non-null      int64 \n",
      " 4   sexo          7 non-null      object\n",
      "dtypes: int64(2), object(3)\n",
      "memory usage: 336.0+ bytes\n"
     ]
    }
   ],
   "source": [
    "df.info()"
   ]
  },
  {
   "cell_type": "code",
   "execution_count": 185,
   "id": "4480c9f7",
   "metadata": {},
   "outputs": [
    {
     "data": {
      "text/html": [
       "<div>\n",
       "<style scoped>\n",
       "    .dataframe tbody tr th:only-of-type {\n",
       "        vertical-align: middle;\n",
       "    }\n",
       "\n",
       "    .dataframe tbody tr th {\n",
       "        vertical-align: top;\n",
       "    }\n",
       "\n",
       "    .dataframe thead th {\n",
       "        text-align: right;\n",
       "    }\n",
       "</style>\n",
       "<table border=\"1\" class=\"dataframe\">\n",
       "  <thead>\n",
       "    <tr style=\"text-align: right;\">\n",
       "      <th></th>\n",
       "      <th>nombre</th>\n",
       "      <th>especialidad</th>\n",
       "      <th>edad</th>\n",
       "      <th>visitas</th>\n",
       "      <th>sexo</th>\n",
       "    </tr>\n",
       "  </thead>\n",
       "  <tbody>\n",
       "    <tr>\n",
       "      <th>2021-01-01</th>\n",
       "      <td>SFDX Show</td>\n",
       "      <td>Hardware</td>\n",
       "      <td>30</td>\n",
       "      <td>130855</td>\n",
       "      <td>H</td>\n",
       "    </tr>\n",
       "    <tr>\n",
       "      <th>2021-02-01</th>\n",
       "      <td>Sara Nogark</td>\n",
       "      <td>Edición De Vídeo</td>\n",
       "      <td>29</td>\n",
       "      <td>114175</td>\n",
       "      <td>M</td>\n",
       "    </tr>\n",
       "    <tr>\n",
       "      <th>2021-03-01</th>\n",
       "      <td>Nate Gentile</td>\n",
       "      <td>Programación</td>\n",
       "      <td>31</td>\n",
       "      <td>142545</td>\n",
       "      <td>H</td>\n",
       "    </tr>\n",
       "    <tr>\n",
       "      <th>2021-04-01</th>\n",
       "      <td>Bettatech</td>\n",
       "      <td>Programación</td>\n",
       "      <td>31</td>\n",
       "      <td>149462</td>\n",
       "      <td>H</td>\n",
       "    </tr>\n",
       "    <tr>\n",
       "      <th>2021-05-01</th>\n",
       "      <td>Antonio Sarosi</td>\n",
       "      <td>Sistemas Operativos</td>\n",
       "      <td>28</td>\n",
       "      <td>132008</td>\n",
       "      <td>H</td>\n",
       "    </tr>\n",
       "    <tr>\n",
       "      <th>2021-06-01</th>\n",
       "      <td>Edgar Pons</td>\n",
       "      <td>Robótica</td>\n",
       "      <td>29</td>\n",
       "      <td>143620</td>\n",
       "      <td>H</td>\n",
       "    </tr>\n",
       "    <tr>\n",
       "      <th>2021-07-01</th>\n",
       "      <td>s4vitar</td>\n",
       "      <td>Hacking</td>\n",
       "      <td>28</td>\n",
       "      <td>132567</td>\n",
       "      <td>H</td>\n",
       "    </tr>\n",
       "  </tbody>\n",
       "</table>\n",
       "</div>"
      ],
      "text/plain": [
       "                    nombre         especialidad  edad  visitas sexo\n",
       "2021-01-01       SFDX Show             Hardware    30   130855    H\n",
       "2021-02-01     Sara Nogark     Edición De Vídeo    29   114175    M\n",
       "2021-03-01    Nate Gentile         Programación    31   142545    H\n",
       "2021-04-01       Bettatech         Programación    31   149462    H\n",
       "2021-05-01  Antonio Sarosi  Sistemas Operativos    28   132008    H\n",
       "2021-06-01      Edgar Pons             Robótica    29   143620    H\n",
       "2021-07-01         s4vitar              Hacking    28   132567    H"
      ]
     },
     "execution_count": 185,
     "metadata": {},
     "output_type": "execute_result"
    }
   ],
   "source": [
    "df"
   ]
  },
  {
   "cell_type": "code",
   "execution_count": 186,
   "id": "3d75b29b",
   "metadata": {},
   "outputs": [
    {
     "data": {
      "text/plain": [
       "DatetimeIndex(['2021-01-01', '2021-02-01', '2021-03-01', '2021-04-01',\n",
       "               '2021-05-01', '2021-06-01', '2021-07-01'],\n",
       "              dtype='datetime64[ns]', freq='MS')"
      ]
     },
     "execution_count": 186,
     "metadata": {},
     "output_type": "execute_result"
    }
   ],
   "source": [
    "df.index"
   ]
  },
  {
   "cell_type": "code",
   "execution_count": 187,
   "id": "534addc3",
   "metadata": {},
   "outputs": [],
   "source": [
    "formato = '%d/%m/%Y'"
   ]
  },
  {
   "cell_type": "code",
   "execution_count": 188,
   "id": "86d3eb3b",
   "metadata": {},
   "outputs": [
    {
     "data": {
      "text/plain": [
       "Index(['01/01/2021', '01/02/2021', '01/03/2021', '01/04/2021', '01/05/2021',\n",
       "       '01/06/2021', '01/07/2021'],\n",
       "      dtype='object')"
      ]
     },
     "execution_count": 188,
     "metadata": {},
     "output_type": "execute_result"
    }
   ],
   "source": [
    "df.index.strftime(formato)"
   ]
  },
  {
   "cell_type": "code",
   "execution_count": 189,
   "id": "46e64fdc",
   "metadata": {},
   "outputs": [],
   "source": [
    "df.index = df.index.strftime(formato)"
   ]
  },
  {
   "cell_type": "code",
   "execution_count": 190,
   "id": "7a2b0a96",
   "metadata": {},
   "outputs": [
    {
     "data": {
      "text/html": [
       "<div>\n",
       "<style scoped>\n",
       "    .dataframe tbody tr th:only-of-type {\n",
       "        vertical-align: middle;\n",
       "    }\n",
       "\n",
       "    .dataframe tbody tr th {\n",
       "        vertical-align: top;\n",
       "    }\n",
       "\n",
       "    .dataframe thead th {\n",
       "        text-align: right;\n",
       "    }\n",
       "</style>\n",
       "<table border=\"1\" class=\"dataframe\">\n",
       "  <thead>\n",
       "    <tr style=\"text-align: right;\">\n",
       "      <th></th>\n",
       "      <th>nombre</th>\n",
       "      <th>especialidad</th>\n",
       "      <th>edad</th>\n",
       "      <th>visitas</th>\n",
       "      <th>sexo</th>\n",
       "    </tr>\n",
       "  </thead>\n",
       "  <tbody>\n",
       "    <tr>\n",
       "      <th>01/01/2021</th>\n",
       "      <td>SFDX Show</td>\n",
       "      <td>Hardware</td>\n",
       "      <td>30</td>\n",
       "      <td>130855</td>\n",
       "      <td>H</td>\n",
       "    </tr>\n",
       "    <tr>\n",
       "      <th>01/02/2021</th>\n",
       "      <td>Sara Nogark</td>\n",
       "      <td>Edición De Vídeo</td>\n",
       "      <td>29</td>\n",
       "      <td>114175</td>\n",
       "      <td>M</td>\n",
       "    </tr>\n",
       "    <tr>\n",
       "      <th>01/03/2021</th>\n",
       "      <td>Nate Gentile</td>\n",
       "      <td>Programación</td>\n",
       "      <td>31</td>\n",
       "      <td>142545</td>\n",
       "      <td>H</td>\n",
       "    </tr>\n",
       "    <tr>\n",
       "      <th>01/04/2021</th>\n",
       "      <td>Bettatech</td>\n",
       "      <td>Programación</td>\n",
       "      <td>31</td>\n",
       "      <td>149462</td>\n",
       "      <td>H</td>\n",
       "    </tr>\n",
       "    <tr>\n",
       "      <th>01/05/2021</th>\n",
       "      <td>Antonio Sarosi</td>\n",
       "      <td>Sistemas Operativos</td>\n",
       "      <td>28</td>\n",
       "      <td>132008</td>\n",
       "      <td>H</td>\n",
       "    </tr>\n",
       "    <tr>\n",
       "      <th>01/06/2021</th>\n",
       "      <td>Edgar Pons</td>\n",
       "      <td>Robótica</td>\n",
       "      <td>29</td>\n",
       "      <td>143620</td>\n",
       "      <td>H</td>\n",
       "    </tr>\n",
       "    <tr>\n",
       "      <th>01/07/2021</th>\n",
       "      <td>s4vitar</td>\n",
       "      <td>Hacking</td>\n",
       "      <td>28</td>\n",
       "      <td>132567</td>\n",
       "      <td>H</td>\n",
       "    </tr>\n",
       "  </tbody>\n",
       "</table>\n",
       "</div>"
      ],
      "text/plain": [
       "                    nombre         especialidad  edad  visitas sexo\n",
       "01/01/2021       SFDX Show             Hardware    30   130855    H\n",
       "01/02/2021     Sara Nogark     Edición De Vídeo    29   114175    M\n",
       "01/03/2021    Nate Gentile         Programación    31   142545    H\n",
       "01/04/2021       Bettatech         Programación    31   149462    H\n",
       "01/05/2021  Antonio Sarosi  Sistemas Operativos    28   132008    H\n",
       "01/06/2021      Edgar Pons             Robótica    29   143620    H\n",
       "01/07/2021         s4vitar              Hacking    28   132567    H"
      ]
     },
     "execution_count": 190,
     "metadata": {},
     "output_type": "execute_result"
    }
   ],
   "source": [
    "df"
   ]
  }
 ],
 "metadata": {
  "kernelspec": {
   "display_name": "Python 3 (ipykernel)",
   "language": "python",
   "name": "python3"
  },
  "language_info": {
   "codemirror_mode": {
    "name": "ipython",
    "version": 3
   },
   "file_extension": ".py",
   "mimetype": "text/x-python",
   "name": "python",
   "nbconvert_exporter": "python",
   "pygments_lexer": "ipython3",
   "version": "3.9.12"
  },
  "toc": {
   "base_numbering": 1,
   "nav_menu": {},
   "number_sections": true,
   "sideBar": true,
   "skip_h1_title": false,
   "title_cell": "Table of Contents",
   "title_sidebar": "Contents",
   "toc_cell": false,
   "toc_position": {
    "height": "calc(100% - 180px)",
    "left": "10px",
    "top": "150px",
    "width": "312.398px"
   },
   "toc_section_display": true,
   "toc_window_display": true
  }
 },
 "nbformat": 4,
 "nbformat_minor": 5
}
