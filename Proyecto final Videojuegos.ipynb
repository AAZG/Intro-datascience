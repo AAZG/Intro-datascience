{
 "cells": [
  {
   "cell_type": "markdown",
   "source": "![](https://import.cdn.thinkific.com/220744/BExaQBPPQairRWFqxFbK_logo_mastermind_web_png)",
   "metadata": {
    "cell_id": "62975dbc-cb9b-468b-8726-2b8da56aea35",
    "deepnote_cell_type": "markdown"
   }
  },
  {
   "cell_type": "markdown",
   "source": "¡Ahora es **vuestro turno!**\n\nEn este proyecto final os he adjuntado un Dataset con 27.075 juegos en **Steam**, la popular plataforma de juegos de PC. Esta lista está actualizada desde el inicio hasta Abril de 2019.\n\nYa que tenéis los conocimientos, os pediré que me contestéis a **10 preguntas**:\n1. Cual es el TOP10 de juegos más jugados?\n2. Cuál es el género de videojuegos más vendido?\n3. Qué géneros tienen mejores reviews de media?\n4. Cuánto ha ganado el desarrollador que más juegos ha vendido?\n5. Cómo afecta a las reviews que un juego sea Early Access?\n6. Cuál es el desarrollador (o desarrolladores) que más tipos de juego y cantidad ha desarrollado?\n7. En qué mes, desde que tenemos datos, se han publicado más juegos?\n8. Cuántas horas se juega de media a cada tipo de juego mensualmente?\n9. Los juegos Free to Play tienen mejores o peores reviews?\n10. Cómo ha evolucionado el número de achievements (trofeos) por juego?\n\nOs dejamos via libre para contestar a estas preguntas como más os apetezca. Recordad que no hay nada de malo en consultar por internet si tenéis dudas. Las documentaciones oficiales o [Stack Overflow](https://stackoverflow.com/) son sitios geniales para ello!\n\nAl acabar este proyecto, publicadlo en el foro donde está colgado para ver quién es el mejor!\n\nOs dejo la guía de pasos a seguir.\n\nMuchos ánimos!!\n\n\n",
   "metadata": {
    "cell_id": "00001-4fb76d57-c0f5-415b-91d7-f1bbc2ae7209",
    "deepnote_cell_type": "markdown"
   }
  },
  {
   "cell_type": "markdown",
   "source": "# Importando librerías",
   "metadata": {
    "cell_id": "00002-e948b9b8-736d-4382-b6c3-ef84a4996aa8",
    "deepnote_cell_type": "markdown"
   }
  },
  {
   "cell_type": "code",
   "metadata": {
    "cell_id": "00003-d583d585-6702-4daa-ace3-775c35495a80",
    "deepnote_cell_type": "code"
   },
   "source": "https://www.kaggle.com/datasets/nikdavis/steam-store-games?select=steam.csv\nhttps://www.kaggle.com/datasets/trolukovich/steam-games-complete-dataset",
   "execution_count": null,
   "outputs": []
  },
  {
   "cell_type": "markdown",
   "source": "# Consiguiendo los datos",
   "metadata": {
    "cell_id": "00004-eae96dcd-7d67-49ba-9761-fa68160a342d",
    "deepnote_cell_type": "markdown"
   }
  },
  {
   "cell_type": "markdown",
   "source": "### Conseguir link",
   "metadata": {
    "cell_id": "00005-235ae904-3e0e-48cd-94c6-65f8ae2a5d5f",
    "deepnote_cell_type": "markdown"
   }
  },
  {
   "cell_type": "code",
   "metadata": {
    "cell_id": "00006-944ff160-2e8b-4e3d-8c7a-aed5eff5131c",
    "deepnote_cell_type": "code"
   },
   "source": "",
   "execution_count": null,
   "outputs": []
  },
  {
   "cell_type": "markdown",
   "source": "### Descargar el archivo",
   "metadata": {
    "cell_id": "00007-2d872bce-989c-465f-b82a-7a3487c35de3",
    "deepnote_cell_type": "markdown"
   }
  },
  {
   "cell_type": "code",
   "metadata": {
    "cell_id": "00008-5545db08-d054-433c-b71d-3833b1cfbc00",
    "deepnote_cell_type": "code"
   },
   "source": "",
   "execution_count": null,
   "outputs": []
  },
  {
   "cell_type": "markdown",
   "source": "### Descomprimir el archivo",
   "metadata": {
    "cell_id": "00009-ac387757-9afa-48b5-8730-21781e51595d",
    "deepnote_cell_type": "markdown"
   }
  },
  {
   "cell_type": "code",
   "metadata": {
    "cell_id": "00010-9847b670-c769-4941-9945-726d3f740ae6",
    "deepnote_cell_type": "code"
   },
   "source": "",
   "execution_count": null,
   "outputs": []
  },
  {
   "cell_type": "markdown",
   "source": "### Construir DataFrame",
   "metadata": {
    "cell_id": "00011-8d6965c9-69ca-4e85-b5b8-085c6598fafd",
    "deepnote_cell_type": "markdown"
   }
  },
  {
   "cell_type": "code",
   "metadata": {
    "cell_id": "00012-fd99a171-75de-43dc-b183-f78e60f4932c",
    "deepnote_cell_type": "code"
   },
   "source": "",
   "execution_count": null,
   "outputs": []
  },
  {
   "cell_type": "markdown",
   "source": "# Limpieza y manipulación de datos",
   "metadata": {
    "cell_id": "00013-95a3f656-055b-4db9-bf4a-217e8ad7476a",
    "deepnote_cell_type": "markdown"
   }
  },
  {
   "cell_type": "markdown",
   "source": "## Quitar datos duplicados o irrelevantes",
   "metadata": {
    "cell_id": "00014-ee99990d-549f-49c0-b710-e15edd16fdd7",
    "deepnote_cell_type": "markdown"
   }
  },
  {
   "cell_type": "code",
   "metadata": {
    "cell_id": "00015-bc3d2708-7738-4864-8dc5-b19878a6811b",
    "deepnote_cell_type": "code"
   },
   "source": "",
   "execution_count": null,
   "outputs": []
  },
  {
   "cell_type": "markdown",
   "source": "## Arreglar errores estructurales",
   "metadata": {
    "cell_id": "00016-61d6d537-051a-45c3-9464-2c7444413533",
    "deepnote_cell_type": "markdown"
   }
  },
  {
   "cell_type": "code",
   "metadata": {
    "cell_id": "00017-b7262638-57a6-450e-a589-5a49915841cc",
    "deepnote_cell_type": "code"
   },
   "source": "",
   "execution_count": null,
   "outputs": []
  },
  {
   "cell_type": "markdown",
   "source": "### Definir errores\n\nRecuerda hacer una exploración de datos para encontrar estos errores. Os confirmo que hay unos cuantos!",
   "metadata": {
    "cell_id": "00018-0093439c-5432-461f-9b4b-34ca6e40b6b8",
    "deepnote_cell_type": "markdown"
   }
  },
  {
   "cell_type": "markdown",
   "source": "## Filtrar outliers ",
   "metadata": {
    "cell_id": "00019-38fc6642-64a2-42d1-a408-05dae22afdc8",
    "deepnote_cell_type": "markdown"
   }
  },
  {
   "cell_type": "code",
   "metadata": {
    "cell_id": "00020-19230531-70a2-40ba-8cd4-e7062f3b8a0f",
    "deepnote_cell_type": "code"
   },
   "source": "",
   "execution_count": null,
   "outputs": []
  },
  {
   "cell_type": "markdown",
   "source": "## Lidiar con NANs",
   "metadata": {
    "cell_id": "00021-72eb7e8c-c68f-4171-ae15-6f7a2128d1af",
    "deepnote_cell_type": "markdown"
   }
  },
  {
   "cell_type": "code",
   "metadata": {
    "cell_id": "00022-f31ac6bc-c05d-49da-b3ac-88f5d49f0242",
    "deepnote_cell_type": "code"
   },
   "source": "",
   "execution_count": null,
   "outputs": []
  },
  {
   "cell_type": "markdown",
   "source": "## Validar nuestros datos",
   "metadata": {
    "cell_id": "00023-02a76c91-9ce7-495a-a4d5-4be6644ad626",
    "deepnote_cell_type": "markdown"
   }
  },
  {
   "cell_type": "code",
   "metadata": {
    "cell_id": "00024-d2300374-c97b-4063-8c2b-b38a77630351",
    "deepnote_cell_type": "code"
   },
   "source": "",
   "execution_count": null,
   "outputs": []
  },
  {
   "cell_type": "markdown",
   "source": "# EDA",
   "metadata": {
    "cell_id": "00025-6aa91efc-63d1-4435-9b52-d8cea1413020",
    "deepnote_cell_type": "markdown"
   }
  },
  {
   "cell_type": "markdown",
   "source": "## Cual es el TOP10 de juegos más jugados?",
   "metadata": {
    "cell_id": "00026-7640dbca-e539-4258-a6e0-60217f2733fe",
    "deepnote_cell_type": "markdown"
   }
  },
  {
   "cell_type": "code",
   "metadata": {
    "cell_id": "00027-04e3e19e-73c7-4bc6-af77-fa691def5317",
    "deepnote_cell_type": "code"
   },
   "source": "",
   "execution_count": null,
   "outputs": []
  },
  {
   "cell_type": "markdown",
   "source": "## Cuál es el género de videojuegos más vendido?",
   "metadata": {
    "cell_id": "00028-df5c5367-7369-4cdd-9ea1-80677c416ade",
    "deepnote_cell_type": "markdown"
   }
  },
  {
   "cell_type": "code",
   "metadata": {
    "cell_id": "00029-f82738e1-c73a-4746-aa97-9ff48fbf87cf",
    "deepnote_cell_type": "code"
   },
   "source": "",
   "execution_count": null,
   "outputs": []
  },
  {
   "cell_type": "markdown",
   "source": "## Qué géneros tienen mejores reviews de media?",
   "metadata": {
    "cell_id": "00030-a51ae8eb-741c-4e8f-b51f-403dc778111f",
    "deepnote_cell_type": "markdown"
   }
  },
  {
   "cell_type": "code",
   "metadata": {
    "cell_id": "00031-e38d7095-7b2b-4644-9391-bd9061a42efe",
    "deepnote_cell_type": "code"
   },
   "source": "",
   "execution_count": null,
   "outputs": []
  },
  {
   "cell_type": "markdown",
   "source": "## Cuánto ha ganado el desarrollador que más juegos ha vendido?",
   "metadata": {
    "cell_id": "00032-ccfefe8f-266e-4cf7-9541-1344ca863556",
    "deepnote_cell_type": "markdown"
   }
  },
  {
   "cell_type": "code",
   "metadata": {
    "cell_id": "00033-448798c0-a27b-4704-9bcb-ce2ef3eff1ed",
    "deepnote_cell_type": "code"
   },
   "source": "",
   "execution_count": null,
   "outputs": []
  },
  {
   "cell_type": "markdown",
   "source": "## Cómo afecta a las reviews que un juego sea Early Access?",
   "metadata": {
    "cell_id": "00034-0c115a1c-c875-4bed-b58a-a6e07a1c19ff",
    "deepnote_cell_type": "markdown"
   }
  },
  {
   "cell_type": "code",
   "metadata": {
    "cell_id": "00035-b355fc3c-7662-453a-9704-bef182c326b0",
    "deepnote_cell_type": "code"
   },
   "source": "",
   "execution_count": null,
   "outputs": []
  },
  {
   "cell_type": "markdown",
   "source": "## Cuál es el desarrollador (o desarrolladores) que más tipos de juego y cantidad ha desarrollado?",
   "metadata": {
    "cell_id": "00036-f6cd2fde-7415-4c13-b6a5-677b7879e8dd",
    "deepnote_cell_type": "markdown"
   }
  },
  {
   "cell_type": "code",
   "metadata": {
    "cell_id": "00037-496e3336-a801-4c54-a843-84b1bc610da1",
    "deepnote_cell_type": "code"
   },
   "source": "",
   "execution_count": null,
   "outputs": []
  },
  {
   "cell_type": "markdown",
   "source": "## En qué mes, desde que tenemos datos, se han publicado más juegos?",
   "metadata": {
    "cell_id": "00038-b618cb91-0c4b-449f-a814-4dc3de693506",
    "deepnote_cell_type": "markdown"
   }
  },
  {
   "cell_type": "code",
   "metadata": {
    "cell_id": "00039-1dbe874c-4c47-4235-a0d9-dac3e6ee200f",
    "deepnote_cell_type": "code"
   },
   "source": "",
   "execution_count": null,
   "outputs": []
  },
  {
   "cell_type": "markdown",
   "source": "## Cuántas horas se juega de media a cada tipo de juego mensualmente?",
   "metadata": {
    "cell_id": "00040-d63ad845-f054-483d-a79d-8bab163e77e5",
    "deepnote_cell_type": "markdown"
   }
  },
  {
   "cell_type": "code",
   "metadata": {
    "cell_id": "00041-69855606-1a68-4df6-aa9b-a0c6ba3cfe73",
    "deepnote_cell_type": "code"
   },
   "source": "",
   "execution_count": null,
   "outputs": []
  },
  {
   "cell_type": "markdown",
   "source": "## Los juegos Free to Play tienen mejores o peores reviews?",
   "metadata": {
    "cell_id": "00042-7502935c-f334-4c61-83cf-ead20328da8f",
    "deepnote_cell_type": "markdown"
   }
  },
  {
   "cell_type": "code",
   "metadata": {
    "cell_id": "00043-39409b22-3626-4fb9-b380-867d9afd9d7e",
    "deepnote_cell_type": "code"
   },
   "source": "",
   "execution_count": null,
   "outputs": []
  },
  {
   "cell_type": "markdown",
   "source": "## Cómo ha evolucionado el número de achievements (trofeos) por juego?",
   "metadata": {
    "cell_id": "00044-6556c70e-3fa2-48dd-920a-3eba195f1919",
    "deepnote_cell_type": "markdown"
   }
  },
  {
   "cell_type": "code",
   "metadata": {
    "cell_id": "00045-848fb3da-3f7a-4da4-878f-a98d79981b20",
    "deepnote_cell_type": "code"
   },
   "source": "",
   "execution_count": null,
   "outputs": []
  },
  {
   "cell_type": "markdown",
   "source": "## Bonus! Si tienes curiosidad, y quieres contestar más preguntas, puedes resolverlas aquí mismo!",
   "metadata": {
    "cell_id": "00046-509e5e27-ba98-4b99-9d65-320c98c57589",
    "deepnote_cell_type": "markdown"
   }
  },
  {
   "cell_type": "code",
   "metadata": {
    "cell_id": "00047-aaccc40c-4e3a-4847-9285-4a95e1c59ae1",
    "deepnote_cell_type": "code"
   },
   "source": "",
   "execution_count": null,
   "outputs": []
  },
  {
   "cell_type": "markdown",
   "source": "<a style='text-decoration:none;line-height:16px;display:flex;color:#5B5B62;padding:10px;justify-content:end;' href='https://deepnote.com?utm_source=created-in-deepnote-cell&projectId=d7c5fd95-7b78-43ee-8bac-dfafdd1bd85a' target=\"_blank\">\n<img alt='Created in deepnote.com' style='display:inline;max-height:16px;margin:0px;margin-right:7.5px;' src='data:image/svg+xml;base64,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' > </img>\nCreated in <span style='font-weight:600;margin-left:4px;'>Deepnote</span></a>",
   "metadata": {
    "tags": [],
    "created_in_deepnote_cell": true,
    "deepnote_cell_type": "markdown"
   }
  }
 ],
 "nbformat": 4,
 "nbformat_minor": 5,
 "metadata": {
  "kernelspec": {
   "display_name": "Python 3 (ipykernel)",
   "language": "python",
   "name": "python3"
  },
  "language_info": {
   "codemirror_mode": {
    "name": "ipython",
    "version": 3
   },
   "file_extension": ".py",
   "mimetype": "text/x-python",
   "name": "python",
   "nbconvert_exporter": "python",
   "pygments_lexer": "ipython3",
   "version": "3.9.12"
  },
  "toc": {
   "base_numbering": 1,
   "nav_menu": {},
   "number_sections": true,
   "sideBar": true,
   "skip_h1_title": false,
   "title_cell": "Table of Contents",
   "title_sidebar": "Contents",
   "toc_cell": false,
   "toc_position": {
    "height": "calc(100% - 180px)",
    "left": "10px",
    "top": "150px",
    "width": "409.6px"
   },
   "toc_section_display": true,
   "toc_window_display": true
  },
  "deepnote_notebook_id": "6c9df31d-0663-4b6b-8e20-f0d5a0168bf3",
  "deepnote": {},
  "deepnote_execution_queue": []
 }
}