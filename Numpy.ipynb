{
 "cells": [
  {
   "cell_type": "code",
   "execution_count": 35,
   "id": "f74f02d0",
   "metadata": {},
   "outputs": [],
   "source": [
    "import numpy as np"
   ]
  },
  {
   "cell_type": "code",
   "execution_count": 36,
   "id": "c6e96a12",
   "metadata": {},
   "outputs": [
    {
     "data": {
      "text/plain": [
       "3.0"
      ]
     },
     "execution_count": 36,
     "metadata": {},
     "output_type": "execute_result"
    }
   ],
   "source": [
    "np.sqrt(9)"
   ]
  },
  {
   "cell_type": "markdown",
   "id": "e91147d4",
   "metadata": {},
   "source": [
    "# Arrays"
   ]
  },
  {
   "cell_type": "markdown",
   "id": "160dfc07",
   "metadata": {},
   "source": [
    "## np.array()"
   ]
  },
  {
   "cell_type": "code",
   "execution_count": 37,
   "id": "b4cd6c23",
   "metadata": {},
   "outputs": [
    {
     "data": {
      "text/plain": [
       "list"
      ]
     },
     "execution_count": 37,
     "metadata": {},
     "output_type": "execute_result"
    }
   ],
   "source": [
    "a = [0, 1, 2, 3, 4, 5]\n",
    "type(a)"
   ]
  },
  {
   "cell_type": "code",
   "execution_count": 38,
   "id": "8d3ced81",
   "metadata": {},
   "outputs": [
    {
     "data": {
      "text/plain": [
       "numpy.ndarray"
      ]
     },
     "execution_count": 38,
     "metadata": {},
     "output_type": "execute_result"
    }
   ],
   "source": [
    "type(np.array(a))"
   ]
  },
  {
   "cell_type": "markdown",
   "id": "3a3bdcd3",
   "metadata": {},
   "source": [
    "## np.arange()"
   ]
  },
  {
   "cell_type": "code",
   "execution_count": 39,
   "id": "ed5e2c7e",
   "metadata": {
    "scrolled": true
   },
   "outputs": [
    {
     "name": "stdout",
     "output_type": "stream",
     "text": [
      "[ 4  6  8 10 12 14 16 18 20 22]\n"
     ]
    }
   ],
   "source": [
    "b = np.arange(4, 24, 2)\n",
    "print(b)"
   ]
  },
  {
   "cell_type": "markdown",
   "id": "3d5562f7",
   "metadata": {},
   "source": [
    "## np.linspace()"
   ]
  },
  {
   "cell_type": "code",
   "execution_count": 40,
   "id": "b55a15ce",
   "metadata": {},
   "outputs": [
    {
     "name": "stdout",
     "output_type": "stream",
     "text": [
      "[ 1.  7. 13. 19. 25.]\n"
     ]
    }
   ],
   "source": [
    "c = np.linspace(1, 25, 5) \n",
    "print(c)"
   ]
  },
  {
   "cell_type": "code",
   "execution_count": 41,
   "id": "15d04ad1",
   "metadata": {},
   "outputs": [],
   "source": [
    "## np.zeros()"
   ]
  },
  {
   "cell_type": "code",
   "execution_count": 42,
   "id": "a84f4a4d",
   "metadata": {},
   "outputs": [
    {
     "name": "stdout",
     "output_type": "stream",
     "text": [
      "[0. 0. 0. 0. 0. 0. 0. 0. 0. 0. 0. 0. 0. 0. 0. 0. 0. 0. 0. 0. 0. 0. 0. 0.\n",
      " 0. 0. 0. 0. 0. 0. 0. 0. 0. 0. 0. 0. 0. 0. 0. 0. 0. 0. 0. 0. 0. 0. 0. 0.\n",
      " 0. 0.]\n"
     ]
    }
   ],
   "source": [
    "d = np.zeros(50)\n",
    "print(d)"
   ]
  },
  {
   "cell_type": "markdown",
   "id": "2d4b1a7c",
   "metadata": {},
   "source": [
    "## np.ones"
   ]
  },
  {
   "cell_type": "code",
   "execution_count": 43,
   "id": "4b48df41",
   "metadata": {},
   "outputs": [
    {
     "name": "stdout",
     "output_type": "stream",
     "text": [
      "[1. 1. 1. 1. 1. 1. 1. 1. 1. 1. 1. 1. 1. 1. 1. 1. 1. 1. 1. 1. 1. 1. 1. 1.\n",
      " 1. 1. 1. 1. 1. 1. 1. 1. 1. 1. 1. 1. 1. 1. 1. 1. 1. 1. 1. 1. 1. 1. 1. 1.\n",
      " 1. 1.]\n"
     ]
    }
   ],
   "source": [
    "e = np.ones(50)\n",
    "print(e)"
   ]
  },
  {
   "cell_type": "markdown",
   "id": "af87eb79",
   "metadata": {},
   "source": [
    "# Dimenciones"
   ]
  },
  {
   "cell_type": "code",
   "execution_count": 44,
   "id": "0a950355",
   "metadata": {
    "scrolled": true
   },
   "outputs": [
    {
     "data": {
      "text/plain": [
       "array([[0., 0., 0., 0., 0., 0., 0., 0., 0., 0., 0., 0., 0., 0., 0., 0.,\n",
       "        0., 0., 0., 0., 0., 0., 0., 0., 0., 0., 0., 0., 0., 0., 0., 0.,\n",
       "        0., 0., 0., 0., 0., 0., 0., 0., 0., 0., 0., 0., 0., 0., 0., 0.,\n",
       "        0., 0.],\n",
       "       [1., 1., 1., 1., 1., 1., 1., 1., 1., 1., 1., 1., 1., 1., 1., 1.,\n",
       "        1., 1., 1., 1., 1., 1., 1., 1., 1., 1., 1., 1., 1., 1., 1., 1.,\n",
       "        1., 1., 1., 1., 1., 1., 1., 1., 1., 1., 1., 1., 1., 1., 1., 1.,\n",
       "        1., 1.]])"
      ]
     },
     "execution_count": 44,
     "metadata": {},
     "output_type": "execute_result"
    }
   ],
   "source": [
    "array_2d = np.array([d,e])\n",
    "array_2d"
   ]
  },
  {
   "cell_type": "code",
   "execution_count": 45,
   "id": "fcb75e55",
   "metadata": {
    "scrolled": true
   },
   "outputs": [
    {
     "name": "stdout",
     "output_type": "stream",
     "text": [
      "[[0. 0. 0. 0. 0. 0. 0. 0. 0. 0. 0. 0. 0. 0. 0. 0. 0. 0. 0. 0. 0. 0. 0. 0.\n",
      "  0. 0. 0. 0. 0. 0. 0. 0. 0. 0. 0. 0. 0. 0. 0. 0. 0. 0. 0. 0. 0. 0. 0. 0.\n",
      "  0. 0.]\n",
      " [1. 1. 1. 1. 1. 1. 1. 1. 1. 1. 1. 1. 1. 1. 1. 1. 1. 1. 1. 1. 1. 1. 1. 1.\n",
      "  1. 1. 1. 1. 1. 1. 1. 1. 1. 1. 1. 1. 1. 1. 1. 1. 1. 1. 1. 1. 1. 1. 1. 1.\n",
      "  1. 1.]]\n"
     ]
    }
   ],
   "source": [
    "print(array_2d)"
   ]
  },
  {
   "cell_type": "markdown",
   "id": "a04c1ac4",
   "metadata": {},
   "source": [
    "## array.shape"
   ]
  },
  {
   "cell_type": "code",
   "execution_count": 46,
   "id": "c2efd149",
   "metadata": {},
   "outputs": [
    {
     "data": {
      "text/plain": [
       "(2, 50)"
      ]
     },
     "execution_count": 46,
     "metadata": {},
     "output_type": "execute_result"
    }
   ],
   "source": [
    "array_2d.shape"
   ]
  },
  {
   "cell_type": "markdown",
   "id": "89db07f7",
   "metadata": {},
   "source": [
    "## array.size"
   ]
  },
  {
   "cell_type": "code",
   "execution_count": 47,
   "id": "fa505d54",
   "metadata": {
    "scrolled": true
   },
   "outputs": [
    {
     "data": {
      "text/plain": [
       "100"
      ]
     },
     "execution_count": 47,
     "metadata": {},
     "output_type": "execute_result"
    }
   ],
   "source": [
    "array_2d.size"
   ]
  },
  {
   "cell_type": "markdown",
   "id": "1d45cb18",
   "metadata": {},
   "source": [
    "## array.ndim"
   ]
  },
  {
   "cell_type": "code",
   "execution_count": 48,
   "id": "ef64bba3",
   "metadata": {},
   "outputs": [
    {
     "data": {
      "text/plain": [
       "2"
      ]
     },
     "execution_count": 48,
     "metadata": {},
     "output_type": "execute_result"
    }
   ],
   "source": [
    "array_2d.ndim"
   ]
  },
  {
   "cell_type": "markdown",
   "id": "5ab43b4b",
   "metadata": {},
   "source": [
    "## Operacciones ccon arrays"
   ]
  },
  {
   "cell_type": "code",
   "execution_count": 49,
   "id": "aeae3855",
   "metadata": {},
   "outputs": [],
   "source": [
    "lista_1 = [1, 2, 3]\n",
    "lista_2 = [4, 5, 6]"
   ]
  },
  {
   "cell_type": "code",
   "execution_count": 50,
   "id": "3a27ead5",
   "metadata": {},
   "outputs": [],
   "source": [
    "array_1 = np.array(lista_1)\n",
    "array_2 = np.array(lista_2)"
   ]
  },
  {
   "cell_type": "code",
   "execution_count": 51,
   "id": "9857ecd0",
   "metadata": {},
   "outputs": [
    {
     "name": "stdout",
     "output_type": "stream",
     "text": [
      "533 ns ± 2.21 ns per loop (mean ± std. dev. of 7 runs, 1,000,000 loops each)\n"
     ]
    }
   ],
   "source": [
    "%%timeit\n",
    "\n",
    "array_1 * array_2"
   ]
  },
  {
   "cell_type": "code",
   "execution_count": 52,
   "id": "9ca93439",
   "metadata": {},
   "outputs": [],
   "source": [
    "lista_1 = [1, 2, 3]\n",
    "\n",
    "lista_2 = [4, 5, 6]"
   ]
  },
  {
   "cell_type": "code",
   "execution_count": 53,
   "id": "731adcb8",
   "metadata": {},
   "outputs": [
    {
     "name": "stdout",
     "output_type": "stream",
     "text": [
      "556 ns ± 3.52 ns per loop (mean ± std. dev. of 7 runs, 1,000,000 loops each)\n"
     ]
    }
   ],
   "source": [
    "%%timeit\n",
    "[ num1*num2 for num1, num2 in zip(lista_1, lista_2)]"
   ]
  },
  {
   "cell_type": "markdown",
   "id": "ebaf4251",
   "metadata": {},
   "source": [
    "# Funciones"
   ]
  },
  {
   "cell_type": "markdown",
   "id": "7dca74e5",
   "metadata": {},
   "source": [
    "## np.reshape()"
   ]
  },
  {
   "cell_type": "code",
   "execution_count": 54,
   "id": "78ea2c1b",
   "metadata": {},
   "outputs": [
    {
     "data": {
      "text/plain": [
       "(2, 50)"
      ]
     },
     "execution_count": 54,
     "metadata": {},
     "output_type": "execute_result"
    }
   ],
   "source": [
    "array_2d.shape"
   ]
  },
  {
   "cell_type": "code",
   "execution_count": 55,
   "id": "d9978cba",
   "metadata": {},
   "outputs": [
    {
     "data": {
      "text/plain": [
       "<function ndarray.reshape>"
      ]
     },
     "execution_count": 55,
     "metadata": {},
     "output_type": "execute_result"
    }
   ],
   "source": [
    "array_2d.reshape"
   ]
  },
  {
   "cell_type": "code",
   "execution_count": 56,
   "id": "2d661510",
   "metadata": {},
   "outputs": [],
   "source": [
    "f = np.reshape(array_2d, (5, 20))"
   ]
  },
  {
   "cell_type": "code",
   "execution_count": 57,
   "id": "29d525ac",
   "metadata": {},
   "outputs": [
    {
     "data": {
      "text/plain": [
       "array([[0., 0., 0., 0., 0., 0., 0., 0., 0., 0., 0., 0., 0., 0., 0., 0.,\n",
       "        0., 0., 0., 0.],\n",
       "       [0., 0., 0., 0., 0., 0., 0., 0., 0., 0., 0., 0., 0., 0., 0., 0.,\n",
       "        0., 0., 0., 0.],\n",
       "       [0., 0., 0., 0., 0., 0., 0., 0., 0., 0., 1., 1., 1., 1., 1., 1.,\n",
       "        1., 1., 1., 1.],\n",
       "       [1., 1., 1., 1., 1., 1., 1., 1., 1., 1., 1., 1., 1., 1., 1., 1.,\n",
       "        1., 1., 1., 1.],\n",
       "       [1., 1., 1., 1., 1., 1., 1., 1., 1., 1., 1., 1., 1., 1., 1., 1.,\n",
       "        1., 1., 1., 1.]])"
      ]
     },
     "execution_count": 57,
     "metadata": {},
     "output_type": "execute_result"
    }
   ],
   "source": [
    "f"
   ]
  },
  {
   "cell_type": "markdown",
   "id": "66d779dc",
   "metadata": {},
   "source": [
    "## array.T"
   ]
  },
  {
   "cell_type": "code",
   "execution_count": 58,
   "id": "0b6e09a7",
   "metadata": {
    "scrolled": true
   },
   "outputs": [
    {
     "data": {
      "text/plain": [
       "array([[ 1,  2,  3,  4,  5],\n",
       "       [10, 20, 30, 40, 50]])"
      ]
     },
     "execution_count": 58,
     "metadata": {},
     "output_type": "execute_result"
    }
   ],
   "source": [
    "a = np.array([[1, 2, 3, 4, 5], [10, 20, 30, 40, 50]])\n",
    "a"
   ]
  },
  {
   "cell_type": "code",
   "execution_count": 59,
   "id": "b62832dd",
   "metadata": {},
   "outputs": [
    {
     "data": {
      "text/plain": [
       "array([[ 1, 10],\n",
       "       [ 2, 20],\n",
       "       [ 3, 30],\n",
       "       [ 4, 40],\n",
       "       [ 5, 50]])"
      ]
     },
     "execution_count": 59,
     "metadata": {},
     "output_type": "execute_result"
    }
   ],
   "source": [
    "a.T"
   ]
  },
  {
   "cell_type": "markdown",
   "id": "e2cbb6d1",
   "metadata": {},
   "source": [
    "## np.random"
   ]
  },
  {
   "cell_type": "markdown",
   "id": "4ef6a8c7",
   "metadata": {},
   "source": [
    "### np.random.randint"
   ]
  },
  {
   "cell_type": "code",
   "execution_count": 60,
   "id": "11af75cb",
   "metadata": {
    "scrolled": true
   },
   "outputs": [
    {
     "data": {
      "text/plain": [
       "98"
      ]
     },
     "execution_count": 60,
     "metadata": {},
     "output_type": "execute_result"
    }
   ],
   "source": [
    "np.random.randint(0, 300)"
   ]
  },
  {
   "cell_type": "markdown",
   "id": "d8bfa73f",
   "metadata": {},
   "source": [
    "## np.where"
   ]
  },
  {
   "cell_type": "code",
   "execution_count": 61,
   "id": "b5a386e8",
   "metadata": {
    "scrolled": true
   },
   "outputs": [
    {
     "data": {
      "text/plain": [
       "array([[0., 0., 0., 0., 0., 0., 0., 0., 0., 0., 0., 0., 0., 0., 0., 0.,\n",
       "        0., 0., 0., 0., 0., 0., 0., 0., 0., 0., 0., 0., 0., 0., 0., 0.,\n",
       "        0., 0., 0., 0., 0., 0., 0., 0., 0., 0., 0., 0., 0., 0., 0., 0.,\n",
       "        0., 0.],\n",
       "       [1., 1., 1., 1., 1., 1., 1., 1., 1., 1., 1., 1., 1., 1., 1., 1.,\n",
       "        1., 1., 1., 1., 1., 1., 1., 1., 1., 1., 1., 1., 1., 1., 1., 1.,\n",
       "        1., 1., 1., 1., 1., 1., 1., 1., 1., 1., 1., 1., 1., 1., 1., 1.,\n",
       "        1., 1.]])"
      ]
     },
     "execution_count": 61,
     "metadata": {},
     "output_type": "execute_result"
    }
   ],
   "source": [
    "array_2d"
   ]
  },
  {
   "cell_type": "code",
   "execution_count": 62,
   "id": "1fd29620",
   "metadata": {},
   "outputs": [
    {
     "data": {
      "text/plain": [
       "(array([1, 1, 1, 1, 1, 1, 1, 1, 1, 1, 1, 1, 1, 1, 1, 1, 1, 1, 1, 1, 1, 1,\n",
       "        1, 1, 1, 1, 1, 1, 1, 1, 1, 1, 1, 1, 1, 1, 1, 1, 1, 1, 1, 1, 1, 1,\n",
       "        1, 1, 1, 1, 1, 1], dtype=int64),\n",
       " array([ 0,  1,  2,  3,  4,  5,  6,  7,  8,  9, 10, 11, 12, 13, 14, 15, 16,\n",
       "        17, 18, 19, 20, 21, 22, 23, 24, 25, 26, 27, 28, 29, 30, 31, 32, 33,\n",
       "        34, 35, 36, 37, 38, 39, 40, 41, 42, 43, 44, 45, 46, 47, 48, 49],\n",
       "       dtype=int64))"
      ]
     },
     "execution_count": 62,
     "metadata": {},
     "output_type": "execute_result"
    }
   ],
   "source": [
    "np.where(array_2d)"
   ]
  },
  {
   "cell_type": "code",
   "execution_count": 63,
   "id": "b6289a79",
   "metadata": {},
   "outputs": [
    {
     "data": {
      "text/plain": [
       "array([[-5., -5., -5., -5., -5., -5., -5., -5., -5., -5., -5., -5., -5.,\n",
       "        -5., -5., -5., -5., -5., -5., -5., -5., -5., -5., -5., -5., -5.,\n",
       "        -5., -5., -5., -5., -5., -5., -5., -5., -5., -5., -5., -5., -5.,\n",
       "        -5., -5., -5., -5., -5., -5., -5., -5., -5., -5., -5.],\n",
       "       [10., 10., 10., 10., 10., 10., 10., 10., 10., 10., 10., 10., 10.,\n",
       "        10., 10., 10., 10., 10., 10., 10., 10., 10., 10., 10., 10., 10.,\n",
       "        10., 10., 10., 10., 10., 10., 10., 10., 10., 10., 10., 10., 10.,\n",
       "        10., 10., 10., 10., 10., 10., 10., 10., 10., 10., 10.]])"
      ]
     },
     "execution_count": 63,
     "metadata": {},
     "output_type": "execute_result"
    }
   ],
   "source": [
    "np.where(array_2d == 1, \n",
    "         array_2d * 10, \n",
    "         array_2d -5)"
   ]
  },
  {
   "cell_type": "markdown",
   "id": "08e576d0",
   "metadata": {},
   "source": [
    "# Estadistica"
   ]
  },
  {
   "cell_type": "markdown",
   "id": "1599f311",
   "metadata": {},
   "source": [
    "## Distribuciones numericas"
   ]
  },
  {
   "cell_type": "code",
   "execution_count": 64,
   "id": "2b79ff05",
   "metadata": {},
   "outputs": [],
   "source": [
    "array_normal = np.random.normal(1.75, \n",
    "                                0.05, \n",
    "                                1000000)"
   ]
  },
  {
   "cell_type": "code",
   "execution_count": 65,
   "id": "6427b186",
   "metadata": {},
   "outputs": [
    {
     "data": {
      "text/plain": [
       "array([1.64230918, 1.74304168, 1.7756266 , ..., 1.71283544, 1.76231847,\n",
       "       1.70563882])"
      ]
     },
     "execution_count": 65,
     "metadata": {},
     "output_type": "execute_result"
    }
   ],
   "source": [
    "array_normal"
   ]
  },
  {
   "cell_type": "markdown",
   "id": "aa467225",
   "metadata": {},
   "source": [
    "## np.mean"
   ]
  },
  {
   "cell_type": "code",
   "execution_count": 66,
   "id": "d1f5270e",
   "metadata": {
    "scrolled": true
   },
   "outputs": [
    {
     "data": {
      "text/plain": [
       "1.7500044811407929"
      ]
     },
     "execution_count": 66,
     "metadata": {},
     "output_type": "execute_result"
    }
   ],
   "source": [
    "np.mean(array_normal)"
   ]
  },
  {
   "cell_type": "markdown",
   "id": "8a2d261a",
   "metadata": {},
   "source": [
    "## np.median"
   ]
  },
  {
   "cell_type": "code",
   "execution_count": 67,
   "id": "657908c8",
   "metadata": {},
   "outputs": [
    {
     "data": {
      "text/plain": [
       "1.7500233647262746"
      ]
     },
     "execution_count": 67,
     "metadata": {},
     "output_type": "execute_result"
    }
   ],
   "source": [
    "np.median(array_normal)"
   ]
  },
  {
   "cell_type": "markdown",
   "id": "cc5af2fb",
   "metadata": {},
   "source": [
    "## np.std"
   ]
  },
  {
   "cell_type": "code",
   "execution_count": 68,
   "id": "d3d23fb8",
   "metadata": {},
   "outputs": [
    {
     "data": {
      "text/plain": [
       "0.050037768318346665"
      ]
     },
     "execution_count": 68,
     "metadata": {},
     "output_type": "execute_result"
    }
   ],
   "source": [
    "np.std(array_normal)"
   ]
  }
 ],
 "metadata": {
  "kernelspec": {
   "display_name": "Python 3 (ipykernel)",
   "language": "python",
   "name": "python3"
  },
  "language_info": {
   "codemirror_mode": {
    "name": "ipython",
    "version": 3
   },
   "file_extension": ".py",
   "mimetype": "text/x-python",
   "name": "python",
   "nbconvert_exporter": "python",
   "pygments_lexer": "ipython3",
   "version": "3.9.12"
  },
  "toc": {
   "base_numbering": 1,
   "nav_menu": {},
   "number_sections": true,
   "sideBar": true,
   "skip_h1_title": false,
   "title_cell": "Table of Contents",
   "title_sidebar": "Contents",
   "toc_cell": false,
   "toc_position": {},
   "toc_section_display": true,
   "toc_window_display": true
  }
 },
 "nbformat": 4,
 "nbformat_minor": 5
}
