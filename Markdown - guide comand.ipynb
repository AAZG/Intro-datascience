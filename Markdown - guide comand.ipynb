{
 "cells": [
  {
   "cell_type": "markdown",
   "id": "e2e879ca",
   "metadata": {},
   "source": [
    "# Titulo (Heading 1)"
   ]
  },
  {
   "cell_type": "markdown",
   "id": "0098d58d",
   "metadata": {},
   "source": [
    "## Subtitulo (Heading 2)"
   ]
  },
  {
   "cell_type": "markdown",
   "id": "faa46366",
   "metadata": {},
   "source": [
    "### Seccion (Heading 3)"
   ]
  },
  {
   "cell_type": "markdown",
   "id": "1da9f86f",
   "metadata": {},
   "source": [
    "###### Subseccion (Heading 4)"
   ]
  },
  {
   "cell_type": "markdown",
   "id": "0ceebfce",
   "metadata": {},
   "source": [
    "# Titulo (Heading 1)"
   ]
  },
  {
   "cell_type": "markdown",
   "id": "34bf58b8",
   "metadata": {},
   "source": [
    "## Subtitulo (Heading 2)"
   ]
  },
  {
   "cell_type": "markdown",
   "id": "a152fe06",
   "metadata": {},
   "source": [
    "**Texto en negrita**"
   ]
  },
  {
   "cell_type": "markdown",
   "id": "96836e2a",
   "metadata": {},
   "source": [
    "*Texto en cursiva*"
   ]
  },
  {
   "cell_type": "markdown",
   "id": "58fc0f3b",
   "metadata": {},
   "source": [
    "**Texto en negrita** *Texto en cursiva*"
   ]
  },
  {
   "cell_type": "markdown",
   "id": "469ce542",
   "metadata": {},
   "source": [
    "`Esto es una línea de código`"
   ]
  },
  {
   "cell_type": "markdown",
   "id": "50e6fd8c",
   "metadata": {},
   "source": [
    "> blockquote"
   ]
  },
  {
   "cell_type": "markdown",
   "id": "f9a337ca",
   "metadata": {},
   "source": [
    "1. Primer elemento\n",
    "2. Segundo elemento\n",
    "3. Tercer elemento"
   ]
  },
  {
   "cell_type": "markdown",
   "id": "4cc57f00",
   "metadata": {},
   "source": [
    "- Primer elemento\n",
    "- Segundo elemento\n",
    "- Tercer elemento\n",
    "\n",
    "---\n",
    "\n",
    "- Otra lista\n",
    "- Etc"
   ]
  },
  {
   "cell_type": "markdown",
   "id": "b52c0d6c",
   "metadata": {},
   "source": [
    "[Metemos un link](https://www.materialesdigitales365.com)"
   ]
  },
  {
   "cell_type": "markdown",
   "id": "a5b1b012",
   "metadata": {},
   "source": [
    "![alt text](https://seeklogo.com/images/O/Opeth-logo-F8EC0C8010-seeklogo.com.png)"
   ]
  },
  {
   "cell_type": "markdown",
   "id": "d3b8b2f1-a25b-47ae-901b-c63c844e105b",
   "metadata": {},
   "source": [
    "lluju"
   ]
  }
 ],
 "metadata": {
  "kernelspec": {
   "display_name": "Python 3 (ipykernel)",
   "language": "python",
   "name": "python3"
  },
  "language_info": {
   "codemirror_mode": {
    "name": "ipython",
    "version": 3
   },
   "file_extension": ".py",
   "mimetype": "text/x-python",
   "name": "python",
   "nbconvert_exporter": "python",
   "pygments_lexer": "ipython3",
   "version": "3.9.12"
  },
  "toc": {
   "base_numbering": 1,
   "nav_menu": {},
   "number_sections": true,
   "sideBar": true,
   "skip_h1_title": false,
   "title_cell": "Table of Contents",
   "title_sidebar": "Contents",
   "toc_cell": false,
   "toc_position": {
    "height": "calc(100% - 180px)",
    "left": "10px",
    "top": "150px",
    "width": "258.308px"
   },
   "toc_section_display": true,
   "toc_window_display": true
  }
 },
 "nbformat": 4,
 "nbformat_minor": 5
}
