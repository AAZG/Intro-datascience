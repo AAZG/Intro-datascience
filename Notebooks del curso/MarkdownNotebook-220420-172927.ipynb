{
 "cells": [
  {
   "cell_type": "markdown",
   "id": "33e904d8",
   "metadata": {},
   "source": [
    "![](https://import.cdn.thinkific.com/220744/BExaQBPPQairRWFqxFbK_logo_mastermind_web_png)"
   ]
  },
  {
   "cell_type": "markdown",
   "id": "dc8a12ed",
   "metadata": {},
   "source": [
    "¡Bienvenid@s a este curso de Introducción a la Ciencia de Datos de **Mastermind**!  \n",
    "\n",
    "> Ten en cuenta que recomendamos ver todos los vídeos hasta este punto del curso, y realizar los tests antes de revisar el Notebook. ¡Esto aplica a éste y siguientes Notebooks!\n",
    "\n",
    "En este primer *Notebook* exploraremos algunas funcionalidades de **Markdown**, un lenguaje de formato de texto basado en HTML que podremos utilizar en nuestro Notebook de forma muy sencilla.\n",
    "\n",
    "**Muy importante** - Para poder generar contenido en formato **Markdown** es necesario asignar el formato *Markdown* a la celda donde se esté trabajando. Se puede hacer:\n",
    "- Con el menú desplegable en la barra de tareas (indicando *Markdown*) o \n",
    "- Pulsando la tecla `m` en el modo *edit* de la celda (cuando la barra que está a su izquierda está en color azul, haciendo click fuera del recuadro de la propia celda)\n",
    "\n",
    "\n",
    "\n"
   ]
  },
  {
   "cell_type": "markdown",
   "id": "7bf2a954",
   "metadata": {},
   "source": [
    "Lo primero que vamos a mirar es cómo generar apartados, ya que ayuda organizar nuestro *Notebook*. Lo primero que hay que saber es que estos apartados se llaman `headings`, y están organizados por números, del 1 al 4. El `heading` de nivel 1 es el nivel más alto, y va descendiendo a medida que se reduce éste nivel. \n",
    "\n",
    "Para colocar un `heading`, se debe introducir la cantidad de numerales (`#`) correspondiendo al nivel **al inicio** de la celda.  \n",
    "\n",
    "Por ejemplo: Un `heading` nivel 1 se escribirá: `# Título`, como en la celda inferior:"
   ]
  },
  {
   "cell_type": "markdown",
   "id": "3cb7e913",
   "metadata": {},
   "source": [
    "# Título (Heading 1)"
   ]
  },
  {
   "cell_type": "markdown",
   "id": "d82bbc67",
   "metadata": {},
   "source": [
    "Los niveles de los `headings` se van ramificando a medida que los vamos introduciendo, permitiendo comprimir todo el bloque de celdas que haya debajo de éste:"
   ]
  },
  {
   "cell_type": "markdown",
   "id": "d10cf59d",
   "metadata": {},
   "source": [
    "## Subtítulo (Heading 2)"
   ]
  },
  {
   "cell_type": "markdown",
   "id": "ede9a659",
   "metadata": {},
   "source": [
    "Aquí puedes probar a contraer o expandir los títulos para ocultar el contenido, usando la flechita a la izquierda de cada `heading`."
   ]
  },
  {
   "cell_type": "markdown",
   "id": "b1d3c4a6",
   "metadata": {},
   "source": [
    "### Sección (Heading 3)"
   ]
  },
  {
   "cell_type": "markdown",
   "id": "7a698f98",
   "metadata": {},
   "source": [
    "## Subtítulo 2 (Heading 2)"
   ]
  },
  {
   "cell_type": "markdown",
   "id": "2fe4ce95",
   "metadata": {},
   "source": [
    "#### Subsección (Heading 4)"
   ]
  },
  {
   "cell_type": "markdown",
   "id": "cb623ed3",
   "metadata": {},
   "source": [
    "Usando más de cuatro numerales (`#`) construiremos 'apartados' que no irán numerados, pero cumplen la misma función que los `headings`, como se muestra en la celda inferior:"
   ]
  },
  {
   "cell_type": "markdown",
   "id": "681cd6ab",
   "metadata": {},
   "source": [
    "##### Apartado"
   ]
  },
  {
   "cell_type": "markdown",
   "id": "957ac3bd",
   "metadata": {},
   "source": [
    "##### Apartado 2"
   ]
  },
  {
   "cell_type": "markdown",
   "id": "6ae32792",
   "metadata": {},
   "source": [
    "**IMPORTANTE**: Los `headings` permiten crear divisiones en nuestro `Table of Contents`, la extensión que hemos activado al inicio del curso. Este *índice* puede activarse y desactivarse usando éste icono en la barra de herramientas:"
   ]
  },
  {
   "attachments": {},
   "cell_type": "markdown",
   "id": "d22c7dcc",
   "metadata": {},
   "source": [
    "![](https://i.imgur.com/mkY4zGj.png)"
   ]
  },
  {
   "cell_type": "markdown",
   "id": "ce7cbd90",
   "metadata": {},
   "source": [
    "Desde este `Table of Contents` podemos hacer click en los títulos para navegar directamente a esa sección del *Notebook*, muy útil para *Notebooks* muy largos."
   ]
  },
  {
   "cell_type": "markdown",
   "id": "d2bbdda8",
   "metadata": {},
   "source": [
    "# Formatos"
   ]
  },
  {
   "cell_type": "markdown",
   "id": "cd5148b9",
   "metadata": {},
   "source": [
    "Con **Markdown** podemos formatear nuestro texto de manera facilísima usando los siguientes formatos.  \n",
    "_(doble click sobre la celda para visualizarlo)_:"
   ]
  },
  {
   "cell_type": "markdown",
   "id": "f72fc92b",
   "metadata": {},
   "source": [
    "**Texto en negrita**"
   ]
  },
  {
   "cell_type": "markdown",
   "id": "125ff9fe",
   "metadata": {},
   "source": [
    "*Texto en cursiva*"
   ]
  },
  {
   "cell_type": "markdown",
   "id": "3d180ad9",
   "metadata": {},
   "source": [
    "`Formato para indicar código`"
   ]
  },
  {
   "cell_type": "markdown",
   "id": "8f04cc61",
   "metadata": {},
   "source": [
    "Citar frases:\n",
    "    \n",
    "> pues me sobraba una rtx 6090 que tenia por ahi y un ryzen 18000 y decidi montarme un pc.  \n",
    "Nate Gentile, 2022\n",
    "\n",
    "*Gracias **@Nannachi** por la inspiración*"
   ]
  },
  {
   "cell_type": "markdown",
   "id": "dfcac6a7",
   "metadata": {},
   "source": [
    "Listas ordenadas!\n",
    "\n",
    "1. Primer elemento\n",
    "2. Segundo elemento\n",
    "3. Tercer elemento"
   ]
  },
  {
   "cell_type": "markdown",
   "id": "5c89b78a",
   "metadata": {},
   "source": [
    "O listas no ordenadas!\n",
    "\n",
    "- Primer elemento\n",
    "- Segundo elemento\n",
    "- Tercer elemento"
   ]
  },
  {
   "cell_type": "markdown",
   "id": "cb8d95c4",
   "metadata": {},
   "source": [
    "Podemos **mezclar** *formatos* `diferentes` _en la misma celda_ sin problema **alguno**!\n",
    "\n",
    "---\n",
    "\n",
    "Incluso:\n",
    "- Mezclar\n",
    "- Listas\n",
    "- En \n",
    "- La\n",
    "- Misma\n",
    "- Celda"
   ]
  },
  {
   "cell_type": "markdown",
   "id": "5070fc57",
   "metadata": {},
   "source": [
    "# Links"
   ]
  },
  {
   "cell_type": "markdown",
   "id": "05a65a5c",
   "metadata": {},
   "source": [
    "Con *Markdown* también podemos introducir [links!](https://www.youtube.com/watch?v=dQw4w9WgXcQ) Puedes hacer click en el texto azul para acceder al contenido."
   ]
  },
  {
   "cell_type": "markdown",
   "id": "c9988f21",
   "metadata": {},
   "source": [
    "Para introducir un link, el formato es el siguiente:\n",
    "    \n",
    "`[Título del link](Dirección del link)`"
   ]
  },
  {
   "cell_type": "markdown",
   "id": "cc88a44c",
   "metadata": {},
   "source": [
    "También podemos introducir imágenes en las celdas, tenemos dos maneras:\n",
    "1. Con la celda en formato Markdown, iremos al menú Edit > Insert Image para introducir una imagen de un archivo local 'fundido' en el Notebook (es decir, dentro del propio archivo de Notebook .ipynb)\n",
    "2. Usando un link, de la misma manera que haríamos con un link normal, pero en este caso añadiendo un '!' antes del título. Ejemplo: `![no introducimos nada](link_imagen)`"
   ]
  },
  {
   "cell_type": "markdown",
   "id": "36eeeb93",
   "metadata": {},
   "source": [
    "![](https://c.tenor.com/y2JXkY1pXkwAAAAM/cat-computer.gif)"
   ]
  },
  {
   "cell_type": "markdown",
   "id": "8d6619a4",
   "metadata": {},
   "source": [
    "Espero que te haya servido esta pequeña guía, nos vemos en el siguiente capítulo!"
   ]
  },
  {
   "cell_type": "markdown",
   "id": "89f6c4b4",
   "metadata": {},
   "source": [
    "![](https://sayingimages.com/wp-content/uploads/thank-you-good-sir-memes.jpg)"
   ]
  }
 ],
 "metadata": {
  "kernelspec": {
   "display_name": "Python 3 (ipykernel)",
   "language": "python",
   "name": "python3"
  },
  "language_info": {
   "codemirror_mode": {
    "name": "ipython",
    "version": 3
   },
   "file_extension": ".py",
   "mimetype": "text/x-python",
   "name": "python",
   "nbconvert_exporter": "python",
   "pygments_lexer": "ipython3",
   "version": "3.9.7"
  },
  "toc": {
   "base_numbering": 1,
   "nav_menu": {},
   "number_sections": true,
   "sideBar": true,
   "skip_h1_title": false,
   "title_cell": "Table of Contents",
   "title_sidebar": "Contents",
   "toc_cell": false,
   "toc_position": {},
   "toc_section_display": true,
   "toc_window_display": false
  }
 },
 "nbformat": 4,
 "nbformat_minor": 5
}
